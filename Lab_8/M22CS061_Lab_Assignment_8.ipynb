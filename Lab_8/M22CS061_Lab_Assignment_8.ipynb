{
  "cells": [
    {
      "cell_type": "code",
      "execution_count": 1,
      "metadata": {
        "id": "2UBV0fk8cpIV"
      },
      "outputs": [],
      "source": [
        "!pip install wandb -q"
      ]
    },
    {
      "cell_type": "markdown",
      "metadata": {
        "id": "fgmIQZPSKAXC"
      },
      "source": [
        "## Import Require Libraries"
      ]
    },
    {
      "cell_type": "code",
      "execution_count": 2,
      "metadata": {
        "id": "dSXoDnGBKlcw"
      },
      "outputs": [],
      "source": [
        "import torch\n",
        "from torch import nn\n",
        "\n",
        "import torchvision\n",
        "from torchvision import models, transforms\n",
        "from torchvision import datasets\n",
        "from torchvision import transforms\n",
        "from torch.utils.data import DataLoader\n",
        "\n",
        "import matplotlib.pyplot as plt\n",
        "import pandas as pd\n",
        "import numpy as np\n",
        "\n",
        "from tqdm.auto import tqdm\n",
        "from timeit import default_timer as timer"
      ]
    },
    {
      "cell_type": "code",
      "execution_count": 3,
      "metadata": {
        "id": "quPiCvU5K2O6"
      },
      "outputs": [],
      "source": [
        "!pip install -q torchmetrics\n",
        "from torchmetrics.classification import MulticlassAccuracy"
      ]
    },
    {
      "cell_type": "code",
      "execution_count": 4,
      "metadata": {
        "colab": {
          "base_uri": "https://localhost:8080/"
        },
        "id": "oNT9z1Aoc4Rd",
        "outputId": "2259e46e-11ed-4346-b2e2-30ccf8f7c013"
      },
      "outputs": [
        {
          "output_type": "stream",
          "name": "stderr",
          "text": [
            "\u001b[34m\u001b[1mwandb\u001b[0m: Currently logged in as: \u001b[33mjashpatel8561\u001b[0m (\u001b[33mmaa_64\u001b[0m). Use \u001b[1m`wandb login --relogin`\u001b[0m to force relogin\n",
            "\u001b[34m\u001b[1mwandb\u001b[0m: \u001b[33mWARNING\u001b[0m If you're specifying your api key in code, ensure this code is not shared publicly.\n",
            "\u001b[34m\u001b[1mwandb\u001b[0m: \u001b[33mWARNING\u001b[0m Consider setting the WANDB_API_KEY environment variable, or running `wandb login` from the command line.\n",
            "\u001b[34m\u001b[1mwandb\u001b[0m: Appending key for api.wandb.ai to your netrc file: /root/.netrc\n"
          ]
        },
        {
          "output_type": "stream",
          "name": "stdout",
          "text": [
            "[LOG]: Login Succesfull.\n"
          ]
        }
      ],
      "source": [
        "import wandb\n",
        "\n",
        "API_KEY = '881252af31786a1cf813449b9b4124955f54703e'\n",
        "\n",
        "wandb.login(key=API_KEY)\n",
        "print(\"[LOG]: Login Succesfull.\")"
      ]
    },
    {
      "cell_type": "markdown",
      "metadata": {
        "id": "MNAGsol0K3pb"
      },
      "source": [
        "## Device agnostic code"
      ]
    },
    {
      "cell_type": "code",
      "execution_count": 5,
      "metadata": {
        "colab": {
          "base_uri": "https://localhost:8080/",
          "height": 35
        },
        "id": "lOe6IwB6K7mR",
        "outputId": "886bc815-27af-4134-ba6b-ab7450e58ca1"
      },
      "outputs": [
        {
          "output_type": "execute_result",
          "data": {
            "text/plain": [
              "'cuda'"
            ],
            "application/vnd.google.colaboratory.intrinsic+json": {
              "type": "string"
            }
          },
          "metadata": {},
          "execution_count": 5
        }
      ],
      "source": [
        "# device agnostic code\n",
        "device = 'cuda' if torch.cuda.is_available() else 'cpu'\n",
        "device"
      ]
    },
    {
      "cell_type": "markdown",
      "metadata": {
        "id": "omeDeKfAK767"
      },
      "source": [
        "## Load Data"
      ]
    },
    {
      "cell_type": "code",
      "execution_count": 6,
      "metadata": {
        "id": "C1CXD-EsOdKQ"
      },
      "outputs": [],
      "source": [
        "transform = transforms.Compose([\n",
        "                                transforms.Resize((32, 32)),\n",
        "                                transforms.ToTensor()\n",
        "                              ])\n",
        "\n",
        "aug_trasform = transforms.Compose([\n",
        "                                   transforms.Resize((32, 32)),\n",
        "                                   transforms.RandomRotation(15),\n",
        "                                   transforms.RandomCrop(10),\n",
        "                                   transforms.ToTensor()\n",
        "                                  ])"
      ]
    },
    {
      "cell_type": "code",
      "execution_count": 7,
      "metadata": {
        "id": "yWQnYMx6K_nF"
      },
      "outputs": [],
      "source": [
        "train_dataset = datasets.FashionMNIST(root = '/data', train = True, transform = transform, download = True)\n",
        "aug_train_dataset = datasets.FashionMNIST(root = '/data', train = True, transform = aug_trasform, download = True)\n",
        "test_dataset = datasets.FashionMNIST(root = '/data', train = False, transform = transform, download = True)"
      ]
    },
    {
      "cell_type": "markdown",
      "metadata": {
        "id": "76KQgyFMRgBe"
      },
      "source": [
        "## get only odd classes"
      ]
    },
    {
      "cell_type": "code",
      "execution_count": 8,
      "metadata": {
        "colab": {
          "base_uri": "https://localhost:8080/"
        },
        "id": "FL0Pi0huRjVW",
        "outputId": "f0b65d85-730a-4f3d-99a9-f187ef26137c"
      },
      "outputs": [
        {
          "output_type": "execute_result",
          "data": {
            "text/plain": [
              "(30000, 5000, 0)"
            ]
          },
          "metadata": {},
          "execution_count": 8
        }
      ],
      "source": [
        "train_list = []\n",
        "train_aug_list = []\n",
        "test_list = []\n",
        "\n",
        "\n",
        "for i, (x,y) in enumerate(train_dataset):\n",
        "  if y % 2 != 0:\n",
        "    train_list.append(train_dataset[i])\n",
        "  # print(train_data[i])\n",
        "  # break\n",
        "\n",
        "# for i, (x,y) in enumerate(aug_train_dataset):\n",
        "#   if y % 2 != 0:\n",
        "#     train_aug_list.append(train_dataset[i])\n",
        "\n",
        "for x,y in test_dataset:\n",
        "  if y % 2 != 0:\n",
        "    test_list.append((x, y))\n",
        "\n",
        "len(train_list), len(test_list), len(train_aug_list)"
      ]
    },
    {
      "cell_type": "code",
      "execution_count": 9,
      "metadata": {
        "id": "LQHDGU6TS6Di"
      },
      "outputs": [],
      "source": [
        "# concate datasets\n",
        "# new_train_data = torch.utils.data.ConcatDataset((train_list, train_aug_list))\n",
        "new_train_data = torch.utils.data.ConcatDataset([train_list])\n",
        "new_test_data = torch.utils.data.ConcatDataset([test_list])"
      ]
    },
    {
      "cell_type": "code",
      "execution_count": 10,
      "metadata": {
        "colab": {
          "base_uri": "https://localhost:8080/"
        },
        "id": "7eFmjvrHS6As",
        "outputId": "c8830ebb-1558-47b6-a2b4-ef960a0fc51d"
      },
      "outputs": [
        {
          "output_type": "execute_result",
          "data": {
            "text/plain": [
              "(30000, 5000)"
            ]
          },
          "metadata": {},
          "execution_count": 10
        }
      ],
      "source": [
        "len(new_train_data), len(new_test_data)"
      ]
    },
    {
      "cell_type": "markdown",
      "metadata": {
        "id": "bYhrVYM5NpJB"
      },
      "source": [
        "## Make dataloader"
      ]
    },
    {
      "cell_type": "code",
      "execution_count": 11,
      "metadata": {
        "id": "0pvS5UomNrsi"
      },
      "outputs": [],
      "source": [
        "BATCH_SIZE = 32\n",
        "train_dataloader = DataLoader(dataset = new_train_data, batch_size = BATCH_SIZE, shuffle = True)\n",
        "test_dataloader = DataLoader(dataset = new_test_data, batch_size = BATCH_SIZE, shuffle = False)"
      ]
    },
    {
      "cell_type": "code",
      "execution_count": 12,
      "metadata": {
        "colab": {
          "base_uri": "https://localhost:8080/"
        },
        "id": "RwFu4dCQTJVe",
        "outputId": "bc26b767-97dc-439b-d0b6-f60d008e8ad6"
      },
      "outputs": [
        {
          "output_type": "stream",
          "name": "stdout",
          "text": [
            "Total 938 of train each of 32 batches.\n",
            "Total 157 of test each of 32 batches.\n"
          ]
        }
      ],
      "source": [
        "print(f'Total {len(train_dataloader)} of train each of {BATCH_SIZE} batches.')\n",
        "print(f'Total {len(test_dataloader)} of test each of {BATCH_SIZE} batches.')"
      ]
    },
    {
      "cell_type": "code",
      "execution_count": 13,
      "metadata": {
        "colab": {
          "base_uri": "https://localhost:8080/"
        },
        "id": "TTv4y3fzOJJ5",
        "outputId": "c2998b31-5415-4143-9055-84883d647f59"
      },
      "outputs": [
        {
          "output_type": "execute_result",
          "data": {
            "text/plain": [
              "['Trouser', 'Dress', 'Sandal', 'Sneaker', 'Ankle boot']"
            ]
          },
          "metadata": {},
          "execution_count": 13
        }
      ],
      "source": [
        "# class name\n",
        "class_names = [train_dataset.classes[i] for i in range(len(train_dataset.classes)) if i % 2 != 0] \n",
        "class_names"
      ]
    },
    {
      "cell_type": "code",
      "execution_count": 14,
      "metadata": {
        "colab": {
          "base_uri": "https://localhost:8080/"
        },
        "id": "2H485tSyQGGp",
        "outputId": "3003de01-96f0-4454-c31f-fb69007e65b9"
      },
      "outputs": [
        {
          "output_type": "execute_result",
          "data": {
            "text/plain": [
              "{'T-shirt/top': 0,\n",
              " 'Trouser': 1,\n",
              " 'Pullover': 2,\n",
              " 'Dress': 3,\n",
              " 'Coat': 4,\n",
              " 'Sandal': 5,\n",
              " 'Shirt': 6,\n",
              " 'Sneaker': 7,\n",
              " 'Bag': 8,\n",
              " 'Ankle boot': 9}"
            ]
          },
          "metadata": {},
          "execution_count": 14
        }
      ],
      "source": [
        "index_cls = train_dataset.class_to_idx\n",
        "index_cls"
      ]
    },
    {
      "cell_type": "code",
      "execution_count": 15,
      "metadata": {
        "colab": {
          "base_uri": "https://localhost:8080/"
        },
        "id": "hDrGqRVqU4gF",
        "outputId": "4bf86edc-75d7-4a50-c745-a591474d784b"
      },
      "outputs": [
        {
          "output_type": "stream",
          "name": "stdout",
          "text": [
            "tensor([7, 3, 7, 5, 1, 3, 9, 5, 7, 1, 3, 3, 1, 3, 9, 3, 9, 3, 5, 1, 7, 9, 5, 9,\n",
            "        3, 3, 9, 5, 9, 7, 9, 1])\n"
          ]
        }
      ],
      "source": [
        "for i, (x,y) in enumerate(train_dataloader):\n",
        "  print(y)\n",
        "  break"
      ]
    },
    {
      "cell_type": "code",
      "execution_count": 16,
      "metadata": {
        "colab": {
          "base_uri": "https://localhost:8080/",
          "height": 487
        },
        "id": "lv6v0gE4OLP5",
        "outputId": "9ea876a2-27bd-4ff7-8525-7427bd90e4f2"
      },
      "outputs": [
        {
          "output_type": "stream",
          "name": "stdout",
          "text": [
            "Image: torch.Size([1, 32, 32])\n"
          ]
        },
        {
          "output_type": "execute_result",
          "data": {
            "text/plain": [
              "Text(0.5, 1.0, 'Ankle boot')"
            ]
          },
          "metadata": {},
          "execution_count": 16
        },
        {
          "output_type": "display_data",
          "data": {
            "text/plain": [
              "<Figure size 640x480 with 1 Axes>"
            ],
            "image/png": "[encoded data removed]"
          },
          "metadata": {}
        }
      ],
      "source": [
        "image, label = new_train_data[0]\n",
        "print(f\"Image: {image.shape}\")\n",
        "plt.imshow(image.permute(1,2,0))\n",
        "plt.title(class_names[label//2])\n",
        "# image"
      ]
    },
    {
      "cell_type": "markdown",
      "metadata": {
        "id": "K9-wKJFbOQFc"
      },
      "source": [
        "## Train and test loop"
      ]
    },
    {
      "cell_type": "code",
      "execution_count": 17,
      "metadata": {
        "id": "DNkMmn1aO0xf"
      },
      "outputs": [],
      "source": [
        "# train\n",
        "def train_loop(model: torch.nn.Module, dataloader: torch.utils.data.DataLoader,\n",
        "               loss_fn: torch.nn.Module, optimizer: torch.optim.Optimizer,\n",
        "               accuracy_fn, device: torch.device = device):\n",
        "  \n",
        "  train_loss, train_acc = 0, 0\n",
        "\n",
        "  model.train()\n",
        "\n",
        "  for batch, (x_train, y_train) in enumerate(dataloader):\n",
        "\n",
        "    Y = []\n",
        "    for i in y_train:\n",
        "      if i.item() % 2 == 0:\n",
        "        Y.append((i.item()//2)+1)\n",
        "      else:\n",
        "        Y.append(i.item()//2)\n",
        "    \n",
        "    y_train = torch.tensor(Y)\n",
        "    if device == 'cuda':\n",
        "      x_train, y_train = x_train.to(device), y_train.to(device)\n",
        "    \n",
        "\n",
        "    # 1. Forward step\n",
        "    pred = model(x_train)\n",
        "\n",
        "    # 2. Loss\n",
        "    loss = loss_fn(pred, y_train)\n",
        "\n",
        "    # 3. Grad zerostep\n",
        "    optimizer.zero_grad()\n",
        "\n",
        "    # 4. Backward\n",
        "    loss.backward()\n",
        "\n",
        "    # 5. Optimizer step\n",
        "    optimizer.step()\n",
        "\n",
        "    # print(torch.argmax(pred, dim=1))\n",
        "    \n",
        "    # print(y_train)\n",
        "\n",
        "    # print(torch.argmax(pred, dim=0))\n",
        "    acc = accuracy_fn(y_train, torch.argmax(pred, dim=1))\n",
        "    train_loss += loss\n",
        "    train_acc += acc\n",
        "\n",
        "  train_loss /= len(dataloader)\n",
        "  train_acc /= len(dataloader)\n",
        "\n",
        "  return train_loss, train_acc\n",
        "\n",
        "\n",
        "# test\n",
        "def test_loop(model: torch.nn.Module, dataloader: torch.utils.data.DataLoader,\n",
        "              loss_fn: torch.nn.Module, accuracy_fn, \n",
        "              device: torch.device = device):\n",
        "  \n",
        "  test_loss, test_acc = 0, 0\n",
        "  model.eval()\n",
        "  with torch.inference_mode():\n",
        "    for x_test, y_test in dataloader:\n",
        "\n",
        "      Y = []\n",
        "      for i in y_test:\n",
        "        if i.item() % 2 == 0:\n",
        "          Y.append((i.item()//2)+1)\n",
        "        else:\n",
        "          Y.append(i.item()//2)\n",
        "      \n",
        "      y_test = torch.tensor(Y)\n",
        "      \n",
        "      if device == 'cuda':\n",
        "        x_test, y_test = x_test.to(device), y_test.to(device)\n",
        "\n",
        "      # 1. Forward\n",
        "      test_pred = model(x_test)\n",
        "      \n",
        "      # 2. Loss and accuray\n",
        "      test_loss += loss_fn(test_pred, y_test)\n",
        "      test_acc += accuracy_fn(y_test, torch.argmax(test_pred, dim=1))\n",
        "\n",
        "\n",
        "    test_loss /= len(dataloader)\n",
        "    test_acc /= len(dataloader)\n",
        "\n",
        "  return test_loss, test_acc"
      ]
    },
    {
      "cell_type": "markdown",
      "metadata": {
        "id": "cYQKihMuPB9e"
      },
      "source": [
        "## Plot Function"
      ]
    },
    {
      "cell_type": "code",
      "execution_count": 18,
      "metadata": {
        "id": "ya64hqtMPGnb"
      },
      "outputs": [],
      "source": [
        "def plot_graph(train_losses, test_losses, train_accs, test_accs):\n",
        "  plt.figure(figsize = (20, 8))\n",
        "  plt.subplot(1, 2, 1)\n",
        "  plt.plot(range(len(train_losses)), train_losses, label = \"Train Loss\")\n",
        "  plt.plot(range(len(test_losses)), test_losses, label = \"Test Loss\")\n",
        "  plt.legend()\n",
        "  plt.xlabel(\"Epoches\")\n",
        "  plt.ylabel(\"Loss\")\n",
        "  # plt.show()\n",
        "\n",
        "  plt.subplot(1, 2, 2)\n",
        "  plt.plot(range(len(train_accs)), train_accs, label = \"Train Accuracy\")\n",
        "  plt.plot(range(len(test_accs)), test_accs, label = \"Test Accuracy\")\n",
        "  plt.legend()\n",
        "  plt.xlabel(\"Epoches\")\n",
        "  plt.ylabel(\"Accuracy\")\n",
        "  plt.show()"
      ]
    },
    {
      "cell_type": "markdown",
      "source": [
        "## Loss and Accuracy Function"
      ],
      "metadata": {
        "id": "zFEcGam_zPXn"
      }
    },
    {
      "cell_type": "code",
      "execution_count": 19,
      "metadata": {
        "id": "kaMkcuYiPG3N"
      },
      "outputs": [],
      "source": [
        "loss_fn = nn.CrossEntropyLoss()\n",
        "\n",
        "accuracy_fn = MulticlassAccuracy(num_classes = len(class_names)).to(device)"
      ]
    },
    {
      "cell_type": "markdown",
      "source": [
        "## set activation function"
      ],
      "metadata": {
        "id": "luaSKdhtzO2V"
      }
    },
    {
      "cell_type": "code",
      "source": [
        "# def funct(list_mods):\n",
        "#   # print(\"type: \", type(list_mods))\n",
        "#   for i in range(len(list_mods)):\n",
        "#     if list_mods[i].__class__.__name__ == \"ReLU\":\n",
        "#       list_mods[i] = nn.Tanh()\n",
        "#     elif list_mods[i].__class__.__name__ in (\"Sequential\", \"BasicBlock\"):\n",
        "#       list_mods[i] = nn.Sequential(*funct(list(list_mods[i].children())))\n",
        "#   return list_mods"
      ],
      "metadata": {
        "id": "dsitPoyrzfMP"
      },
      "execution_count": 20,
      "outputs": []
    },
    {
      "cell_type": "markdown",
      "metadata": {
        "id": "8H0_68nDPPd5"
      },
      "source": [
        "## Load model"
      ]
    },
    {
      "cell_type": "code",
      "execution_count": 21,
      "metadata": {
        "colab": {
          "base_uri": "https://localhost:8080/"
        },
        "id": "zNJ3EQXyPfcz",
        "outputId": "6e523d35-ac2c-466b-cf11-1b46ad12cdfb"
      },
      "outputs": [
        {
          "output_type": "execute_result",
          "data": {
            "text/plain": [
              "ResNet(\n",
              "  (conv1): Conv2d(1, 64, kernel_size=(7, 7), stride=(2, 2), padding=(3, 3), bias=False)\n",
              "  (bn1): BatchNorm2d(64, eps=1e-05, momentum=0.1, affine=True, track_running_stats=True)\n",
              "  (relu): ReLU(inplace=True)\n",
              "  (maxpool): MaxPool2d(kernel_size=3, stride=2, padding=1, dilation=1, ceil_mode=False)\n",
              "  (layer1): Sequential(\n",
              "    (0): BasicBlock(\n",
              "      (conv1): Conv2d(64, 64, kernel_size=(3, 3), stride=(1, 1), padding=(1, 1), bias=False)\n",
              "      (bn1): BatchNorm2d(64, eps=1e-05, momentum=0.1, affine=True, track_running_stats=True)\n",
              "      (relu): ReLU(inplace=True)\n",
              "      (conv2): Conv2d(64, 64, kernel_size=(3, 3), stride=(1, 1), padding=(1, 1), bias=False)\n",
              "      (bn2): BatchNorm2d(64, eps=1e-05, momentum=0.1, affine=True, track_running_stats=True)\n",
              "    )\n",
              "    (1): BasicBlock(\n",
              "      (conv1): Conv2d(64, 64, kernel_size=(3, 3), stride=(1, 1), padding=(1, 1), bias=False)\n",
              "      (bn1): BatchNorm2d(64, eps=1e-05, momentum=0.1, affine=True, track_running_stats=True)\n",
              "      (relu): ReLU(inplace=True)\n",
              "      (conv2): Conv2d(64, 64, kernel_size=(3, 3), stride=(1, 1), padding=(1, 1), bias=False)\n",
              "      (bn2): BatchNorm2d(64, eps=1e-05, momentum=0.1, affine=True, track_running_stats=True)\n",
              "    )\n",
              "  )\n",
              "  (layer2): Sequential(\n",
              "    (0): BasicBlock(\n",
              "      (conv1): Conv2d(64, 128, kernel_size=(3, 3), stride=(2, 2), padding=(1, 1), bias=False)\n",
              "      (bn1): BatchNorm2d(128, eps=1e-05, momentum=0.1, affine=True, track_running_stats=True)\n",
              "      (relu): ReLU(inplace=True)\n",
              "      (conv2): Conv2d(128, 128, kernel_size=(3, 3), stride=(1, 1), padding=(1, 1), bias=False)\n",
              "      (bn2): BatchNorm2d(128, eps=1e-05, momentum=0.1, affine=True, track_running_stats=True)\n",
              "      (downsample): Sequential(\n",
              "        (0): Conv2d(64, 128, kernel_size=(1, 1), stride=(2, 2), bias=False)\n",
              "        (1): BatchNorm2d(128, eps=1e-05, momentum=0.1, affine=True, track_running_stats=True)\n",
              "      )\n",
              "    )\n",
              "    (1): BasicBlock(\n",
              "      (conv1): Conv2d(128, 128, kernel_size=(3, 3), stride=(1, 1), padding=(1, 1), bias=False)\n",
              "      (bn1): BatchNorm2d(128, eps=1e-05, momentum=0.1, affine=True, track_running_stats=True)\n",
              "      (relu): ReLU(inplace=True)\n",
              "      (conv2): Conv2d(128, 128, kernel_size=(3, 3), stride=(1, 1), padding=(1, 1), bias=False)\n",
              "      (bn2): BatchNorm2d(128, eps=1e-05, momentum=0.1, affine=True, track_running_stats=True)\n",
              "    )\n",
              "  )\n",
              "  (layer3): Sequential(\n",
              "    (0): BasicBlock(\n",
              "      (conv1): Conv2d(128, 256, kernel_size=(3, 3), stride=(2, 2), padding=(1, 1), bias=False)\n",
              "      (bn1): BatchNorm2d(256, eps=1e-05, momentum=0.1, affine=True, track_running_stats=True)\n",
              "      (relu): ReLU(inplace=True)\n",
              "      (conv2): Conv2d(256, 256, kernel_size=(3, 3), stride=(1, 1), padding=(1, 1), bias=False)\n",
              "      (bn2): BatchNorm2d(256, eps=1e-05, momentum=0.1, affine=True, track_running_stats=True)\n",
              "      (downsample): Sequential(\n",
              "        (0): Conv2d(128, 256, kernel_size=(1, 1), stride=(2, 2), bias=False)\n",
              "        (1): BatchNorm2d(256, eps=1e-05, momentum=0.1, affine=True, track_running_stats=True)\n",
              "      )\n",
              "    )\n",
              "    (1): BasicBlock(\n",
              "      (conv1): Conv2d(256, 256, kernel_size=(3, 3), stride=(1, 1), padding=(1, 1), bias=False)\n",
              "      (bn1): BatchNorm2d(256, eps=1e-05, momentum=0.1, affine=True, track_running_stats=True)\n",
              "      (relu): ReLU(inplace=True)\n",
              "      (conv2): Conv2d(256, 256, kernel_size=(3, 3), stride=(1, 1), padding=(1, 1), bias=False)\n",
              "      (bn2): BatchNorm2d(256, eps=1e-05, momentum=0.1, affine=True, track_running_stats=True)\n",
              "    )\n",
              "  )\n",
              "  (layer4): Sequential(\n",
              "    (0): BasicBlock(\n",
              "      (conv1): Conv2d(256, 512, kernel_size=(3, 3), stride=(2, 2), padding=(1, 1), bias=False)\n",
              "      (bn1): BatchNorm2d(512, eps=1e-05, momentum=0.1, affine=True, track_running_stats=True)\n",
              "      (relu): ReLU(inplace=True)\n",
              "      (conv2): Conv2d(512, 512, kernel_size=(3, 3), stride=(1, 1), padding=(1, 1), bias=False)\n",
              "      (bn2): BatchNorm2d(512, eps=1e-05, momentum=0.1, affine=True, track_running_stats=True)\n",
              "      (downsample): Sequential(\n",
              "        (0): Conv2d(256, 512, kernel_size=(1, 1), stride=(2, 2), bias=False)\n",
              "        (1): BatchNorm2d(512, eps=1e-05, momentum=0.1, affine=True, track_running_stats=True)\n",
              "      )\n",
              "    )\n",
              "    (1): BasicBlock(\n",
              "      (conv1): Conv2d(512, 512, kernel_size=(3, 3), stride=(1, 1), padding=(1, 1), bias=False)\n",
              "      (bn1): BatchNorm2d(512, eps=1e-05, momentum=0.1, affine=True, track_running_stats=True)\n",
              "      (relu): ReLU(inplace=True)\n",
              "      (conv2): Conv2d(512, 512, kernel_size=(3, 3), stride=(1, 1), padding=(1, 1), bias=False)\n",
              "      (bn2): BatchNorm2d(512, eps=1e-05, momentum=0.1, affine=True, track_running_stats=True)\n",
              "    )\n",
              "  )\n",
              "  (avgpool): AdaptiveAvgPool2d(output_size=(1, 1))\n",
              "  (fc): Linear(in_features=512, out_features=5, bias=True)\n",
              ")"
            ]
          },
          "metadata": {},
          "execution_count": 21
        }
      ],
      "source": [
        "model_18 = models.resnet18(weights = models.ResNet18_Weights.IMAGENET1K_V1, progress = False).to(device)\n",
        "model_18.conv1 = torch.nn.Conv2d(1, 64, kernel_size=(7, 7), stride=(2, 2), padding=(3, 3), bias=False).to(device)\n",
        "feature_number = model_18.fc.in_features\n",
        "model_18.fc = nn.Linear(feature_number, len(class_names)).to(device)\n",
        "\n",
        "model_18"
      ]
    },
    {
      "cell_type": "code",
      "source": [
        "activation_function = ['Tanh', 'RELU']\n",
        "# optimizer_1 = (\"Adam\", torch.optim.Adam(params = model_18.parameters(), lr = 1e-3))\n",
        "# optimizer_2 = (\"SGD\", torch.optim.SGD(params = model_18.parameters(), lr = 1e-2))\n",
        "\n",
        "optimizer = [\"Adam\", \"SGD\"]\n",
        "\n",
        "# resnet18_selu = nn.Sequential(*funct(list(model_18.children()))).to(device)\n",
        "# resnet18_selu"
      ],
      "metadata": {
        "id": "3DBIUtqcyn4g"
      },
      "execution_count": 22,
      "outputs": []
    },
    {
      "cell_type": "markdown",
      "source": [
        "## Hyper Parameters"
      ],
      "metadata": {
        "id": "a2V2VCnC6WcK"
      }
    },
    {
      "cell_type": "code",
      "source": [
        "hyper_para = [(activation, opti) for activation in activation_function for opti in optimizer]"
      ],
      "metadata": {
        "id": "tnFklJZZ0tgY"
      },
      "execution_count": 23,
      "outputs": []
    },
    {
      "cell_type": "markdown",
      "source": [
        "## Helper function"
      ],
      "metadata": {
        "id": "miOdgntP6IWJ"
      }
    },
    {
      "cell_type": "code",
      "source": [
        "def validate_model(model, valid_dl, loss_fn, accuracy_fn, log_images=False, batch_idx=0, device: torch.device = device):\n",
        "    \"Compute performance of the model on the validation dataset and log a wandb.Table\"\n",
        "    model.eval()\n",
        "    val_loss, val_acc = 0, 0.\n",
        "    with torch.inference_mode():\n",
        "        correct = 0\n",
        "        for i, (images, labels) in enumerate(valid_dl):\n",
        "            images, labels = images.to(device), labels.to(device)\n",
        "\n",
        "\n",
        "\n",
        "            Y = []\n",
        "            for i in labels:\n",
        "              if i.item() % 2 == 0:\n",
        "                Y.append((i.item()//2)+1)\n",
        "              else:\n",
        "                Y.append(i.item()//2)\n",
        "            \n",
        "            labels = torch.tensor(Y)\n",
        "\n",
        "            if device == 'cuda':\n",
        "              images, labels = images.to(device), labels.to(device)\n",
        "\n",
        "            # Forward pass ➡\n",
        "            outputs = model(images)\n",
        "            # val_loss += loss_func(outputs, labels)*labels.size(0)\n",
        "\n",
        "            # Compute accuracy and accumulate\n",
        "            val_loss += loss_fn(outputs, labels)\n",
        "            val_acc += accuracy_fn(labels, torch.argmax(outputs, dim=1))\n",
        "\n",
        "            # Log one batch of images to the dashboard, always same batch_idx.\n",
        "            if i==batch_idx and log_images:\n",
        "                log_image_table(images, torch.max(outputs.data, 1), labels, outputs.softmax(dim=1))\n",
        "\n",
        "        val_loss /= len(test_dataloader)\n",
        "        val_acc /= len(test_dataloader)\n",
        "    return val_loss, val_acc\n",
        "\n",
        "def log_image_table(images, predicted, labels, probs):\n",
        "    \"Log a wandb.Table with (img, pred, target, scores)\"\n",
        "    # 🐝 Create a wandb Table to log images, labels and predictions to\n",
        "    table = wandb.Table(columns=[\"image\", \"pred\", \"target\"]+[f\"score_{i}\" for i in range(10)])\n",
        "    for img, pred, targ, prob in zip(images.to(\"cpu\"), predicted.to(\"cpu\"), labels.to(\"cpu\"), probs.to(\"cpu\")):\n",
        "        table.add_data(wandb.Image(img[0].numpy()*255), pred, targ, *prob.numpy())\n",
        "    wandb.log({\"predictions_table\":table}, commit=False)"
      ],
      "metadata": {
        "id": "HS5REGaV6Kt7"
      },
      "execution_count": 24,
      "outputs": []
    },
    {
      "cell_type": "markdown",
      "metadata": {
        "id": "H6w5xv1dPrMD"
      },
      "source": [
        "## train model with wandb"
      ]
    },
    {
      "cell_type": "code",
      "execution_count": 25,
      "metadata": {
        "colab": {
          "base_uri": "https://localhost:8080/",
          "height": 1000,
          "referenced_widgets": [
            "2c0dc07b97a440e19291a0e92b9566fa",
            "cb726e91dfa64ae9a48d2d4c4c362646",
            "242f53cddae941a6b5cc687c21927f14",
            "d51bdb4498e643029636bb72ee26726e",
            "d2edf30dd1144f8eb655ef205a02a955",
            "177881669b5e4436b44f8eb20e9ac890",
            "5371db19475d462cbe82a5d233367aa9",
            "2193da3714db440194693cec620aa7e2",
            "235d3f54d5e443c29f541e4207fa178b",
            "11f3841bb0614cb194f20665796da9bc",
            "07603c83afd84fca9bd4841a4f87ccbd",
            "b54e1cc7c5b64e5697a8a4ee224f154d",
            "fe819a7fc0284ae3a4ae78bc4e9a0334",
            "78ea685955144363af285b05935a43b9",
            "b12245511675425cb1815e91d6054358",
            "ab0d78cd7edd4f81bb18159b8fe38016",
            "6c96931f56704cb29a7ea4e3d56495b9",
            "fcad4f8ed64148dea5cdf3d8669e8897",
            "00dc86b9d6a84a7ea0cabe0040d2422a",
            "7dc183a6276f42ce84d716091050f9f9",
            "044ae93562724119988d3f8601521e10",
            "ba0839861f644a778c164c28c00e461f",
            "55f2e17e0b76474a8aef21a4bdf9e7d2",
            "1c5cf9e4d62f4cac82fcea11c75b7482",
            "cb2e99494db64bb2b5e4c5a938afdbea",
            "4abb4a2ddffc4fb09dc84f2563753201",
            "5085367750f4470b918ed59644e3cb70",
            "255a6f994c78498496679837bad8c9a0",
            "5a212e2727f84221b7ad8ba710bd855c",
            "7d2cb063340f496d9c574aec0ed23587",
            "c2a39cc8807b4975a93f650365866956",
            "977d61c2fee14d65ab67c7b718d1b6ca",
            "5c91614f48a9492ab023482abaf6e0c4",
            "33db9748e7794330a715c999bbcc98a9",
            "f0d640bd9704452a8ab25521a35b2950",
            "ac83ef8f75d84cef914ddcbbea0ec4e1",
            "ea6a6dfb2bc344ae93fe5faec9da460e",
            "0cfb7cb432814dbfab93be7ec6724c8d",
            "023a4c4d61ba483cb2c71d5b211b1d1d",
            "159487e2d8cb499ca7ff1fa89d6a4c03",
            "90b7ea741f5048d099fddfe3638a9053",
            "c42473b2dd194564ae50cfc45b0dfdb7",
            "20f358ebca2b41949c8d10c2212baa0a",
            "bce513c675a148c5962c89fc1fa13fa4",
            "79bd1c3b8bc74d08bb824d4d9e52daba",
            "0ffa664fd14a45adada916f849686e30",
            "5ba9d3902af04abfa28ddd1a4308cafb",
            "e478d656e9c44c838c47567d890cbb14",
            "494fa70122c041a5b0c55121ab8a35d4",
            "3e39c9a12ecc40c3a6b023d3377b9c2d",
            "aa055faf2eb348e98e05f465072aa80a",
            "d7754f71fec74a3dab6718ee39e9b5c1"
          ]
        },
        "id": "ho9IRFpLV5By",
        "outputId": "f07bd92e-efb8-40f7-f0ff-ed6dd54a91dc"
      },
      "outputs": [
        {
          "output_type": "stream",
          "name": "stdout",
          "text": [
            "Current iter: 1/4\n",
            "Activation function: Tanh and Optimizer: Adam\n",
            "\n"
          ]
        },
        {
          "output_type": "display_data",
          "data": {
            "text/plain": [
              "<IPython.core.display.HTML object>"
            ],
            "text/html": [
              "Tracking run with wandb version 0.14.2"
            ]
          },
          "metadata": {}
        },
        {
          "output_type": "display_data",
          "data": {
            "text/plain": [
              "<IPython.core.display.HTML object>"
            ],
            "text/html": [
              "Run data is saved locally in <code>/content/wandb/run-20230418_172842-z145sfeb</code>"
            ]
          },
          "metadata": {}
        },
        {
          "output_type": "display_data",
          "data": {
            "text/plain": [
              "<IPython.core.display.HTML object>"
            ],
            "text/html": [
              "Syncing run <strong><a href='https://wandb.ai/maa_64/dlops-lab-assi-8/runs/z145sfeb' target=\"_blank\">sage-firefly-28</a></strong> to <a href='https://wandb.ai/maa_64/dlops-lab-assi-8' target=\"_blank\">Weights & Biases</a> (<a href='https://wandb.me/run' target=\"_blank\">docs</a>)<br/>"
            ]
          },
          "metadata": {}
        },
        {
          "output_type": "display_data",
          "data": {
            "text/plain": [
              "<IPython.core.display.HTML object>"
            ],
            "text/html": [
              " View project at <a href='https://wandb.ai/maa_64/dlops-lab-assi-8' target=\"_blank\">https://wandb.ai/maa_64/dlops-lab-assi-8</a>"
            ]
          },
          "metadata": {}
        },
        {
          "output_type": "display_data",
          "data": {
            "text/plain": [
              "<IPython.core.display.HTML object>"
            ],
            "text/html": [
              " View run at <a href='https://wandb.ai/maa_64/dlops-lab-assi-8/runs/z145sfeb' target=\"_blank\">https://wandb.ai/maa_64/dlops-lab-assi-8/runs/z145sfeb</a>"
            ]
          },
          "metadata": {}
        },
        {
          "output_type": "stream",
          "name": "stdout",
          "text": [
            "\n"
          ]
        },
        {
          "output_type": "display_data",
          "data": {
            "text/plain": [
              "  0%|          | 0/30 [00:00<?, ?it/s]"
            ],
            "application/vnd.jupyter.widget-view+json": {
              "version_major": 2,
              "version_minor": 0,
              "model_id": "2c0dc07b97a440e19291a0e92b9566fa"
            }
          },
          "metadata": {}
        },
        {
          "output_type": "stream",
          "name": "stdout",
          "text": [
            "Epoch: 1\n",
            "Train Loss: 0.2047 | Test Loss: 0.1082 | Train Accuray: 0.9314 | Test Accuracy: 0.9608\n",
            "\n",
            "Epoch: 2\n",
            "Train Loss: 0.1239 | Test Loss: 0.0968 | Train Accuray: 0.9575 | Test Accuracy: 0.9655\n",
            "\n",
            "Epoch: 3\n",
            "Train Loss: 0.0920 | Test Loss: 0.0981 | Train Accuray: 0.9679 | Test Accuracy: 0.9629\n",
            "\n",
            "Epoch: 4\n",
            "Train Loss: 0.1050 | Test Loss: 0.0986 | Train Accuray: 0.9658 | Test Accuracy: 0.9650\n",
            "\n",
            "Epoch: 5\n",
            "Train Loss: 0.0787 | Test Loss: 0.1256 | Train Accuray: 0.9724 | Test Accuracy: 0.9591\n",
            "\n",
            "Epoch: 6\n",
            "Train Loss: 0.0695 | Test Loss: 0.0949 | Train Accuray: 0.9765 | Test Accuracy: 0.9677\n",
            "\n",
            "Epoch: 7\n",
            "Train Loss: 0.0637 | Test Loss: 0.0686 | Train Accuray: 0.9770 | Test Accuracy: 0.9769\n",
            "\n",
            "Epoch: 8\n",
            "Train Loss: 0.0564 | Test Loss: 0.0749 | Train Accuray: 0.9794 | Test Accuracy: 0.9739\n",
            "\n",
            "Epoch: 9\n",
            "Train Loss: 0.0503 | Test Loss: 0.0647 | Train Accuray: 0.9828 | Test Accuracy: 0.9780\n",
            "\n",
            "Epoch: 10\n",
            "Train Loss: 0.0502 | Test Loss: 0.0535 | Train Accuray: 0.9819 | Test Accuracy: 0.9781\n",
            "\n",
            "Epoch: 11\n",
            "Train Loss: 0.0598 | Test Loss: 0.0615 | Train Accuray: 0.9779 | Test Accuracy: 0.9756\n",
            "\n",
            "Epoch: 12\n",
            "Train Loss: 0.0447 | Test Loss: 0.0623 | Train Accuray: 0.9837 | Test Accuracy: 0.9761\n",
            "\n",
            "Epoch: 13\n",
            "Train Loss: 0.0398 | Test Loss: 0.0548 | Train Accuray: 0.9855 | Test Accuracy: 0.9798\n",
            "\n",
            "Epoch: 14\n",
            "Train Loss: 0.0472 | Test Loss: 0.0558 | Train Accuray: 0.9836 | Test Accuracy: 0.9782\n",
            "\n",
            "Epoch: 15\n",
            "Train Loss: 0.0479 | Test Loss: 0.0611 | Train Accuray: 0.9835 | Test Accuracy: 0.9764\n",
            "\n",
            "Epoch: 16\n",
            "Train Loss: 0.0370 | Test Loss: 0.0599 | Train Accuray: 0.9863 | Test Accuracy: 0.9792\n",
            "\n",
            "Epoch: 17\n",
            "Train Loss: 0.0320 | Test Loss: 0.0526 | Train Accuray: 0.9870 | Test Accuracy: 0.9793\n",
            "\n",
            "Epoch: 18\n",
            "Train Loss: 0.0258 | Test Loss: 0.0552 | Train Accuray: 0.9907 | Test Accuracy: 0.9777\n",
            "\n",
            "Epoch: 19\n",
            "Train Loss: 0.0281 | Test Loss: 0.0619 | Train Accuray: 0.9888 | Test Accuracy: 0.9792\n",
            "\n",
            "Epoch: 20\n",
            "Train Loss: 0.0269 | Test Loss: 0.0607 | Train Accuray: 0.9891 | Test Accuracy: 0.9767\n",
            "\n",
            "Epoch: 21\n",
            "Train Loss: 0.0263 | Test Loss: 0.0529 | Train Accuray: 0.9898 | Test Accuracy: 0.9781\n",
            "\n",
            "Epoch: 22\n",
            "Train Loss: 0.0301 | Test Loss: 0.0548 | Train Accuray: 0.9900 | Test Accuracy: 0.9809\n",
            "\n",
            "Epoch: 23\n",
            "Train Loss: 0.0218 | Test Loss: 0.0602 | Train Accuray: 0.9930 | Test Accuracy: 0.9785\n",
            "\n",
            "Epoch: 24\n",
            "Train Loss: 0.0179 | Test Loss: 0.0569 | Train Accuray: 0.9926 | Test Accuracy: 0.9799\n",
            "\n",
            "Epoch: 25\n",
            "Train Loss: 0.0221 | Test Loss: 0.0612 | Train Accuray: 0.9915 | Test Accuracy: 0.9786\n",
            "\n",
            "Epoch: 26\n",
            "Train Loss: 0.0181 | Test Loss: 0.0715 | Train Accuray: 0.9915 | Test Accuracy: 0.9790\n",
            "\n",
            "Epoch: 27\n",
            "Train Loss: 0.0154 | Test Loss: 0.0609 | Train Accuray: 0.9943 | Test Accuracy: 0.9791\n",
            "\n",
            "Epoch: 28\n",
            "Train Loss: 0.0165 | Test Loss: 0.0620 | Train Accuray: 0.9934 | Test Accuracy: 0.9789\n",
            "\n",
            "Epoch: 29\n",
            "Train Loss: 0.0218 | Test Loss: 0.0629 | Train Accuray: 0.9909 | Test Accuracy: 0.9818\n",
            "\n",
            "Epoch: 30\n",
            "Train Loss: 0.0143 | Test Loss: 0.0679 | Train Accuray: 0.9937 | Test Accuracy: 0.9809\n",
            "\n"
          ]
        },
        {
          "output_type": "display_data",
          "data": {
            "text/plain": [
              "<Figure size 2000x800 with 2 Axes>"
            ],
            "image/png": "[encoded data removed]"
          },
          "metadata": {}
        },
        {
          "output_type": "stream",
          "name": "stdout",
          "text": [
            "Execution time of 1 iter: 491.2617652910001 Seconds.\n"
          ]
        },
        {
          "output_type": "display_data",
          "data": {
            "text/plain": [
              "<IPython.core.display.HTML object>"
            ],
            "text/html": [
              "Waiting for W&B process to finish... <strong style=\"color:green\">(success).</strong>"
            ]
          },
          "metadata": {}
        },
        {
          "output_type": "display_data",
          "data": {
            "text/plain": [
              "<IPython.core.display.HTML object>"
            ],
            "text/html": [
              "<style>\n",
              "    table.wandb td:nth-child(1) { padding: 0 10px; text-align: left ; width: auto;} td:nth-child(2) {text-align: left ; width: 100%}\n",
              "    .wandb-row { display: flex; flex-direction: row; flex-wrap: wrap; justify-content: flex-start; width: 100% }\n",
              "    .wandb-col { display: flex; flex-direction: column; flex-basis: 100%; flex: 1; padding: 10px; }\n",
              "    </style>\n",
              "<div class=\"wandb-row\"><div class=\"wandb-col\"><h3>Run history:</h3><br/><table class=\"wandb\"><tr><td>Train Accuracy</td><td>▁</td></tr><tr><td>Train Loss</td><td>▁</td></tr><tr><td>Validation Accuracy</td><td>▁</td></tr><tr><td>Validation Loss</td><td>▁</td></tr></table><br/></div><div class=\"wandb-col\"><h3>Run summary:</h3><br/><table class=\"wandb\"><tr><td>Train Accuracy</td><td>0.99371</td></tr><tr><td>Train Loss</td><td>0.01428</td></tr><tr><td>Validation Accuracy</td><td>0.9809</td></tr><tr><td>Validation Loss</td><td>0.06795</td></tr></table><br/></div></div>"
            ]
          },
          "metadata": {}
        },
        {
          "output_type": "display_data",
          "data": {
            "text/plain": [
              "<IPython.core.display.HTML object>"
            ],
            "text/html": [
              " View run <strong style=\"color:#cdcd00\">sage-firefly-28</strong> at: <a href='https://wandb.ai/maa_64/dlops-lab-assi-8/runs/z145sfeb' target=\"_blank\">https://wandb.ai/maa_64/dlops-lab-assi-8/runs/z145sfeb</a><br/>Synced 5 W&B file(s), 0 media file(s), 0 artifact file(s) and 0 other file(s)"
            ]
          },
          "metadata": {}
        },
        {
          "output_type": "display_data",
          "data": {
            "text/plain": [
              "<IPython.core.display.HTML object>"
            ],
            "text/html": [
              "Find logs at: <code>./wandb/run-20230418_172842-z145sfeb/logs</code>"
            ]
          },
          "metadata": {}
        },
        {
          "output_type": "stream",
          "name": "stdout",
          "text": [
            "Current iter: 2/4\n",
            "Activation function: Tanh and Optimizer: SGD\n",
            "\n"
          ]
        },
        {
          "output_type": "display_data",
          "data": {
            "text/plain": [
              "<IPython.core.display.HTML object>"
            ],
            "text/html": [
              "Tracking run with wandb version 0.14.2"
            ]
          },
          "metadata": {}
        },
        {
          "output_type": "display_data",
          "data": {
            "text/plain": [
              "<IPython.core.display.HTML object>"
            ],
            "text/html": [
              "Run data is saved locally in <code>/content/wandb/run-20230418_173659-vcqnhdrc</code>"
            ]
          },
          "metadata": {}
        },
        {
          "output_type": "display_data",
          "data": {
            "text/plain": [
              "<IPython.core.display.HTML object>"
            ],
            "text/html": [
              "Syncing run <strong><a href='https://wandb.ai/maa_64/dlops-lab-assi-8/runs/vcqnhdrc' target=\"_blank\">earnest-snow-29</a></strong> to <a href='https://wandb.ai/maa_64/dlops-lab-assi-8' target=\"_blank\">Weights & Biases</a> (<a href='https://wandb.me/run' target=\"_blank\">docs</a>)<br/>"
            ]
          },
          "metadata": {}
        },
        {
          "output_type": "display_data",
          "data": {
            "text/plain": [
              "<IPython.core.display.HTML object>"
            ],
            "text/html": [
              " View project at <a href='https://wandb.ai/maa_64/dlops-lab-assi-8' target=\"_blank\">https://wandb.ai/maa_64/dlops-lab-assi-8</a>"
            ]
          },
          "metadata": {}
        },
        {
          "output_type": "display_data",
          "data": {
            "text/plain": [
              "<IPython.core.display.HTML object>"
            ],
            "text/html": [
              " View run at <a href='https://wandb.ai/maa_64/dlops-lab-assi-8/runs/vcqnhdrc' target=\"_blank\">https://wandb.ai/maa_64/dlops-lab-assi-8/runs/vcqnhdrc</a>"
            ]
          },
          "metadata": {}
        },
        {
          "output_type": "stream",
          "name": "stdout",
          "text": [
            "\n"
          ]
        },
        {
          "output_type": "display_data",
          "data": {
            "text/plain": [
              "  0%|          | 0/30 [00:00<?, ?it/s]"
            ],
            "application/vnd.jupyter.widget-view+json": {
              "version_major": 2,
              "version_minor": 0,
              "model_id": "b54e1cc7c5b64e5697a8a4ee224f154d"
            }
          },
          "metadata": {}
        },
        {
          "output_type": "stream",
          "name": "stdout",
          "text": [
            "Epoch: 1\n",
            "Train Loss: 0.2006 | Test Loss: 0.1032 | Train Accuray: 0.9280 | Test Accuracy: 0.9613\n",
            "\n",
            "Epoch: 2\n",
            "Train Loss: 0.0999 | Test Loss: 0.0925 | Train Accuray: 0.9614 | Test Accuracy: 0.9671\n",
            "\n",
            "Epoch: 3\n",
            "Train Loss: 0.0743 | Test Loss: 0.0830 | Train Accuray: 0.9715 | Test Accuracy: 0.9678\n",
            "\n",
            "Epoch: 4\n",
            "Train Loss: 0.0633 | Test Loss: 0.0821 | Train Accuray: 0.9754 | Test Accuracy: 0.9716\n",
            "\n",
            "Epoch: 5\n",
            "Train Loss: 0.0517 | Test Loss: 0.0752 | Train Accuray: 0.9789 | Test Accuracy: 0.9716\n",
            "\n",
            "Epoch: 6\n",
            "Train Loss: 0.0472 | Test Loss: 0.1069 | Train Accuray: 0.9819 | Test Accuracy: 0.9643\n",
            "\n",
            "Epoch: 7\n",
            "Train Loss: 0.0424 | Test Loss: 0.0687 | Train Accuray: 0.9820 | Test Accuracy: 0.9764\n",
            "\n",
            "Epoch: 8\n",
            "Train Loss: 0.0374 | Test Loss: 0.0696 | Train Accuray: 0.9849 | Test Accuracy: 0.9770\n",
            "\n",
            "Epoch: 9\n",
            "Train Loss: 0.0311 | Test Loss: 0.0662 | Train Accuray: 0.9871 | Test Accuracy: 0.9768\n",
            "\n",
            "Epoch: 10\n",
            "Train Loss: 0.0326 | Test Loss: 0.0734 | Train Accuray: 0.9872 | Test Accuracy: 0.9729\n",
            "\n",
            "Epoch: 11\n",
            "Train Loss: 0.0301 | Test Loss: 0.0627 | Train Accuray: 0.9877 | Test Accuracy: 0.9783\n",
            "\n",
            "Epoch: 12\n",
            "Train Loss: 0.0272 | Test Loss: 0.0597 | Train Accuray: 0.9885 | Test Accuracy: 0.9793\n",
            "\n",
            "Epoch: 13\n",
            "Train Loss: 0.0259 | Test Loss: 0.0692 | Train Accuray: 0.9896 | Test Accuracy: 0.9746\n",
            "\n",
            "Epoch: 14\n",
            "Train Loss: 0.0214 | Test Loss: 0.0710 | Train Accuray: 0.9913 | Test Accuracy: 0.9752\n",
            "\n",
            "Epoch: 15\n",
            "Train Loss: 0.0199 | Test Loss: 0.0770 | Train Accuray: 0.9912 | Test Accuracy: 0.9739\n",
            "\n",
            "Epoch: 16\n",
            "Train Loss: 0.0197 | Test Loss: 0.1191 | Train Accuray: 0.9907 | Test Accuracy: 0.9641\n",
            "\n",
            "Epoch: 17\n",
            "Train Loss: 0.0202 | Test Loss: 0.0807 | Train Accuray: 0.9917 | Test Accuracy: 0.9793\n",
            "\n",
            "Epoch: 18\n",
            "Train Loss: 0.0162 | Test Loss: 0.0844 | Train Accuray: 0.9931 | Test Accuracy: 0.9774\n",
            "\n",
            "Epoch: 19\n",
            "Train Loss: 0.0179 | Test Loss: 0.0868 | Train Accuray: 0.9918 | Test Accuracy: 0.9753\n",
            "\n",
            "Epoch: 20\n",
            "Train Loss: 0.0148 | Test Loss: 0.0770 | Train Accuray: 0.9930 | Test Accuracy: 0.9780\n",
            "\n",
            "Epoch: 21\n",
            "Train Loss: 0.0166 | Test Loss: 0.0760 | Train Accuray: 0.9931 | Test Accuracy: 0.9782\n",
            "\n",
            "Epoch: 22\n",
            "Train Loss: 0.0146 | Test Loss: 0.0845 | Train Accuray: 0.9937 | Test Accuracy: 0.9783\n",
            "\n",
            "Epoch: 23\n",
            "Train Loss: 0.0110 | Test Loss: 0.0890 | Train Accuray: 0.9948 | Test Accuracy: 0.9768\n",
            "\n",
            "Epoch: 24\n",
            "Train Loss: 0.0157 | Test Loss: 0.0926 | Train Accuray: 0.9934 | Test Accuracy: 0.9708\n",
            "\n",
            "Epoch: 25\n",
            "Train Loss: 0.0130 | Test Loss: 0.0905 | Train Accuray: 0.9943 | Test Accuracy: 0.9784\n",
            "\n",
            "Epoch: 26\n",
            "Train Loss: 0.0106 | Test Loss: 0.0809 | Train Accuray: 0.9942 | Test Accuracy: 0.9773\n",
            "\n",
            "Epoch: 27\n",
            "Train Loss: 0.0088 | Test Loss: 0.0952 | Train Accuray: 0.9965 | Test Accuracy: 0.9786\n",
            "\n",
            "Epoch: 28\n",
            "Train Loss: 0.0081 | Test Loss: 0.0973 | Train Accuray: 0.9961 | Test Accuracy: 0.9746\n",
            "\n",
            "Epoch: 29\n",
            "Train Loss: 0.0088 | Test Loss: 0.0919 | Train Accuray: 0.9959 | Test Accuracy: 0.9786\n",
            "\n",
            "Epoch: 30\n",
            "Train Loss: 0.0085 | Test Loss: 0.1106 | Train Accuray: 0.9961 | Test Accuracy: 0.9754\n",
            "\n"
          ]
        },
        {
          "output_type": "display_data",
          "data": {
            "text/plain": [
              "<Figure size 2000x800 with 2 Axes>"
            ],
            "image/png": "[encoded data removed]"
          },
          "metadata": {}
        },
        {
          "output_type": "stream",
          "name": "stdout",
          "text": [
            "Execution time of 2 iter: 398.0965149140002 Seconds.\n"
          ]
        },
        {
          "output_type": "display_data",
          "data": {
            "text/plain": [
              "<IPython.core.display.HTML object>"
            ],
            "text/html": [
              "Waiting for W&B process to finish... <strong style=\"color:green\">(success).</strong>"
            ]
          },
          "metadata": {}
        },
        {
          "output_type": "display_data",
          "data": {
            "text/plain": [
              "<IPython.core.display.HTML object>"
            ],
            "text/html": [
              "<style>\n",
              "    table.wandb td:nth-child(1) { padding: 0 10px; text-align: left ; width: auto;} td:nth-child(2) {text-align: left ; width: 100%}\n",
              "    .wandb-row { display: flex; flex-direction: row; flex-wrap: wrap; justify-content: flex-start; width: 100% }\n",
              "    .wandb-col { display: flex; flex-direction: column; flex-basis: 100%; flex: 1; padding: 10px; }\n",
              "    </style>\n",
              "<div class=\"wandb-row\"><div class=\"wandb-col\"><h3>Run history:</h3><br/><table class=\"wandb\"><tr><td>Train Accuracy</td><td>▁</td></tr><tr><td>Train Loss</td><td>▁</td></tr><tr><td>Validation Accuracy</td><td>▁</td></tr><tr><td>Validation Loss</td><td>▁</td></tr></table><br/></div><div class=\"wandb-col\"><h3>Run summary:</h3><br/><table class=\"wandb\"><tr><td>Train Accuracy</td><td>0.99614</td></tr><tr><td>Train Loss</td><td>0.00848</td></tr><tr><td>Validation Accuracy</td><td>0.97543</td></tr><tr><td>Validation Loss</td><td>0.11056</td></tr></table><br/></div></div>"
            ]
          },
          "metadata": {}
        },
        {
          "output_type": "display_data",
          "data": {
            "text/plain": [
              "<IPython.core.display.HTML object>"
            ],
            "text/html": [
              " View run <strong style=\"color:#cdcd00\">earnest-snow-29</strong> at: <a href='https://wandb.ai/maa_64/dlops-lab-assi-8/runs/vcqnhdrc' target=\"_blank\">https://wandb.ai/maa_64/dlops-lab-assi-8/runs/vcqnhdrc</a><br/>Synced 5 W&B file(s), 0 media file(s), 0 artifact file(s) and 0 other file(s)"
            ]
          },
          "metadata": {}
        },
        {
          "output_type": "display_data",
          "data": {
            "text/plain": [
              "<IPython.core.display.HTML object>"
            ],
            "text/html": [
              "Find logs at: <code>./wandb/run-20230418_173659-vcqnhdrc/logs</code>"
            ]
          },
          "metadata": {}
        },
        {
          "output_type": "stream",
          "name": "stdout",
          "text": [
            "Current iter: 3/4\n",
            "Activation function: RELU and Optimizer: Adam\n",
            "\n"
          ]
        },
        {
          "output_type": "display_data",
          "data": {
            "text/plain": [
              "<IPython.core.display.HTML object>"
            ],
            "text/html": [
              "Tracking run with wandb version 0.14.2"
            ]
          },
          "metadata": {}
        },
        {
          "output_type": "display_data",
          "data": {
            "text/plain": [
              "<IPython.core.display.HTML object>"
            ],
            "text/html": [
              "Run data is saved locally in <code>/content/wandb/run-20230418_174344-hrh9sxp1</code>"
            ]
          },
          "metadata": {}
        },
        {
          "output_type": "display_data",
          "data": {
            "text/plain": [
              "<IPython.core.display.HTML object>"
            ],
            "text/html": [
              "Syncing run <strong><a href='https://wandb.ai/maa_64/dlops-lab-assi-8/runs/hrh9sxp1' target=\"_blank\">devout-puddle-30</a></strong> to <a href='https://wandb.ai/maa_64/dlops-lab-assi-8' target=\"_blank\">Weights & Biases</a> (<a href='https://wandb.me/run' target=\"_blank\">docs</a>)<br/>"
            ]
          },
          "metadata": {}
        },
        {
          "output_type": "display_data",
          "data": {
            "text/plain": [
              "<IPython.core.display.HTML object>"
            ],
            "text/html": [
              " View project at <a href='https://wandb.ai/maa_64/dlops-lab-assi-8' target=\"_blank\">https://wandb.ai/maa_64/dlops-lab-assi-8</a>"
            ]
          },
          "metadata": {}
        },
        {
          "output_type": "display_data",
          "data": {
            "text/plain": [
              "<IPython.core.display.HTML object>"
            ],
            "text/html": [
              " View run at <a href='https://wandb.ai/maa_64/dlops-lab-assi-8/runs/hrh9sxp1' target=\"_blank\">https://wandb.ai/maa_64/dlops-lab-assi-8/runs/hrh9sxp1</a>"
            ]
          },
          "metadata": {}
        },
        {
          "output_type": "stream",
          "name": "stdout",
          "text": [
            "\n"
          ]
        },
        {
          "output_type": "display_data",
          "data": {
            "text/plain": [
              "  0%|          | 0/30 [00:00<?, ?it/s]"
            ],
            "application/vnd.jupyter.widget-view+json": {
              "version_major": 2,
              "version_minor": 0,
              "model_id": "55f2e17e0b76474a8aef21a4bdf9e7d2"
            }
          },
          "metadata": {}
        },
        {
          "output_type": "stream",
          "name": "stdout",
          "text": [
            "Epoch: 1\n",
            "Train Loss: 0.1972 | Test Loss: 0.1778 | Train Accuray: 0.9344 | Test Accuracy: 0.9432\n",
            "\n",
            "Epoch: 2\n",
            "Train Loss: 0.1092 | Test Loss: 0.0820 | Train Accuray: 0.9622 | Test Accuracy: 0.9717\n",
            "\n",
            "Epoch: 3\n",
            "Train Loss: 0.0902 | Test Loss: 0.0949 | Train Accuray: 0.9681 | Test Accuracy: 0.9671\n",
            "\n",
            "Epoch: 4\n",
            "Train Loss: 0.0999 | Test Loss: 0.3309 | Train Accuray: 0.9649 | Test Accuracy: 0.9161\n",
            "\n",
            "Epoch: 5\n",
            "Train Loss: 0.0745 | Test Loss: 0.1182 | Train Accuray: 0.9745 | Test Accuracy: 0.9573\n",
            "\n",
            "Epoch: 6\n",
            "Train Loss: 0.0631 | Test Loss: 0.0909 | Train Accuray: 0.9777 | Test Accuracy: 0.9736\n",
            "\n",
            "Epoch: 7\n",
            "Train Loss: 0.0732 | Test Loss: 0.0858 | Train Accuray: 0.9735 | Test Accuracy: 0.9707\n",
            "\n",
            "Epoch: 8\n",
            "Train Loss: 0.0577 | Test Loss: 0.0705 | Train Accuray: 0.9785 | Test Accuracy: 0.9746\n",
            "\n",
            "Epoch: 9\n",
            "Train Loss: 0.0465 | Test Loss: 0.0615 | Train Accuray: 0.9835 | Test Accuracy: 0.9793\n",
            "\n",
            "Epoch: 10\n",
            "Train Loss: 0.0532 | Test Loss: 0.0583 | Train Accuray: 0.9816 | Test Accuracy: 0.9791\n",
            "\n",
            "Epoch: 11\n",
            "Train Loss: 0.0504 | Test Loss: 0.0639 | Train Accuray: 0.9823 | Test Accuracy: 0.9768\n",
            "\n",
            "Epoch: 12\n",
            "Train Loss: 0.0466 | Test Loss: 0.0621 | Train Accuray: 0.9827 | Test Accuracy: 0.9778\n",
            "\n",
            "Epoch: 13\n",
            "Train Loss: 0.0440 | Test Loss: 0.0656 | Train Accuray: 0.9842 | Test Accuracy: 0.9780\n",
            "\n",
            "Epoch: 14\n",
            "Train Loss: 0.0401 | Test Loss: 0.0647 | Train Accuray: 0.9846 | Test Accuracy: 0.9771\n",
            "\n",
            "Epoch: 15\n",
            "Train Loss: 0.0396 | Test Loss: 0.0560 | Train Accuray: 0.9850 | Test Accuracy: 0.9780\n",
            "\n",
            "Epoch: 16\n",
            "Train Loss: 0.0304 | Test Loss: 0.0712 | Train Accuray: 0.9883 | Test Accuracy: 0.9755\n",
            "\n",
            "Epoch: 17\n",
            "Train Loss: 0.0373 | Test Loss: 0.0950 | Train Accuray: 0.9854 | Test Accuracy: 0.9723\n",
            "\n",
            "Epoch: 18\n",
            "Train Loss: 0.0295 | Test Loss: 0.0658 | Train Accuray: 0.9887 | Test Accuracy: 0.9775\n",
            "\n",
            "Epoch: 19\n",
            "Train Loss: 0.0254 | Test Loss: 0.0717 | Train Accuray: 0.9891 | Test Accuracy: 0.9777\n",
            "\n",
            "Epoch: 20\n",
            "Train Loss: 0.0269 | Test Loss: 0.0867 | Train Accuray: 0.9900 | Test Accuracy: 0.9704\n",
            "\n",
            "Epoch: 21\n",
            "Train Loss: 0.0252 | Test Loss: 0.0608 | Train Accuray: 0.9899 | Test Accuracy: 0.9787\n",
            "\n",
            "Epoch: 22\n",
            "Train Loss: 0.0255 | Test Loss: 0.0662 | Train Accuray: 0.9907 | Test Accuracy: 0.9774\n",
            "\n",
            "Epoch: 23\n",
            "Train Loss: 0.0193 | Test Loss: 0.0720 | Train Accuray: 0.9920 | Test Accuracy: 0.9782\n",
            "\n",
            "Epoch: 24\n",
            "Train Loss: 0.0194 | Test Loss: 0.0690 | Train Accuray: 0.9923 | Test Accuracy: 0.9773\n",
            "\n",
            "Epoch: 25\n",
            "Train Loss: 0.0182 | Test Loss: 0.0776 | Train Accuray: 0.9928 | Test Accuracy: 0.9795\n",
            "\n",
            "Epoch: 26\n",
            "Train Loss: 0.0207 | Test Loss: 0.0717 | Train Accuray: 0.9908 | Test Accuracy: 0.9790\n",
            "\n",
            "Epoch: 27\n",
            "Train Loss: 0.0173 | Test Loss: 0.0615 | Train Accuray: 0.9935 | Test Accuracy: 0.9799\n",
            "\n",
            "Epoch: 28\n",
            "Train Loss: 0.0200 | Test Loss: 0.0690 | Train Accuray: 0.9920 | Test Accuracy: 0.9797\n",
            "\n",
            "Epoch: 29\n",
            "Train Loss: 0.0192 | Test Loss: 0.0749 | Train Accuray: 0.9919 | Test Accuracy: 0.9796\n",
            "\n",
            "Epoch: 30\n",
            "Train Loss: 0.0181 | Test Loss: 0.0718 | Train Accuray: 0.9932 | Test Accuracy: 0.9778\n",
            "\n"
          ]
        },
        {
          "output_type": "display_data",
          "data": {
            "text/plain": [
              "<Figure size 2000x800 with 2 Axes>"
            ],
            "image/png": "[encoded data removed]"
          },
          "metadata": {}
        },
        {
          "output_type": "stream",
          "name": "stdout",
          "text": [
            "Execution time of 3 iter: 491.9555042820002 Seconds.\n"
          ]
        },
        {
          "output_type": "display_data",
          "data": {
            "text/plain": [
              "<IPython.core.display.HTML object>"
            ],
            "text/html": [
              "Waiting for W&B process to finish... <strong style=\"color:green\">(success).</strong>"
            ]
          },
          "metadata": {}
        },
        {
          "output_type": "display_data",
          "data": {
            "text/plain": [
              "<IPython.core.display.HTML object>"
            ],
            "text/html": [
              "<style>\n",
              "    table.wandb td:nth-child(1) { padding: 0 10px; text-align: left ; width: auto;} td:nth-child(2) {text-align: left ; width: 100%}\n",
              "    .wandb-row { display: flex; flex-direction: row; flex-wrap: wrap; justify-content: flex-start; width: 100% }\n",
              "    .wandb-col { display: flex; flex-direction: column; flex-basis: 100%; flex: 1; padding: 10px; }\n",
              "    </style>\n",
              "<div class=\"wandb-row\"><div class=\"wandb-col\"><h3>Run history:</h3><br/><table class=\"wandb\"><tr><td>Train Accuracy</td><td>▁</td></tr><tr><td>Train Loss</td><td>▁</td></tr><tr><td>Validation Accuracy</td><td>▁</td></tr><tr><td>Validation Loss</td><td>▁</td></tr></table><br/></div><div class=\"wandb-col\"><h3>Run summary:</h3><br/><table class=\"wandb\"><tr><td>Train Accuracy</td><td>0.99324</td></tr><tr><td>Train Loss</td><td>0.01808</td></tr><tr><td>Validation Accuracy</td><td>0.97785</td></tr><tr><td>Validation Loss</td><td>0.07176</td></tr></table><br/></div></div>"
            ]
          },
          "metadata": {}
        },
        {
          "output_type": "display_data",
          "data": {
            "text/plain": [
              "<IPython.core.display.HTML object>"
            ],
            "text/html": [
              " View run <strong style=\"color:#cdcd00\">devout-puddle-30</strong> at: <a href='https://wandb.ai/maa_64/dlops-lab-assi-8/runs/hrh9sxp1' target=\"_blank\">https://wandb.ai/maa_64/dlops-lab-assi-8/runs/hrh9sxp1</a><br/>Synced 5 W&B file(s), 0 media file(s), 0 artifact file(s) and 0 other file(s)"
            ]
          },
          "metadata": {}
        },
        {
          "output_type": "display_data",
          "data": {
            "text/plain": [
              "<IPython.core.display.HTML object>"
            ],
            "text/html": [
              "Find logs at: <code>./wandb/run-20230418_174344-hrh9sxp1/logs</code>"
            ]
          },
          "metadata": {}
        },
        {
          "output_type": "stream",
          "name": "stdout",
          "text": [
            "Current iter: 4/4\n",
            "Activation function: RELU and Optimizer: SGD\n",
            "\n"
          ]
        },
        {
          "output_type": "display_data",
          "data": {
            "text/plain": [
              "<IPython.core.display.HTML object>"
            ],
            "text/html": [
              "Tracking run with wandb version 0.14.2"
            ]
          },
          "metadata": {}
        },
        {
          "output_type": "display_data",
          "data": {
            "text/plain": [
              "<IPython.core.display.HTML object>"
            ],
            "text/html": [
              "Run data is saved locally in <code>/content/wandb/run-20230418_175244-yj2egqas</code>"
            ]
          },
          "metadata": {}
        },
        {
          "output_type": "display_data",
          "data": {
            "text/plain": [
              "<IPython.core.display.HTML object>"
            ],
            "text/html": [
              "Syncing run <strong><a href='https://wandb.ai/maa_64/dlops-lab-assi-8/runs/yj2egqas' target=\"_blank\">peachy-music-31</a></strong> to <a href='https://wandb.ai/maa_64/dlops-lab-assi-8' target=\"_blank\">Weights & Biases</a> (<a href='https://wandb.me/run' target=\"_blank\">docs</a>)<br/>"
            ]
          },
          "metadata": {}
        },
        {
          "output_type": "display_data",
          "data": {
            "text/plain": [
              "<IPython.core.display.HTML object>"
            ],
            "text/html": [
              " View project at <a href='https://wandb.ai/maa_64/dlops-lab-assi-8' target=\"_blank\">https://wandb.ai/maa_64/dlops-lab-assi-8</a>"
            ]
          },
          "metadata": {}
        },
        {
          "output_type": "display_data",
          "data": {
            "text/plain": [
              "<IPython.core.display.HTML object>"
            ],
            "text/html": [
              " View run at <a href='https://wandb.ai/maa_64/dlops-lab-assi-8/runs/yj2egqas' target=\"_blank\">https://wandb.ai/maa_64/dlops-lab-assi-8/runs/yj2egqas</a>"
            ]
          },
          "metadata": {}
        },
        {
          "output_type": "stream",
          "name": "stdout",
          "text": [
            "\n"
          ]
        },
        {
          "output_type": "display_data",
          "data": {
            "text/plain": [
              "  0%|          | 0/30 [00:00<?, ?it/s]"
            ],
            "application/vnd.jupyter.widget-view+json": {
              "version_major": 2,
              "version_minor": 0,
              "model_id": "33db9748e7794330a715c999bbcc98a9"
            }
          },
          "metadata": {}
        },
        {
          "output_type": "stream",
          "name": "stdout",
          "text": [
            "Epoch: 1\n",
            "Train Loss: 0.1992 | Test Loss: 0.1022 | Train Accuray: 0.9277 | Test Accuracy: 0.9650\n",
            "\n",
            "Epoch: 2\n",
            "Train Loss: 0.1011 | Test Loss: 0.0947 | Train Accuray: 0.9618 | Test Accuracy: 0.9671\n",
            "\n",
            "Epoch: 3\n",
            "Train Loss: 0.0759 | Test Loss: 0.0810 | Train Accuray: 0.9702 | Test Accuracy: 0.9675\n",
            "\n",
            "Epoch: 4\n",
            "Train Loss: 0.0664 | Test Loss: 0.1038 | Train Accuray: 0.9742 | Test Accuracy: 0.9685\n",
            "\n",
            "Epoch: 5\n",
            "Train Loss: 0.0524 | Test Loss: 0.0706 | Train Accuray: 0.9788 | Test Accuracy: 0.9720\n",
            "\n",
            "Epoch: 6\n",
            "Train Loss: 0.0454 | Test Loss: 0.0845 | Train Accuray: 0.9833 | Test Accuracy: 0.9717\n",
            "\n",
            "Epoch: 7\n",
            "Train Loss: 0.0418 | Test Loss: 0.0737 | Train Accuray: 0.9823 | Test Accuracy: 0.9736\n",
            "\n",
            "Epoch: 8\n",
            "Train Loss: 0.0361 | Test Loss: 0.0770 | Train Accuray: 0.9852 | Test Accuracy: 0.9743\n",
            "\n",
            "Epoch: 9\n",
            "Train Loss: 0.0330 | Test Loss: 0.0753 | Train Accuray: 0.9869 | Test Accuracy: 0.9735\n",
            "\n",
            "Epoch: 10\n",
            "Train Loss: 0.0317 | Test Loss: 0.0722 | Train Accuray: 0.9866 | Test Accuracy: 0.9775\n",
            "\n",
            "Epoch: 11\n",
            "Train Loss: 0.0292 | Test Loss: 0.0720 | Train Accuray: 0.9881 | Test Accuracy: 0.9758\n",
            "\n",
            "Epoch: 12\n",
            "Train Loss: 0.0308 | Test Loss: 0.0801 | Train Accuray: 0.9870 | Test Accuracy: 0.9740\n",
            "\n",
            "Epoch: 13\n",
            "Train Loss: 0.0269 | Test Loss: 0.1030 | Train Accuray: 0.9893 | Test Accuracy: 0.9717\n",
            "\n",
            "Epoch: 14\n",
            "Train Loss: 0.0220 | Test Loss: 0.0818 | Train Accuray: 0.9904 | Test Accuracy: 0.9760\n",
            "\n",
            "Epoch: 15\n",
            "Train Loss: 0.0215 | Test Loss: 0.0833 | Train Accuray: 0.9904 | Test Accuracy: 0.9750\n",
            "\n",
            "Epoch: 16\n",
            "Train Loss: 0.0179 | Test Loss: 0.1041 | Train Accuray: 0.9923 | Test Accuracy: 0.9740\n",
            "\n",
            "Epoch: 17\n",
            "Train Loss: 0.0216 | Test Loss: 0.0881 | Train Accuray: 0.9902 | Test Accuracy: 0.9778\n",
            "\n",
            "Epoch: 18\n",
            "Train Loss: 0.0169 | Test Loss: 0.0918 | Train Accuray: 0.9934 | Test Accuracy: 0.9748\n",
            "\n",
            "Epoch: 19\n",
            "Train Loss: 0.0179 | Test Loss: 0.0851 | Train Accuray: 0.9920 | Test Accuracy: 0.9771\n",
            "\n",
            "Epoch: 20\n",
            "Train Loss: 0.0142 | Test Loss: 0.0889 | Train Accuray: 0.9936 | Test Accuracy: 0.9746\n",
            "\n",
            "Epoch: 21\n",
            "Train Loss: 0.0147 | Test Loss: 0.0875 | Train Accuray: 0.9938 | Test Accuracy: 0.9778\n",
            "\n",
            "Epoch: 22\n",
            "Train Loss: 0.0139 | Test Loss: 0.0891 | Train Accuray: 0.9946 | Test Accuracy: 0.9784\n",
            "\n",
            "Epoch: 23\n",
            "Train Loss: 0.0128 | Test Loss: 0.0842 | Train Accuray: 0.9951 | Test Accuracy: 0.9768\n",
            "\n",
            "Epoch: 24\n",
            "Train Loss: 0.0129 | Test Loss: 0.0968 | Train Accuray: 0.9942 | Test Accuracy: 0.9736\n",
            "\n",
            "Epoch: 25\n",
            "Train Loss: 0.0111 | Test Loss: 0.1056 | Train Accuray: 0.9951 | Test Accuracy: 0.9754\n",
            "\n",
            "Epoch: 26\n",
            "Train Loss: 0.0124 | Test Loss: 0.0990 | Train Accuray: 0.9938 | Test Accuracy: 0.9741\n",
            "\n",
            "Epoch: 27\n",
            "Train Loss: 0.0107 | Test Loss: 0.0957 | Train Accuray: 0.9953 | Test Accuracy: 0.9768\n",
            "\n",
            "Epoch: 28\n",
            "Train Loss: 0.0085 | Test Loss: 0.0948 | Train Accuray: 0.9960 | Test Accuracy: 0.9747\n",
            "\n",
            "Epoch: 29\n",
            "Train Loss: 0.0073 | Test Loss: 0.1040 | Train Accuray: 0.9965 | Test Accuracy: 0.9774\n",
            "\n",
            "Epoch: 30\n",
            "Train Loss: 0.0068 | Test Loss: 0.1456 | Train Accuray: 0.9967 | Test Accuracy: 0.9646\n",
            "\n"
          ]
        },
        {
          "output_type": "display_data",
          "data": {
            "text/plain": [
              "<Figure size 2000x800 with 2 Axes>"
            ],
            "image/png": "[encoded data removed]"
          },
          "metadata": {}
        },
        {
          "output_type": "stream",
          "name": "stdout",
          "text": [
            "Execution time of 4 iter: 399.0964121699999 Seconds.\n"
          ]
        },
        {
          "output_type": "display_data",
          "data": {
            "text/plain": [
              "<IPython.core.display.HTML object>"
            ],
            "text/html": [
              "Waiting for W&B process to finish... <strong style=\"color:green\">(success).</strong>"
            ]
          },
          "metadata": {}
        },
        {
          "output_type": "display_data",
          "data": {
            "text/plain": [
              "VBox(children=(Label(value='0.001 MB of 0.001 MB uploaded (0.000 MB deduped)\\r'), FloatProgress(value=1.0, max…"
            ],
            "application/vnd.jupyter.widget-view+json": {
              "version_major": 2,
              "version_minor": 0,
              "model_id": "79bd1c3b8bc74d08bb824d4d9e52daba"
            }
          },
          "metadata": {}
        },
        {
          "output_type": "display_data",
          "data": {
            "text/plain": [
              "<IPython.core.display.HTML object>"
            ],
            "text/html": [
              "<style>\n",
              "    table.wandb td:nth-child(1) { padding: 0 10px; text-align: left ; width: auto;} td:nth-child(2) {text-align: left ; width: 100%}\n",
              "    .wandb-row { display: flex; flex-direction: row; flex-wrap: wrap; justify-content: flex-start; width: 100% }\n",
              "    .wandb-col { display: flex; flex-direction: column; flex-basis: 100%; flex: 1; padding: 10px; }\n",
              "    </style>\n",
              "<div class=\"wandb-row\"><div class=\"wandb-col\"><h3>Run history:</h3><br/><table class=\"wandb\"><tr><td>Train Accuracy</td><td>▁</td></tr><tr><td>Train Loss</td><td>▁</td></tr><tr><td>Validation Accuracy</td><td>▁</td></tr><tr><td>Validation Loss</td><td>▁</td></tr></table><br/></div><div class=\"wandb-col\"><h3>Run summary:</h3><br/><table class=\"wandb\"><tr><td>Train Accuracy</td><td>0.9967</td></tr><tr><td>Train Loss</td><td>0.00679</td></tr><tr><td>Validation Accuracy</td><td>0.96463</td></tr><tr><td>Validation Loss</td><td>0.14557</td></tr></table><br/></div></div>"
            ]
          },
          "metadata": {}
        },
        {
          "output_type": "display_data",
          "data": {
            "text/plain": [
              "<IPython.core.display.HTML object>"
            ],
            "text/html": [
              " View run <strong style=\"color:#cdcd00\">peachy-music-31</strong> at: <a href='https://wandb.ai/maa_64/dlops-lab-assi-8/runs/yj2egqas' target=\"_blank\">https://wandb.ai/maa_64/dlops-lab-assi-8/runs/yj2egqas</a><br/>Synced 5 W&B file(s), 0 media file(s), 0 artifact file(s) and 0 other file(s)"
            ]
          },
          "metadata": {}
        },
        {
          "output_type": "display_data",
          "data": {
            "text/plain": [
              "<IPython.core.display.HTML object>"
            ],
            "text/html": [
              "Find logs at: <code>./wandb/run-20230418_175244-yj2egqas/logs</code>"
            ]
          },
          "metadata": {}
        }
      ],
      "source": [
        "# init. epochs\n",
        "epoches = 30\n",
        "\n",
        "current, total_hy = 1, len(activation_function) * len(optimizer)\n",
        "\n",
        "\n",
        "for h_p in hyper_para:\n",
        "  print(f'Current iter: {current}/{total_hy}')\n",
        "  print(f'Activation function: {h_p[0]} and Optimizer: {h_p[1]}')\n",
        "  print()\n",
        "\n",
        "  start_time = timer()\n",
        "\n",
        "  model_18 = models.resnet18(weights = 'DEFAULT', progress = False)\n",
        "  model_18.conv1 = torch.nn.Conv2d(1, 64, kernel_size=(7, 7), stride=(2, 2), padding=(3, 3), bias=False)\n",
        "  feature_number = model_18.fc.in_features\n",
        "  model_18.fc = nn.Linear(feature_number, len(class_names))\n",
        "  model_18 = model_18.to(device)\n",
        "\n",
        "  if h_p[0] == 'Tanh':\n",
        "    # model_18 = nn.Sequential(*funct(list(model_18.children()))).to(device)\n",
        "    for name,child in model_18.named_children():\n",
        "      if isinstance(child,nn.ReLU) or isinstance(child,nn.Tanh):\n",
        "          model_18._modules['relu'] = nn.Tanh()\n",
        "\n",
        "\n",
        "  if h_p[1] == 'Adam':\n",
        "    optim = torch.optim.Adam(params = model_18.parameters(), lr = 1e-3)\n",
        "  else:\n",
        "    optim = torch.optim.SGD(params = model_18.parameters(), lr = 1e-2)\n",
        "\n",
        "  wandb.init(\n",
        "        # set the wandb project where this run will be logged\n",
        "        project=\"dlops-lab-assi-8\",\n",
        "        \n",
        "        # track hyperparameters and run metadata\n",
        "        config={\n",
        "        \"activation_function\": h_p[0],\n",
        "        \"optimizer\": h_p[1],\n",
        "        \"architecture\": \"Resnet18\",\n",
        "        \"dataset\": \"FashionMNIST\",\n",
        "        \"epochs\": epoches,\n",
        "        }\n",
        "    )\n",
        "\n",
        "  \n",
        "  model_18_train_loss, model_18_test_loss = [], []\n",
        "  model_18_train_accs, model_18_test_accs = [], []\n",
        "  print()\n",
        "\n",
        "  torch.manual_seed(64)\n",
        "  torch.cuda.manual_seed(64)\n",
        "  for epoch in tqdm(range(epoches)):\n",
        "    print(f\"Epoch: {epoch+1}\")\n",
        "    train_loss, train_acc = train_loop(model = model_18, dataloader = train_dataloader,\n",
        "                                      loss_fn = loss_fn, optimizer = optim,\n",
        "                                      accuracy_fn = accuracy_fn, device = device)\n",
        "    \n",
        "    test_loss, test_acc = test_loop(model = model_18, dataloader = test_dataloader,\n",
        "                                    loss_fn = loss_fn, accuracy_fn = accuracy_fn,\n",
        "                                    device = device)\n",
        "    \n",
        "    val_loss, accuracy = validate_model(model_18, test_dataloader, loss_fn, accuracy_fn, log_images=(epoch==(wandb.config.epochs-1)), device = device)\n",
        "    \n",
        "    model_18_train_loss.append(train_loss.item())\n",
        "    model_18_test_loss.append(test_loss.item())\n",
        "    model_18_train_accs.append(train_acc.item())\n",
        "    model_18_test_accs.append(test_acc.item())\n",
        "\n",
        "\n",
        "    print(f\"Train Loss: {train_loss:.4f} | Test Loss: {test_loss:.4f} | Train Accuray: {train_acc:.4f} | Test Accuracy: {test_acc:.4f}\")\n",
        "    print()\n",
        "\n",
        "  wandb.log({\"Train Loss\": train_loss, \"Train Accuracy\": train_acc, \"Validation Loss\": val_loss, \"Validation Accuracy\": accuracy})\n",
        "\n",
        "  plot_graph(model_18_train_loss, model_18_test_loss, model_18_train_accs, model_18_test_accs)\n",
        "\n",
        "  end_time = timer()\n",
        "\n",
        "  print(f\"Execution time of {current} iter: {end_time - start_time} Seconds.\")\n",
        "\n",
        "  wandb.finish()\n",
        "\n",
        "  current += 1\n",
        "  # save_model('cifair100_model_18.pth', model_18)\n",
        "  # print(\"Model saved\")"
      ]
    }
  ],
  "metadata": {
    "accelerator": "GPU",
    "colab": {
      "provenance": []
    },
    "gpuClass": "standard",
    "kernelspec": {
      "display_name": "Python 3",
      "name": "python3"
    },
    "language_info": {
      "name": "python"
    },
    "widgets": {
      "application/vnd.jupyter.widget-state+json": {
        "2c0dc07b97a440e19291a0e92b9566fa": {
          "model_module": "@jupyter-widgets/controls",
          "model_name": "HBoxModel",
          "model_module_version": "1.5.0",
          "state": {
            "_dom_classes": [],
            "_model_module": "@jupyter-widgets/controls",
            "_model_module_version": "1.5.0",
            "_model_name": "HBoxModel",
            "_view_count": null,
            "_view_module": "@jupyter-widgets/controls",
            "_view_module_version": "1.5.0",
            "_view_name": "HBoxView",
            "box_style": "",
            "children": [
              "IPY_MODEL_cb726e91dfa64ae9a48d2d4c4c362646",
              "IPY_MODEL_242f53cddae941a6b5cc687c21927f14",
              "IPY_MODEL_d51bdb4498e643029636bb72ee26726e"
            ],
            "layout": "IPY_MODEL_d2edf30dd1144f8eb655ef205a02a955"
          }
        },
        "cb726e91dfa64ae9a48d2d4c4c362646": {
          "model_module": "@jupyter-widgets/controls",
          "model_name": "HTMLModel",
          "model_module_version": "1.5.0",
          "state": {
            "_dom_classes": [],
            "_model_module": "@jupyter-widgets/controls",
            "_model_module_version": "1.5.0",
            "_model_name": "HTMLModel",
            "_view_count": null,
            "_view_module": "@jupyter-widgets/controls",
            "_view_module_version": "1.5.0",
            "_view_name": "HTMLView",
            "description": "",
            "description_tooltip": null,
            "layout": "IPY_MODEL_177881669b5e4436b44f8eb20e9ac890",
            "placeholder": "​",
            "style": "IPY_MODEL_5371db19475d462cbe82a5d233367aa9",
            "value": "100%"
          }
        },
        "242f53cddae941a6b5cc687c21927f14": {
          "model_module": "@jupyter-widgets/controls",
          "model_name": "FloatProgressModel",
          "model_module_version": "1.5.0",
          "state": {
            "_dom_classes": [],
            "_model_module": "@jupyter-widgets/controls",
            "_model_module_version": "1.5.0",
            "_model_name": "FloatProgressModel",
            "_view_count": null,
            "_view_module": "@jupyter-widgets/controls",
            "_view_module_version": "1.5.0",
            "_view_name": "ProgressView",
            "bar_style": "success",
            "description": "",
            "description_tooltip": null,
            "layout": "IPY_MODEL_2193da3714db440194693cec620aa7e2",
            "max": 30,
            "min": 0,
            "orientation": "horizontal",
            "style": "IPY_MODEL_235d3f54d5e443c29f541e4207fa178b",
            "value": 30
          }
        },
        "d51bdb4498e643029636bb72ee26726e": {
          "model_module": "@jupyter-widgets/controls",
          "model_name": "HTMLModel",
          "model_module_version": "1.5.0",
          "state": {
            "_dom_classes": [],
            "_model_module": "@jupyter-widgets/controls",
            "_model_module_version": "1.5.0",
            "_model_name": "HTMLModel",
            "_view_count": null,
            "_view_module": "@jupyter-widgets/controls",
            "_view_module_version": "1.5.0",
            "_view_name": "HTMLView",
            "description": "",
            "description_tooltip": null,
            "layout": "IPY_MODEL_11f3841bb0614cb194f20665796da9bc",
            "placeholder": "​",
            "style": "IPY_MODEL_07603c83afd84fca9bd4841a4f87ccbd",
            "value": " 30/30 [08:08&lt;00:00, 16.09s/it]"
          }
        },
        "d2edf30dd1144f8eb655ef205a02a955": {
          "model_module": "@jupyter-widgets/base",
          "model_name": "LayoutModel",
          "model_module_version": "1.2.0",
          "state": {
            "_model_module": "@jupyter-widgets/base",
            "_model_module_version": "1.2.0",
            "_model_name": "LayoutModel",
            "_view_count": null,
            "_view_module": "@jupyter-widgets/base",
            "_view_module_version": "1.2.0",
            "_view_name": "LayoutView",
            "align_content": null,
            "align_items": null,
            "align_self": null,
            "border": null,
            "bottom": null,
            "display": null,
            "flex": null,
            "flex_flow": null,
            "grid_area": null,
            "grid_auto_columns": null,
            "grid_auto_flow": null,
            "grid_auto_rows": null,
            "grid_column": null,
            "grid_gap": null,
            "grid_row": null,
            "grid_template_areas": null,
            "grid_template_columns": null,
            "grid_template_rows": null,
            "height": null,
            "justify_content": null,
            "justify_items": null,
            "left": null,
            "margin": null,
            "max_height": null,
            "max_width": null,
            "min_height": null,
            "min_width": null,
            "object_fit": null,
            "object_position": null,
            "order": null,
            "overflow": null,
            "overflow_x": null,
            "overflow_y": null,
            "padding": null,
            "right": null,
            "top": null,
            "visibility": null,
            "width": null
          }
        },
        "177881669b5e4436b44f8eb20e9ac890": {
          "model_module": "@jupyter-widgets/base",
          "model_name": "LayoutModel",
          "model_module_version": "1.2.0",
          "state": {
            "_model_module": "@jupyter-widgets/base",
            "_model_module_version": "1.2.0",
            "_model_name": "LayoutModel",
            "_view_count": null,
            "_view_module": "@jupyter-widgets/base",
            "_view_module_version": "1.2.0",
            "_view_name": "LayoutView",
            "align_content": null,
            "align_items": null,
            "align_self": null,
            "border": null,
            "bottom": null,
            "display": null,
            "flex": null,
            "flex_flow": null,
            "grid_area": null,
            "grid_auto_columns": null,
            "grid_auto_flow": null,
            "grid_auto_rows": null,
            "grid_column": null,
            "grid_gap": null,
            "grid_row": null,
            "grid_template_areas": null,
            "grid_template_columns": null,
            "grid_template_rows": null,
            "height": null,
            "justify_content": null,
            "justify_items": null,
            "left": null,
            "margin": null,
            "max_height": null,
            "max_width": null,
            "min_height": null,
            "min_width": null,
            "object_fit": null,
            "object_position": null,
            "order": null,
            "overflow": null,
            "overflow_x": null,
            "overflow_y": null,
            "padding": null,
            "right": null,
            "top": null,
            "visibility": null,
            "width": null
          }
        },
        "5371db19475d462cbe82a5d233367aa9": {
          "model_module": "@jupyter-widgets/controls",
          "model_name": "DescriptionStyleModel",
          "model_module_version": "1.5.0",
          "state": {
            "_model_module": "@jupyter-widgets/controls",
            "_model_module_version": "1.5.0",
            "_model_name": "DescriptionStyleModel",
            "_view_count": null,
            "_view_module": "@jupyter-widgets/base",
            "_view_module_version": "1.2.0",
            "_view_name": "StyleView",
            "description_width": ""
          }
        },
        "2193da3714db440194693cec620aa7e2": {
          "model_module": "@jupyter-widgets/base",
          "model_name": "LayoutModel",
          "model_module_version": "1.2.0",
          "state": {
            "_model_module": "@jupyter-widgets/base",
            "_model_module_version": "1.2.0",
            "_model_name": "LayoutModel",
            "_view_count": null,
            "_view_module": "@jupyter-widgets/base",
            "_view_module_version": "1.2.0",
            "_view_name": "LayoutView",
            "align_content": null,
            "align_items": null,
            "align_self": null,
            "border": null,
            "bottom": null,
            "display": null,
            "flex": null,
            "flex_flow": null,
            "grid_area": null,
            "grid_auto_columns": null,
            "grid_auto_flow": null,
            "grid_auto_rows": null,
            "grid_column": null,
            "grid_gap": null,
            "grid_row": null,
            "grid_template_areas": null,
            "grid_template_columns": null,
            "grid_template_rows": null,
            "height": null,
            "justify_content": null,
            "justify_items": null,
            "left": null,
            "margin": null,
            "max_height": null,
            "max_width": null,
            "min_height": null,
            "min_width": null,
            "object_fit": null,
            "object_position": null,
            "order": null,
            "overflow": null,
            "overflow_x": null,
            "overflow_y": null,
            "padding": null,
            "right": null,
            "top": null,
            "visibility": null,
            "width": null
          }
        },
        "235d3f54d5e443c29f541e4207fa178b": {
          "model_module": "@jupyter-widgets/controls",
          "model_name": "ProgressStyleModel",
          "model_module_version": "1.5.0",
          "state": {
            "_model_module": "@jupyter-widgets/controls",
            "_model_module_version": "1.5.0",
            "_model_name": "ProgressStyleModel",
            "_view_count": null,
            "_view_module": "@jupyter-widgets/base",
            "_view_module_version": "1.2.0",
            "_view_name": "StyleView",
            "bar_color": null,
            "description_width": ""
          }
        },
        "11f3841bb0614cb194f20665796da9bc": {
          "model_module": "@jupyter-widgets/base",
          "model_name": "LayoutModel",
          "model_module_version": "1.2.0",
          "state": {
            "_model_module": "@jupyter-widgets/base",
            "_model_module_version": "1.2.0",
            "_model_name": "LayoutModel",
            "_view_count": null,
            "_view_module": "@jupyter-widgets/base",
            "_view_module_version": "1.2.0",
            "_view_name": "LayoutView",
            "align_content": null,
            "align_items": null,
            "align_self": null,
            "border": null,
            "bottom": null,
            "display": null,
            "flex": null,
            "flex_flow": null,
            "grid_area": null,
            "grid_auto_columns": null,
            "grid_auto_flow": null,
            "grid_auto_rows": null,
            "grid_column": null,
            "grid_gap": null,
            "grid_row": null,
            "grid_template_areas": null,
            "grid_template_columns": null,
            "grid_template_rows": null,
            "height": null,
            "justify_content": null,
            "justify_items": null,
            "left": null,
            "margin": null,
            "max_height": null,
            "max_width": null,
            "min_height": null,
            "min_width": null,
            "object_fit": null,
            "object_position": null,
            "order": null,
            "overflow": null,
            "overflow_x": null,
            "overflow_y": null,
            "padding": null,
            "right": null,
            "top": null,
            "visibility": null,
            "width": null
          }
        },
        "07603c83afd84fca9bd4841a4f87ccbd": {
          "model_module": "@jupyter-widgets/controls",
          "model_name": "DescriptionStyleModel",
          "model_module_version": "1.5.0",
          "state": {
            "_model_module": "@jupyter-widgets/controls",
            "_model_module_version": "1.5.0",
            "_model_name": "DescriptionStyleModel",
            "_view_count": null,
            "_view_module": "@jupyter-widgets/base",
            "_view_module_version": "1.2.0",
            "_view_name": "StyleView",
            "description_width": ""
          }
        },
        "b54e1cc7c5b64e5697a8a4ee224f154d": {
          "model_module": "@jupyter-widgets/controls",
          "model_name": "HBoxModel",
          "model_module_version": "1.5.0",
          "state": {
            "_dom_classes": [],
            "_model_module": "@jupyter-widgets/controls",
            "_model_module_version": "1.5.0",
            "_model_name": "HBoxModel",
            "_view_count": null,
            "_view_module": "@jupyter-widgets/controls",
            "_view_module_version": "1.5.0",
            "_view_name": "HBoxView",
            "box_style": "",
            "children": [
              "IPY_MODEL_fe819a7fc0284ae3a4ae78bc4e9a0334",
              "IPY_MODEL_78ea685955144363af285b05935a43b9",
              "IPY_MODEL_b12245511675425cb1815e91d6054358"
            ],
            "layout": "IPY_MODEL_ab0d78cd7edd4f81bb18159b8fe38016"
          }
        },
        "fe819a7fc0284ae3a4ae78bc4e9a0334": {
          "model_module": "@jupyter-widgets/controls",
          "model_name": "HTMLModel",
          "model_module_version": "1.5.0",
          "state": {
            "_dom_classes": [],
            "_model_module": "@jupyter-widgets/controls",
            "_model_module_version": "1.5.0",
            "_model_name": "HTMLModel",
            "_view_count": null,
            "_view_module": "@jupyter-widgets/controls",
            "_view_module_version": "1.5.0",
            "_view_name": "HTMLView",
            "description": "",
            "description_tooltip": null,
            "layout": "IPY_MODEL_6c96931f56704cb29a7ea4e3d56495b9",
            "placeholder": "​",
            "style": "IPY_MODEL_fcad4f8ed64148dea5cdf3d8669e8897",
            "value": "100%"
          }
        },
        "78ea685955144363af285b05935a43b9": {
          "model_module": "@jupyter-widgets/controls",
          "model_name": "FloatProgressModel",
          "model_module_version": "1.5.0",
          "state": {
            "_dom_classes": [],
            "_model_module": "@jupyter-widgets/controls",
            "_model_module_version": "1.5.0",
            "_model_name": "FloatProgressModel",
            "_view_count": null,
            "_view_module": "@jupyter-widgets/controls",
            "_view_module_version": "1.5.0",
            "_view_name": "ProgressView",
            "bar_style": "success",
            "description": "",
            "description_tooltip": null,
            "layout": "IPY_MODEL_00dc86b9d6a84a7ea0cabe0040d2422a",
            "max": 30,
            "min": 0,
            "orientation": "horizontal",
            "style": "IPY_MODEL_7dc183a6276f42ce84d716091050f9f9",
            "value": 30
          }
        },
        "b12245511675425cb1815e91d6054358": {
          "model_module": "@jupyter-widgets/controls",
          "model_name": "HTMLModel",
          "model_module_version": "1.5.0",
          "state": {
            "_dom_classes": [],
            "_model_module": "@jupyter-widgets/controls",
            "_model_module_version": "1.5.0",
            "_model_name": "HTMLModel",
            "_view_count": null,
            "_view_module": "@jupyter-widgets/controls",
            "_view_module_version": "1.5.0",
            "_view_name": "HTMLView",
            "description": "",
            "description_tooltip": null,
            "layout": "IPY_MODEL_044ae93562724119988d3f8601521e10",
            "placeholder": "​",
            "style": "IPY_MODEL_ba0839861f644a778c164c28c00e461f",
            "value": " 30/30 [06:33&lt;00:00, 13.29s/it]"
          }
        },
        "ab0d78cd7edd4f81bb18159b8fe38016": {
          "model_module": "@jupyter-widgets/base",
          "model_name": "LayoutModel",
          "model_module_version": "1.2.0",
          "state": {
            "_model_module": "@jupyter-widgets/base",
            "_model_module_version": "1.2.0",
            "_model_name": "LayoutModel",
            "_view_count": null,
            "_view_module": "@jupyter-widgets/base",
            "_view_module_version": "1.2.0",
            "_view_name": "LayoutView",
            "align_content": null,
            "align_items": null,
            "align_self": null,
            "border": null,
            "bottom": null,
            "display": null,
            "flex": null,
            "flex_flow": null,
            "grid_area": null,
            "grid_auto_columns": null,
            "grid_auto_flow": null,
            "grid_auto_rows": null,
            "grid_column": null,
            "grid_gap": null,
            "grid_row": null,
            "grid_template_areas": null,
            "grid_template_columns": null,
            "grid_template_rows": null,
            "height": null,
            "justify_content": null,
            "justify_items": null,
            "left": null,
            "margin": null,
            "max_height": null,
            "max_width": null,
            "min_height": null,
            "min_width": null,
            "object_fit": null,
            "object_position": null,
            "order": null,
            "overflow": null,
            "overflow_x": null,
            "overflow_y": null,
            "padding": null,
            "right": null,
            "top": null,
            "visibility": null,
            "width": null
          }
        },
        "6c96931f56704cb29a7ea4e3d56495b9": {
          "model_module": "@jupyter-widgets/base",
          "model_name": "LayoutModel",
          "model_module_version": "1.2.0",
          "state": {
            "_model_module": "@jupyter-widgets/base",
            "_model_module_version": "1.2.0",
            "_model_name": "LayoutModel",
            "_view_count": null,
            "_view_module": "@jupyter-widgets/base",
            "_view_module_version": "1.2.0",
            "_view_name": "LayoutView",
            "align_content": null,
            "align_items": null,
            "align_self": null,
            "border": null,
            "bottom": null,
            "display": null,
            "flex": null,
            "flex_flow": null,
            "grid_area": null,
            "grid_auto_columns": null,
            "grid_auto_flow": null,
            "grid_auto_rows": null,
            "grid_column": null,
            "grid_gap": null,
            "grid_row": null,
            "grid_template_areas": null,
            "grid_template_columns": null,
            "grid_template_rows": null,
            "height": null,
            "justify_content": null,
            "justify_items": null,
            "left": null,
            "margin": null,
            "max_height": null,
            "max_width": null,
            "min_height": null,
            "min_width": null,
            "object_fit": null,
            "object_position": null,
            "order": null,
            "overflow": null,
            "overflow_x": null,
            "overflow_y": null,
            "padding": null,
            "right": null,
            "top": null,
            "visibility": null,
            "width": null
          }
        },
        "fcad4f8ed64148dea5cdf3d8669e8897": {
          "model_module": "@jupyter-widgets/controls",
          "model_name": "DescriptionStyleModel",
          "model_module_version": "1.5.0",
          "state": {
            "_model_module": "@jupyter-widgets/controls",
            "_model_module_version": "1.5.0",
            "_model_name": "DescriptionStyleModel",
            "_view_count": null,
            "_view_module": "@jupyter-widgets/base",
            "_view_module_version": "1.2.0",
            "_view_name": "StyleView",
            "description_width": ""
          }
        },
        "00dc86b9d6a84a7ea0cabe0040d2422a": {
          "model_module": "@jupyter-widgets/base",
          "model_name": "LayoutModel",
          "model_module_version": "1.2.0",
          "state": {
            "_model_module": "@jupyter-widgets/base",
            "_model_module_version": "1.2.0",
            "_model_name": "LayoutModel",
            "_view_count": null,
            "_view_module": "@jupyter-widgets/base",
            "_view_module_version": "1.2.0",
            "_view_name": "LayoutView",
            "align_content": null,
            "align_items": null,
            "align_self": null,
            "border": null,
            "bottom": null,
            "display": null,
            "flex": null,
            "flex_flow": null,
            "grid_area": null,
            "grid_auto_columns": null,
            "grid_auto_flow": null,
            "grid_auto_rows": null,
            "grid_column": null,
            "grid_gap": null,
            "grid_row": null,
            "grid_template_areas": null,
            "grid_template_columns": null,
            "grid_template_rows": null,
            "height": null,
            "justify_content": null,
            "justify_items": null,
            "left": null,
            "margin": null,
            "max_height": null,
            "max_width": null,
            "min_height": null,
            "min_width": null,
            "object_fit": null,
            "object_position": null,
            "order": null,
            "overflow": null,
            "overflow_x": null,
            "overflow_y": null,
            "padding": null,
            "right": null,
            "top": null,
            "visibility": null,
            "width": null
          }
        },
        "7dc183a6276f42ce84d716091050f9f9": {
          "model_module": "@jupyter-widgets/controls",
          "model_name": "ProgressStyleModel",
          "model_module_version": "1.5.0",
          "state": {
            "_model_module": "@jupyter-widgets/controls",
            "_model_module_version": "1.5.0",
            "_model_name": "ProgressStyleModel",
            "_view_count": null,
            "_view_module": "@jupyter-widgets/base",
            "_view_module_version": "1.2.0",
            "_view_name": "StyleView",
            "bar_color": null,
            "description_width": ""
          }
        },
        "044ae93562724119988d3f8601521e10": {
          "model_module": "@jupyter-widgets/base",
          "model_name": "LayoutModel",
          "model_module_version": "1.2.0",
          "state": {
            "_model_module": "@jupyter-widgets/base",
            "_model_module_version": "1.2.0",
            "_model_name": "LayoutModel",
            "_view_count": null,
            "_view_module": "@jupyter-widgets/base",
            "_view_module_version": "1.2.0",
            "_view_name": "LayoutView",
            "align_content": null,
            "align_items": null,
            "align_self": null,
            "border": null,
            "bottom": null,
            "display": null,
            "flex": null,
            "flex_flow": null,
            "grid_area": null,
            "grid_auto_columns": null,
            "grid_auto_flow": null,
            "grid_auto_rows": null,
            "grid_column": null,
            "grid_gap": null,
            "grid_row": null,
            "grid_template_areas": null,
            "grid_template_columns": null,
            "grid_template_rows": null,
            "height": null,
            "justify_content": null,
            "justify_items": null,
            "left": null,
            "margin": null,
            "max_height": null,
            "max_width": null,
            "min_height": null,
            "min_width": null,
            "object_fit": null,
            "object_position": null,
            "order": null,
            "overflow": null,
            "overflow_x": null,
            "overflow_y": null,
            "padding": null,
            "right": null,
            "top": null,
            "visibility": null,
            "width": null
          }
        },
        "ba0839861f644a778c164c28c00e461f": {
          "model_module": "@jupyter-widgets/controls",
          "model_name": "DescriptionStyleModel",
          "model_module_version": "1.5.0",
          "state": {
            "_model_module": "@jupyter-widgets/controls",
            "_model_module_version": "1.5.0",
            "_model_name": "DescriptionStyleModel",
            "_view_count": null,
            "_view_module": "@jupyter-widgets/base",
            "_view_module_version": "1.2.0",
            "_view_name": "StyleView",
            "description_width": ""
          }
        },
        "55f2e17e0b76474a8aef21a4bdf9e7d2": {
          "model_module": "@jupyter-widgets/controls",
          "model_name": "HBoxModel",
          "model_module_version": "1.5.0",
          "state": {
            "_dom_classes": [],
            "_model_module": "@jupyter-widgets/controls",
            "_model_module_version": "1.5.0",
            "_model_name": "HBoxModel",
            "_view_count": null,
            "_view_module": "@jupyter-widgets/controls",
            "_view_module_version": "1.5.0",
            "_view_name": "HBoxView",
            "box_style": "",
            "children": [
              "IPY_MODEL_1c5cf9e4d62f4cac82fcea11c75b7482",
              "IPY_MODEL_cb2e99494db64bb2b5e4c5a938afdbea",
              "IPY_MODEL_4abb4a2ddffc4fb09dc84f2563753201"
            ],
            "layout": "IPY_MODEL_5085367750f4470b918ed59644e3cb70"
          }
        },
        "1c5cf9e4d62f4cac82fcea11c75b7482": {
          "model_module": "@jupyter-widgets/controls",
          "model_name": "HTMLModel",
          "model_module_version": "1.5.0",
          "state": {
            "_dom_classes": [],
            "_model_module": "@jupyter-widgets/controls",
            "_model_module_version": "1.5.0",
            "_model_name": "HTMLModel",
            "_view_count": null,
            "_view_module": "@jupyter-widgets/controls",
            "_view_module_version": "1.5.0",
            "_view_name": "HTMLView",
            "description": "",
            "description_tooltip": null,
            "layout": "IPY_MODEL_255a6f994c78498496679837bad8c9a0",
            "placeholder": "​",
            "style": "IPY_MODEL_5a212e2727f84221b7ad8ba710bd855c",
            "value": "100%"
          }
        },
        "cb2e99494db64bb2b5e4c5a938afdbea": {
          "model_module": "@jupyter-widgets/controls",
          "model_name": "FloatProgressModel",
          "model_module_version": "1.5.0",
          "state": {
            "_dom_classes": [],
            "_model_module": "@jupyter-widgets/controls",
            "_model_module_version": "1.5.0",
            "_model_name": "FloatProgressModel",
            "_view_count": null,
            "_view_module": "@jupyter-widgets/controls",
            "_view_module_version": "1.5.0",
            "_view_name": "ProgressView",
            "bar_style": "success",
            "description": "",
            "description_tooltip": null,
            "layout": "IPY_MODEL_7d2cb063340f496d9c574aec0ed23587",
            "max": 30,
            "min": 0,
            "orientation": "horizontal",
            "style": "IPY_MODEL_c2a39cc8807b4975a93f650365866956",
            "value": 30
          }
        },
        "4abb4a2ddffc4fb09dc84f2563753201": {
          "model_module": "@jupyter-widgets/controls",
          "model_name": "HTMLModel",
          "model_module_version": "1.5.0",
          "state": {
            "_dom_classes": [],
            "_model_module": "@jupyter-widgets/controls",
            "_model_module_version": "1.5.0",
            "_model_name": "HTMLModel",
            "_view_count": null,
            "_view_module": "@jupyter-widgets/controls",
            "_view_module_version": "1.5.0",
            "_view_name": "HTMLView",
            "description": "",
            "description_tooltip": null,
            "layout": "IPY_MODEL_977d61c2fee14d65ab67c7b718d1b6ca",
            "placeholder": "​",
            "style": "IPY_MODEL_5c91614f48a9492ab023482abaf6e0c4",
            "value": " 30/30 [08:07&lt;00:00, 16.08s/it]"
          }
        },
        "5085367750f4470b918ed59644e3cb70": {
          "model_module": "@jupyter-widgets/base",
          "model_name": "LayoutModel",
          "model_module_version": "1.2.0",
          "state": {
            "_model_module": "@jupyter-widgets/base",
            "_model_module_version": "1.2.0",
            "_model_name": "LayoutModel",
            "_view_count": null,
            "_view_module": "@jupyter-widgets/base",
            "_view_module_version": "1.2.0",
            "_view_name": "LayoutView",
            "align_content": null,
            "align_items": null,
            "align_self": null,
            "border": null,
            "bottom": null,
            "display": null,
            "flex": null,
            "flex_flow": null,
            "grid_area": null,
            "grid_auto_columns": null,
            "grid_auto_flow": null,
            "grid_auto_rows": null,
            "grid_column": null,
            "grid_gap": null,
            "grid_row": null,
            "grid_template_areas": null,
            "grid_template_columns": null,
            "grid_template_rows": null,
            "height": null,
            "justify_content": null,
            "justify_items": null,
            "left": null,
            "margin": null,
            "max_height": null,
            "max_width": null,
            "min_height": null,
            "min_width": null,
            "object_fit": null,
            "object_position": null,
            "order": null,
            "overflow": null,
            "overflow_x": null,
            "overflow_y": null,
            "padding": null,
            "right": null,
            "top": null,
            "visibility": null,
            "width": null
          }
        },
        "255a6f994c78498496679837bad8c9a0": {
          "model_module": "@jupyter-widgets/base",
          "model_name": "LayoutModel",
          "model_module_version": "1.2.0",
          "state": {
            "_model_module": "@jupyter-widgets/base",
            "_model_module_version": "1.2.0",
            "_model_name": "LayoutModel",
            "_view_count": null,
            "_view_module": "@jupyter-widgets/base",
            "_view_module_version": "1.2.0",
            "_view_name": "LayoutView",
            "align_content": null,
            "align_items": null,
            "align_self": null,
            "border": null,
            "bottom": null,
            "display": null,
            "flex": null,
            "flex_flow": null,
            "grid_area": null,
            "grid_auto_columns": null,
            "grid_auto_flow": null,
            "grid_auto_rows": null,
            "grid_column": null,
            "grid_gap": null,
            "grid_row": null,
            "grid_template_areas": null,
            "grid_template_columns": null,
            "grid_template_rows": null,
            "height": null,
            "justify_content": null,
            "justify_items": null,
            "left": null,
            "margin": null,
            "max_height": null,
            "max_width": null,
            "min_height": null,
            "min_width": null,
            "object_fit": null,
            "object_position": null,
            "order": null,
            "overflow": null,
            "overflow_x": null,
            "overflow_y": null,
            "padding": null,
            "right": null,
            "top": null,
            "visibility": null,
            "width": null
          }
        },
        "5a212e2727f84221b7ad8ba710bd855c": {
          "model_module": "@jupyter-widgets/controls",
          "model_name": "DescriptionStyleModel",
          "model_module_version": "1.5.0",
          "state": {
            "_model_module": "@jupyter-widgets/controls",
            "_model_module_version": "1.5.0",
            "_model_name": "DescriptionStyleModel",
            "_view_count": null,
            "_view_module": "@jupyter-widgets/base",
            "_view_module_version": "1.2.0",
            "_view_name": "StyleView",
            "description_width": ""
          }
        },
        "7d2cb063340f496d9c574aec0ed23587": {
          "model_module": "@jupyter-widgets/base",
          "model_name": "LayoutModel",
          "model_module_version": "1.2.0",
          "state": {
            "_model_module": "@jupyter-widgets/base",
            "_model_module_version": "1.2.0",
            "_model_name": "LayoutModel",
            "_view_count": null,
            "_view_module": "@jupyter-widgets/base",
            "_view_module_version": "1.2.0",
            "_view_name": "LayoutView",
            "align_content": null,
            "align_items": null,
            "align_self": null,
            "border": null,
            "bottom": null,
            "display": null,
            "flex": null,
            "flex_flow": null,
            "grid_area": null,
            "grid_auto_columns": null,
            "grid_auto_flow": null,
            "grid_auto_rows": null,
            "grid_column": null,
            "grid_gap": null,
            "grid_row": null,
            "grid_template_areas": null,
            "grid_template_columns": null,
            "grid_template_rows": null,
            "height": null,
            "justify_content": null,
            "justify_items": null,
            "left": null,
            "margin": null,
            "max_height": null,
            "max_width": null,
            "min_height": null,
            "min_width": null,
            "object_fit": null,
            "object_position": null,
            "order": null,
            "overflow": null,
            "overflow_x": null,
            "overflow_y": null,
            "padding": null,
            "right": null,
            "top": null,
            "visibility": null,
            "width": null
          }
        },
        "c2a39cc8807b4975a93f650365866956": {
          "model_module": "@jupyter-widgets/controls",
          "model_name": "ProgressStyleModel",
          "model_module_version": "1.5.0",
          "state": {
            "_model_module": "@jupyter-widgets/controls",
            "_model_module_version": "1.5.0",
            "_model_name": "ProgressStyleModel",
            "_view_count": null,
            "_view_module": "@jupyter-widgets/base",
            "_view_module_version": "1.2.0",
            "_view_name": "StyleView",
            "bar_color": null,
            "description_width": ""
          }
        },
        "977d61c2fee14d65ab67c7b718d1b6ca": {
          "model_module": "@jupyter-widgets/base",
          "model_name": "LayoutModel",
          "model_module_version": "1.2.0",
          "state": {
            "_model_module": "@jupyter-widgets/base",
            "_model_module_version": "1.2.0",
            "_model_name": "LayoutModel",
            "_view_count": null,
            "_view_module": "@jupyter-widgets/base",
            "_view_module_version": "1.2.0",
            "_view_name": "LayoutView",
            "align_content": null,
            "align_items": null,
            "align_self": null,
            "border": null,
            "bottom": null,
            "display": null,
            "flex": null,
            "flex_flow": null,
            "grid_area": null,
            "grid_auto_columns": null,
            "grid_auto_flow": null,
            "grid_auto_rows": null,
            "grid_column": null,
            "grid_gap": null,
            "grid_row": null,
            "grid_template_areas": null,
            "grid_template_columns": null,
            "grid_template_rows": null,
            "height": null,
            "justify_content": null,
            "justify_items": null,
            "left": null,
            "margin": null,
            "max_height": null,
            "max_width": null,
            "min_height": null,
            "min_width": null,
            "object_fit": null,
            "object_position": null,
            "order": null,
            "overflow": null,
            "overflow_x": null,
            "overflow_y": null,
            "padding": null,
            "right": null,
            "top": null,
            "visibility": null,
            "width": null
          }
        },
        "5c91614f48a9492ab023482abaf6e0c4": {
          "model_module": "@jupyter-widgets/controls",
          "model_name": "DescriptionStyleModel",
          "model_module_version": "1.5.0",
          "state": {
            "_model_module": "@jupyter-widgets/controls",
            "_model_module_version": "1.5.0",
            "_model_name": "DescriptionStyleModel",
            "_view_count": null,
            "_view_module": "@jupyter-widgets/base",
            "_view_module_version": "1.2.0",
            "_view_name": "StyleView",
            "description_width": ""
          }
        },
        "33db9748e7794330a715c999bbcc98a9": {
          "model_module": "@jupyter-widgets/controls",
          "model_name": "HBoxModel",
          "model_module_version": "1.5.0",
          "state": {
            "_dom_classes": [],
            "_model_module": "@jupyter-widgets/controls",
            "_model_module_version": "1.5.0",
            "_model_name": "HBoxModel",
            "_view_count": null,
            "_view_module": "@jupyter-widgets/controls",
            "_view_module_version": "1.5.0",
            "_view_name": "HBoxView",
            "box_style": "",
            "children": [
              "IPY_MODEL_f0d640bd9704452a8ab25521a35b2950",
              "IPY_MODEL_ac83ef8f75d84cef914ddcbbea0ec4e1",
              "IPY_MODEL_ea6a6dfb2bc344ae93fe5faec9da460e"
            ],
            "layout": "IPY_MODEL_0cfb7cb432814dbfab93be7ec6724c8d"
          }
        },
        "f0d640bd9704452a8ab25521a35b2950": {
          "model_module": "@jupyter-widgets/controls",
          "model_name": "HTMLModel",
          "model_module_version": "1.5.0",
          "state": {
            "_dom_classes": [],
            "_model_module": "@jupyter-widgets/controls",
            "_model_module_version": "1.5.0",
            "_model_name": "HTMLModel",
            "_view_count": null,
            "_view_module": "@jupyter-widgets/controls",
            "_view_module_version": "1.5.0",
            "_view_name": "HTMLView",
            "description": "",
            "description_tooltip": null,
            "layout": "IPY_MODEL_023a4c4d61ba483cb2c71d5b211b1d1d",
            "placeholder": "​",
            "style": "IPY_MODEL_159487e2d8cb499ca7ff1fa89d6a4c03",
            "value": "100%"
          }
        },
        "ac83ef8f75d84cef914ddcbbea0ec4e1": {
          "model_module": "@jupyter-widgets/controls",
          "model_name": "FloatProgressModel",
          "model_module_version": "1.5.0",
          "state": {
            "_dom_classes": [],
            "_model_module": "@jupyter-widgets/controls",
            "_model_module_version": "1.5.0",
            "_model_name": "FloatProgressModel",
            "_view_count": null,
            "_view_module": "@jupyter-widgets/controls",
            "_view_module_version": "1.5.0",
            "_view_name": "ProgressView",
            "bar_style": "success",
            "description": "",
            "description_tooltip": null,
            "layout": "IPY_MODEL_90b7ea741f5048d099fddfe3638a9053",
            "max": 30,
            "min": 0,
            "orientation": "horizontal",
            "style": "IPY_MODEL_c42473b2dd194564ae50cfc45b0dfdb7",
            "value": 30
          }
        },
        "ea6a6dfb2bc344ae93fe5faec9da460e": {
          "model_module": "@jupyter-widgets/controls",
          "model_name": "HTMLModel",
          "model_module_version": "1.5.0",
          "state": {
            "_dom_classes": [],
            "_model_module": "@jupyter-widgets/controls",
            "_model_module_version": "1.5.0",
            "_model_name": "HTMLModel",
            "_view_count": null,
            "_view_module": "@jupyter-widgets/controls",
            "_view_module_version": "1.5.0",
            "_view_name": "HTMLView",
            "description": "",
            "description_tooltip": null,
            "layout": "IPY_MODEL_20f358ebca2b41949c8d10c2212baa0a",
            "placeholder": "​",
            "style": "IPY_MODEL_bce513c675a148c5962c89fc1fa13fa4",
            "value": " 30/30 [06:32&lt;00:00, 12.98s/it]"
          }
        },
        "0cfb7cb432814dbfab93be7ec6724c8d": {
          "model_module": "@jupyter-widgets/base",
          "model_name": "LayoutModel",
          "model_module_version": "1.2.0",
          "state": {
            "_model_module": "@jupyter-widgets/base",
            "_model_module_version": "1.2.0",
            "_model_name": "LayoutModel",
            "_view_count": null,
            "_view_module": "@jupyter-widgets/base",
            "_view_module_version": "1.2.0",
            "_view_name": "LayoutView",
            "align_content": null,
            "align_items": null,
            "align_self": null,
            "border": null,
            "bottom": null,
            "display": null,
            "flex": null,
            "flex_flow": null,
            "grid_area": null,
            "grid_auto_columns": null,
            "grid_auto_flow": null,
            "grid_auto_rows": null,
            "grid_column": null,
            "grid_gap": null,
            "grid_row": null,
            "grid_template_areas": null,
            "grid_template_columns": null,
            "grid_template_rows": null,
            "height": null,
            "justify_content": null,
            "justify_items": null,
            "left": null,
            "margin": null,
            "max_height": null,
            "max_width": null,
            "min_height": null,
            "min_width": null,
            "object_fit": null,
            "object_position": null,
            "order": null,
            "overflow": null,
            "overflow_x": null,
            "overflow_y": null,
            "padding": null,
            "right": null,
            "top": null,
            "visibility": null,
            "width": null
          }
        },
        "023a4c4d61ba483cb2c71d5b211b1d1d": {
          "model_module": "@jupyter-widgets/base",
          "model_name": "LayoutModel",
          "model_module_version": "1.2.0",
          "state": {
            "_model_module": "@jupyter-widgets/base",
            "_model_module_version": "1.2.0",
            "_model_name": "LayoutModel",
            "_view_count": null,
            "_view_module": "@jupyter-widgets/base",
            "_view_module_version": "1.2.0",
            "_view_name": "LayoutView",
            "align_content": null,
            "align_items": null,
            "align_self": null,
            "border": null,
            "bottom": null,
            "display": null,
            "flex": null,
            "flex_flow": null,
            "grid_area": null,
            "grid_auto_columns": null,
            "grid_auto_flow": null,
            "grid_auto_rows": null,
            "grid_column": null,
            "grid_gap": null,
            "grid_row": null,
            "grid_template_areas": null,
            "grid_template_columns": null,
            "grid_template_rows": null,
            "height": null,
            "justify_content": null,
            "justify_items": null,
            "left": null,
            "margin": null,
            "max_height": null,
            "max_width": null,
            "min_height": null,
            "min_width": null,
            "object_fit": null,
            "object_position": null,
            "order": null,
            "overflow": null,
            "overflow_x": null,
            "overflow_y": null,
            "padding": null,
            "right": null,
            "top": null,
            "visibility": null,
            "width": null
          }
        },
        "159487e2d8cb499ca7ff1fa89d6a4c03": {
          "model_module": "@jupyter-widgets/controls",
          "model_name": "DescriptionStyleModel",
          "model_module_version": "1.5.0",
          "state": {
            "_model_module": "@jupyter-widgets/controls",
            "_model_module_version": "1.5.0",
            "_model_name": "DescriptionStyleModel",
            "_view_count": null,
            "_view_module": "@jupyter-widgets/base",
            "_view_module_version": "1.2.0",
            "_view_name": "StyleView",
            "description_width": ""
          }
        },
        "90b7ea741f5048d099fddfe3638a9053": {
          "model_module": "@jupyter-widgets/base",
          "model_name": "LayoutModel",
          "model_module_version": "1.2.0",
          "state": {
            "_model_module": "@jupyter-widgets/base",
            "_model_module_version": "1.2.0",
            "_model_name": "LayoutModel",
            "_view_count": null,
            "_view_module": "@jupyter-widgets/base",
            "_view_module_version": "1.2.0",
            "_view_name": "LayoutView",
            "align_content": null,
            "align_items": null,
            "align_self": null,
            "border": null,
            "bottom": null,
            "display": null,
            "flex": null,
            "flex_flow": null,
            "grid_area": null,
            "grid_auto_columns": null,
            "grid_auto_flow": null,
            "grid_auto_rows": null,
            "grid_column": null,
            "grid_gap": null,
            "grid_row": null,
            "grid_template_areas": null,
            "grid_template_columns": null,
            "grid_template_rows": null,
            "height": null,
            "justify_content": null,
            "justify_items": null,
            "left": null,
            "margin": null,
            "max_height": null,
            "max_width": null,
            "min_height": null,
            "min_width": null,
            "object_fit": null,
            "object_position": null,
            "order": null,
            "overflow": null,
            "overflow_x": null,
            "overflow_y": null,
            "padding": null,
            "right": null,
            "top": null,
            "visibility": null,
            "width": null
          }
        },
        "c42473b2dd194564ae50cfc45b0dfdb7": {
          "model_module": "@jupyter-widgets/controls",
          "model_name": "ProgressStyleModel",
          "model_module_version": "1.5.0",
          "state": {
            "_model_module": "@jupyter-widgets/controls",
            "_model_module_version": "1.5.0",
            "_model_name": "ProgressStyleModel",
            "_view_count": null,
            "_view_module": "@jupyter-widgets/base",
            "_view_module_version": "1.2.0",
            "_view_name": "StyleView",
            "bar_color": null,
            "description_width": ""
          }
        },
        "20f358ebca2b41949c8d10c2212baa0a": {
          "model_module": "@jupyter-widgets/base",
          "model_name": "LayoutModel",
          "model_module_version": "1.2.0",
          "state": {
            "_model_module": "@jupyter-widgets/base",
            "_model_module_version": "1.2.0",
            "_model_name": "LayoutModel",
            "_view_count": null,
            "_view_module": "@jupyter-widgets/base",
            "_view_module_version": "1.2.0",
            "_view_name": "LayoutView",
            "align_content": null,
            "align_items": null,
            "align_self": null,
            "border": null,
            "bottom": null,
            "display": null,
            "flex": null,
            "flex_flow": null,
            "grid_area": null,
            "grid_auto_columns": null,
            "grid_auto_flow": null,
            "grid_auto_rows": null,
            "grid_column": null,
            "grid_gap": null,
            "grid_row": null,
            "grid_template_areas": null,
            "grid_template_columns": null,
            "grid_template_rows": null,
            "height": null,
            "justify_content": null,
            "justify_items": null,
            "left": null,
            "margin": null,
            "max_height": null,
            "max_width": null,
            "min_height": null,
            "min_width": null,
            "object_fit": null,
            "object_position": null,
            "order": null,
            "overflow": null,
            "overflow_x": null,
            "overflow_y": null,
            "padding": null,
            "right": null,
            "top": null,
            "visibility": null,
            "width": null
          }
        },
        "bce513c675a148c5962c89fc1fa13fa4": {
          "model_module": "@jupyter-widgets/controls",
          "model_name": "DescriptionStyleModel",
          "model_module_version": "1.5.0",
          "state": {
            "_model_module": "@jupyter-widgets/controls",
            "_model_module_version": "1.5.0",
            "_model_name": "DescriptionStyleModel",
            "_view_count": null,
            "_view_module": "@jupyter-widgets/base",
            "_view_module_version": "1.2.0",
            "_view_name": "StyleView",
            "description_width": ""
          }
        },
        "79bd1c3b8bc74d08bb824d4d9e52daba": {
          "model_module": "@jupyter-widgets/controls",
          "model_name": "VBoxModel",
          "model_module_version": "1.5.0",
          "state": {
            "_dom_classes": [],
            "_model_module": "@jupyter-widgets/controls",
            "_model_module_version": "1.5.0",
            "_model_name": "VBoxModel",
            "_view_count": null,
            "_view_module": "@jupyter-widgets/controls",
            "_view_module_version": "1.5.0",
            "_view_name": "VBoxView",
            "box_style": "",
            "children": [
              "IPY_MODEL_0ffa664fd14a45adada916f849686e30",
              "IPY_MODEL_5ba9d3902af04abfa28ddd1a4308cafb"
            ],
            "layout": "IPY_MODEL_e478d656e9c44c838c47567d890cbb14"
          }
        },
        "0ffa664fd14a45adada916f849686e30": {
          "model_module": "@jupyter-widgets/controls",
          "model_name": "LabelModel",
          "model_module_version": "1.5.0",
          "state": {
            "_dom_classes": [],
            "_model_module": "@jupyter-widgets/controls",
            "_model_module_version": "1.5.0",
            "_model_name": "LabelModel",
            "_view_count": null,
            "_view_module": "@jupyter-widgets/controls",
            "_view_module_version": "1.5.0",
            "_view_name": "LabelView",
            "description": "",
            "description_tooltip": null,
            "layout": "IPY_MODEL_494fa70122c041a5b0c55121ab8a35d4",
            "placeholder": "​",
            "style": "IPY_MODEL_3e39c9a12ecc40c3a6b023d3377b9c2d",
            "value": "0.001 MB of 0.001 MB uploaded (0.000 MB deduped)\r"
          }
        },
        "5ba9d3902af04abfa28ddd1a4308cafb": {
          "model_module": "@jupyter-widgets/controls",
          "model_name": "FloatProgressModel",
          "model_module_version": "1.5.0",
          "state": {
            "_dom_classes": [],
            "_model_module": "@jupyter-widgets/controls",
            "_model_module_version": "1.5.0",
            "_model_name": "FloatProgressModel",
            "_view_count": null,
            "_view_module": "@jupyter-widgets/controls",
            "_view_module_version": "1.5.0",
            "_view_name": "ProgressView",
            "bar_style": "",
            "description": "",
            "description_tooltip": null,
            "layout": "IPY_MODEL_aa055faf2eb348e98e05f465072aa80a",
            "max": 1,
            "min": 0,
            "orientation": "horizontal",
            "style": "IPY_MODEL_d7754f71fec74a3dab6718ee39e9b5c1",
            "value": 1
          }
        },
        "e478d656e9c44c838c47567d890cbb14": {
          "model_module": "@jupyter-widgets/base",
          "model_name": "LayoutModel",
          "model_module_version": "1.2.0",
          "state": {
            "_model_module": "@jupyter-widgets/base",
            "_model_module_version": "1.2.0",
            "_model_name": "LayoutModel",
            "_view_count": null,
            "_view_module": "@jupyter-widgets/base",
            "_view_module_version": "1.2.0",
            "_view_name": "LayoutView",
            "align_content": null,
            "align_items": null,
            "align_self": null,
            "border": null,
            "bottom": null,
            "display": null,
            "flex": null,
            "flex_flow": null,
            "grid_area": null,
            "grid_auto_columns": null,
            "grid_auto_flow": null,
            "grid_auto_rows": null,
            "grid_column": null,
            "grid_gap": null,
            "grid_row": null,
            "grid_template_areas": null,
            "grid_template_columns": null,
            "grid_template_rows": null,
            "height": null,
            "justify_content": null,
            "justify_items": null,
            "left": null,
            "margin": null,
            "max_height": null,
            "max_width": null,
            "min_height": null,
            "min_width": null,
            "object_fit": null,
            "object_position": null,
            "order": null,
            "overflow": null,
            "overflow_x": null,
            "overflow_y": null,
            "padding": null,
            "right": null,
            "top": null,
            "visibility": null,
            "width": null
          }
        },
        "494fa70122c041a5b0c55121ab8a35d4": {
          "model_module": "@jupyter-widgets/base",
          "model_name": "LayoutModel",
          "model_module_version": "1.2.0",
          "state": {
            "_model_module": "@jupyter-widgets/base",
            "_model_module_version": "1.2.0",
            "_model_name": "LayoutModel",
            "_view_count": null,
            "_view_module": "@jupyter-widgets/base",
            "_view_module_version": "1.2.0",
            "_view_name": "LayoutView",
            "align_content": null,
            "align_items": null,
            "align_self": null,
            "border": null,
            "bottom": null,
            "display": null,
            "flex": null,
            "flex_flow": null,
            "grid_area": null,
            "grid_auto_columns": null,
            "grid_auto_flow": null,
            "grid_auto_rows": null,
            "grid_column": null,
            "grid_gap": null,
            "grid_row": null,
            "grid_template_areas": null,
            "grid_template_columns": null,
            "grid_template_rows": null,
            "height": null,
            "justify_content": null,
            "justify_items": null,
            "left": null,
            "margin": null,
            "max_height": null,
            "max_width": null,
            "min_height": null,
            "min_width": null,
            "object_fit": null,
            "object_position": null,
            "order": null,
            "overflow": null,
            "overflow_x": null,
            "overflow_y": null,
            "padding": null,
            "right": null,
            "top": null,
            "visibility": null,
            "width": null
          }
        },
        "3e39c9a12ecc40c3a6b023d3377b9c2d": {
          "model_module": "@jupyter-widgets/controls",
          "model_name": "DescriptionStyleModel",
          "model_module_version": "1.5.0",
          "state": {
            "_model_module": "@jupyter-widgets/controls",
            "_model_module_version": "1.5.0",
            "_model_name": "DescriptionStyleModel",
            "_view_count": null,
            "_view_module": "@jupyter-widgets/base",
            "_view_module_version": "1.2.0",
            "_view_name": "StyleView",
            "description_width": ""
          }
        },
        "aa055faf2eb348e98e05f465072aa80a": {
          "model_module": "@jupyter-widgets/base",
          "model_name": "LayoutModel",
          "model_module_version": "1.2.0",
          "state": {
            "_model_module": "@jupyter-widgets/base",
            "_model_module_version": "1.2.0",
            "_model_name": "LayoutModel",
            "_view_count": null,
            "_view_module": "@jupyter-widgets/base",
            "_view_module_version": "1.2.0",
            "_view_name": "LayoutView",
            "align_content": null,
            "align_items": null,
            "align_self": null,
            "border": null,
            "bottom": null,
            "display": null,
            "flex": null,
            "flex_flow": null,
            "grid_area": null,
            "grid_auto_columns": null,
            "grid_auto_flow": null,
            "grid_auto_rows": null,
            "grid_column": null,
            "grid_gap": null,
            "grid_row": null,
            "grid_template_areas": null,
            "grid_template_columns": null,
            "grid_template_rows": null,
            "height": null,
            "justify_content": null,
            "justify_items": null,
            "left": null,
            "margin": null,
            "max_height": null,
            "max_width": null,
            "min_height": null,
            "min_width": null,
            "object_fit": null,
            "object_position": null,
            "order": null,
            "overflow": null,
            "overflow_x": null,
            "overflow_y": null,
            "padding": null,
            "right": null,
            "top": null,
            "visibility": null,
            "width": null
          }
        },
        "d7754f71fec74a3dab6718ee39e9b5c1": {
          "model_module": "@jupyter-widgets/controls",
          "model_name": "ProgressStyleModel",
          "model_module_version": "1.5.0",
          "state": {
            "_model_module": "@jupyter-widgets/controls",
            "_model_module_version": "1.5.0",
            "_model_name": "ProgressStyleModel",
            "_view_count": null,
            "_view_module": "@jupyter-widgets/base",
            "_view_module_version": "1.2.0",
            "_view_name": "StyleView",
            "bar_color": null,
            "description_width": ""
          }
        }
      }
    }
  },
  "nbformat": 4,
  "nbformat_minor": 0
}