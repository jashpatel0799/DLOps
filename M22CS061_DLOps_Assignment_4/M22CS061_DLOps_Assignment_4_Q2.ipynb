{
  "cells": [
    {
      "cell_type": "code",
      "execution_count": null,
      "metadata": {
        "colab": {
          "base_uri": "https://localhost:8080/"
        },
        "id": "-G6mFw6oxznB",
        "outputId": "847cc31a-3e4f-4b55-bf68-04c90dad6372"
      },
      "outputs": [
        {
          "name": "stdout",
          "output_type": "stream",
          "text": [
            "\u001b[2K     \u001b[90m━━━━━━━━━━━━━━━━━━━━━━━━━━━━━━━━━━━━━━━\u001b[0m \u001b[32m365.7/365.7 kB\u001b[0m \u001b[31m7.5 MB/s\u001b[0m eta \u001b[36m0:00:00\u001b[0m\n",
            "\u001b[2K     \u001b[90m━━━━━━━━━━━━━━━━━━━━━━━━━━━━━━━━━━━━━━\u001b[0m \u001b[32m212.3/212.3 kB\u001b[0m \u001b[31m22.6 MB/s\u001b[0m eta \u001b[36m0:00:00\u001b[0m\n",
            "\u001b[2K     \u001b[90m━━━━━━━━━━━━━━━━━━━━━━━━━━━━━━━━━━━━━━━━\u001b[0m \u001b[32m78.7/78.7 kB\u001b[0m \u001b[31m8.7 MB/s\u001b[0m eta \u001b[36m0:00:00\u001b[0m\n",
            "\u001b[?25h"
          ]
        }
      ],
      "source": [
        "!pip install optuna -q"
      ]
    },
    {
      "cell_type": "markdown",
      "metadata": {
        "id": "qCXhrKvU9fbQ"
      },
      "source": [
        "## Impirt require libaries"
      ]
    },
    {
      "cell_type": "code",
      "execution_count": null,
      "metadata": {
        "id": "dahcvN0O9iqU"
      },
      "outputs": [],
      "source": [
        "import torch\n",
        "from torch import nn\n",
        "\n",
        "import torchvision\n",
        "from torchvision import datasets\n",
        "from torchvision import transforms\n",
        "from torch.utils.data import DataLoader\n",
        "import torch.nn.functional as F\n",
        "\n",
        "import matplotlib.pyplot as plt\n",
        "import pandas as pd\n",
        "import numpy as np\n",
        "\n",
        "import optuna\n",
        "from optuna.trial import TrialState\n",
        "\n",
        "from tqdm.auto import tqdm\n",
        "from timeit import default_timer as timer"
      ]
    },
    {
      "cell_type": "code",
      "execution_count": null,
      "metadata": {
        "colab": {
          "base_uri": "https://localhost:8080/"
        },
        "id": "PiEQX0fgB4mw",
        "outputId": "bb809742-fef1-45aa-81e1-abdf9168b57f"
      },
      "outputs": [
        {
          "name": "stdout",
          "output_type": "stream",
          "text": [
            "\u001b[?25l     \u001b[90m━━━━━━━━━━━━━━━━━━━━━━━━━━━━━━━━━━━━━━━━\u001b[0m \u001b[32m0.0/519.2 kB\u001b[0m \u001b[31m?\u001b[0m eta \u001b[36m-:--:--\u001b[0m\r\u001b[2K     \u001b[91m━━━━━━━━━━━━━━━━━━━━━━━━━━\u001b[0m\u001b[90m╺\u001b[0m\u001b[90m━━━━━━━━━━━\u001b[0m \u001b[32m358.4/519.2 kB\u001b[0m \u001b[31m10.7 MB/s\u001b[0m eta \u001b[36m0:00:01\u001b[0m\r\u001b[2K     \u001b[90m━━━━━━━━━━━━━━━━━━━━━━━━━━━━━━━━━━━━━━\u001b[0m \u001b[32m519.2/519.2 kB\u001b[0m \u001b[31m10.7 MB/s\u001b[0m eta \u001b[36m0:00:00\u001b[0m\n",
            "\u001b[?25h"
          ]
        }
      ],
      "source": [
        "!pip install -q torchmetrics\n",
        "from torchmetrics.classification import MulticlassAccuracy"
      ]
    },
    {
      "cell_type": "markdown",
      "metadata": {
        "id": "TvKOboID-OtX"
      },
      "source": [
        "## Device Agnostic code"
      ]
    },
    {
      "cell_type": "code",
      "execution_count": null,
      "metadata": {
        "colab": {
          "base_uri": "https://localhost:8080/",
          "height": 35
        },
        "id": "1OdTAsbL-Q-O",
        "outputId": "e17a8032-ff6a-4939-e588-1649cbedb96f"
      },
      "outputs": [
        {
          "data": {
            "application/vnd.google.colaboratory.intrinsic+json": {
              "type": "string"
            },
            "text/plain": [
              "'cuda'"
            ]
          },
          "execution_count": 5,
          "metadata": {},
          "output_type": "execute_result"
        }
      ],
      "source": [
        "device = 'cuda' if torch.cuda.is_available() else 'cpu'\n",
        "device"
      ]
    },
    {
      "cell_type": "markdown",
      "metadata": {
        "id": "M63y7cNP-dNL"
      },
      "source": [
        "## Load Data"
      ]
    },
    {
      "cell_type": "code",
      "execution_count": null,
      "metadata": {
        "id": "ExYnZTiF5g0a"
      },
      "outputs": [],
      "source": [
        "transform = transforms.Compose([\n",
        "                                transforms.Resize((64, 64)),\n",
        "                                transforms.ToTensor(),\n",
        "                              ])"
      ]
    },
    {
      "cell_type": "code",
      "execution_count": null,
      "metadata": {
        "colab": {
          "base_uri": "https://localhost:8080/"
        },
        "id": "_R8J1IE9-f55",
        "outputId": "477717c0-3659-49fb-d9c9-7469aadf6165"
      },
      "outputs": [
        {
          "name": "stdout",
          "output_type": "stream",
          "text": [
            "Downloading http://fashion-mnist.s3-website.eu-central-1.amazonaws.com/train-images-idx3-ubyte.gz\n",
            "Downloading http://fashion-mnist.s3-website.eu-central-1.amazonaws.com/train-images-idx3-ubyte.gz to /data/FashionMNIST/raw/train-images-idx3-ubyte.gz\n"
          ]
        },
        {
          "name": "stderr",
          "output_type": "stream",
          "text": [
            "100%|██████████| 26421880/26421880 [00:01<00:00, 16149475.19it/s]\n"
          ]
        },
        {
          "name": "stdout",
          "output_type": "stream",
          "text": [
            "Extracting /data/FashionMNIST/raw/train-images-idx3-ubyte.gz to /data/FashionMNIST/raw\n",
            "\n",
            "Downloading http://fashion-mnist.s3-website.eu-central-1.amazonaws.com/train-labels-idx1-ubyte.gz\n",
            "Downloading http://fashion-mnist.s3-website.eu-central-1.amazonaws.com/train-labels-idx1-ubyte.gz to /data/FashionMNIST/raw/train-labels-idx1-ubyte.gz\n"
          ]
        },
        {
          "name": "stderr",
          "output_type": "stream",
          "text": [
            "100%|██████████| 29515/29515 [00:00<00:00, 271240.29it/s]\n"
          ]
        },
        {
          "name": "stdout",
          "output_type": "stream",
          "text": [
            "Extracting /data/FashionMNIST/raw/train-labels-idx1-ubyte.gz to /data/FashionMNIST/raw\n",
            "\n",
            "Downloading http://fashion-mnist.s3-website.eu-central-1.amazonaws.com/t10k-images-idx3-ubyte.gz\n",
            "Downloading http://fashion-mnist.s3-website.eu-central-1.amazonaws.com/t10k-images-idx3-ubyte.gz to /data/FashionMNIST/raw/t10k-images-idx3-ubyte.gz\n"
          ]
        },
        {
          "name": "stderr",
          "output_type": "stream",
          "text": [
            "100%|██████████| 4422102/4422102 [00:00<00:00, 5011425.10it/s]\n"
          ]
        },
        {
          "name": "stdout",
          "output_type": "stream",
          "text": [
            "Extracting /data/FashionMNIST/raw/t10k-images-idx3-ubyte.gz to /data/FashionMNIST/raw\n",
            "\n",
            "Downloading http://fashion-mnist.s3-website.eu-central-1.amazonaws.com/t10k-labels-idx1-ubyte.gz\n",
            "Downloading http://fashion-mnist.s3-website.eu-central-1.amazonaws.com/t10k-labels-idx1-ubyte.gz to /data/FashionMNIST/raw/t10k-labels-idx1-ubyte.gz\n"
          ]
        },
        {
          "name": "stderr",
          "output_type": "stream",
          "text": [
            "100%|██████████| 5148/5148 [00:00<00:00, 13149985.99it/s]"
          ]
        },
        {
          "name": "stdout",
          "output_type": "stream",
          "text": [
            "Extracting /data/FashionMNIST/raw/t10k-labels-idx1-ubyte.gz to /data/FashionMNIST/raw\n",
            "\n"
          ]
        },
        {
          "name": "stderr",
          "output_type": "stream",
          "text": [
            "\n"
          ]
        }
      ],
      "source": [
        "train_dataset = datasets.FashionMNIST(root = '/data', train = True, transform = transform, download = True)\n",
        "test_dataset = datasets.FashionMNIST(root = '/data', train = False, transform = transform, download = True)"
      ]
    },
    {
      "cell_type": "code",
      "execution_count": null,
      "metadata": {
        "colab": {
          "base_uri": "https://localhost:8080/"
        },
        "id": "Pj3OBUdy-rNH",
        "outputId": "e1b58341-3717-4b13-e1cd-13342ec6f066"
      },
      "outputs": [
        {
          "data": {
            "text/plain": [
              "(60000, 10000)"
            ]
          },
          "execution_count": 8,
          "metadata": {},
          "output_type": "execute_result"
        }
      ],
      "source": [
        "len(train_dataset), len(test_dataset)"
      ]
    },
    {
      "cell_type": "markdown",
      "metadata": {
        "id": "kV--MxRE-6Fd"
      },
      "source": [
        "## Make DataLoader"
      ]
    },
    {
      "cell_type": "code",
      "execution_count": null,
      "metadata": {
        "id": "oA-9Hm7Y-98H"
      },
      "outputs": [],
      "source": [
        "BATCH_SIZE = 32\n",
        "train_dataloader = DataLoader(dataset = train_dataset, batch_size = BATCH_SIZE, shuffle = True)\n",
        "test_dataloader = DataLoader(dataset = test_dataset, batch_size = BATCH_SIZE, shuffle = False)"
      ]
    },
    {
      "cell_type": "code",
      "execution_count": null,
      "metadata": {
        "colab": {
          "base_uri": "https://localhost:8080/"
        },
        "id": "Gr5ZRj0R_Cy3",
        "outputId": "f2a2b412-5a24-4261-8012-20ea8b8db63c"
      },
      "outputs": [
        {
          "name": "stdout",
          "output_type": "stream",
          "text": [
            "Total 1875 of train each of 32 batches.\n",
            "Total 313 of test each of 32 batches.\n"
          ]
        }
      ],
      "source": [
        "print(f'Total {len(train_dataloader)} of train each of {BATCH_SIZE} batches.')\n",
        "print(f'Total {len(test_dataloader)} of test each of {BATCH_SIZE} batches.')"
      ]
    },
    {
      "cell_type": "code",
      "execution_count": null,
      "metadata": {
        "colab": {
          "base_uri": "https://localhost:8080/"
        },
        "id": "Oz6vHvAD_Eh8",
        "outputId": "5b0e4390-a79a-4cb6-8fb2-784471f7af80"
      },
      "outputs": [
        {
          "data": {
            "text/plain": [
              "['T-shirt/top',\n",
              " 'Trouser',\n",
              " 'Pullover',\n",
              " 'Dress',\n",
              " 'Coat',\n",
              " 'Sandal',\n",
              " 'Shirt',\n",
              " 'Sneaker',\n",
              " 'Bag',\n",
              " 'Ankle boot']"
            ]
          },
          "execution_count": 11,
          "metadata": {},
          "output_type": "execute_result"
        }
      ],
      "source": [
        "# class name\n",
        "class_names = train_dataset.classes\n",
        "class_names"
      ]
    },
    {
      "cell_type": "code",
      "execution_count": null,
      "metadata": {
        "colab": {
          "base_uri": "https://localhost:8080/"
        },
        "id": "zQQ6kqXo_JPD",
        "outputId": "2a8a5ade-7d28-46df-eec1-02eb89b695f1"
      },
      "outputs": [
        {
          "data": {
            "text/plain": [
              "{'T-shirt/top': 0,\n",
              " 'Trouser': 1,\n",
              " 'Pullover': 2,\n",
              " 'Dress': 3,\n",
              " 'Coat': 4,\n",
              " 'Sandal': 5,\n",
              " 'Shirt': 6,\n",
              " 'Sneaker': 7,\n",
              " 'Bag': 8,\n",
              " 'Ankle boot': 9}"
            ]
          },
          "execution_count": 12,
          "metadata": {},
          "output_type": "execute_result"
        }
      ],
      "source": [
        "index_cls = train_dataset.class_to_idx\n",
        "index_cls"
      ]
    },
    {
      "cell_type": "code",
      "execution_count": null,
      "metadata": {
        "colab": {
          "base_uri": "https://localhost:8080/",
          "height": 487
        },
        "id": "LkuWruLs_LUK",
        "outputId": "41e04415-c1eb-43aa-b37f-dc1251525168"
      },
      "outputs": [
        {
          "name": "stdout",
          "output_type": "stream",
          "text": [
            "Image: torch.Size([1, 64, 64])\n"
          ]
        },
        {
          "data": {
            "text/plain": [
              "Text(0.5, 1.0, 'Coat')"
            ]
          },
          "execution_count": 13,
          "metadata": {},
          "output_type": "execute_result"
        },
        {
          "data": {
            "image/png": "[encoded data removed]",
            "text/plain": [
              "<Figure size 640x480 with 1 Axes>"
            ]
          },
          "metadata": {},
          "output_type": "display_data"
        }
      ],
      "source": [
        "image, label = train_dataset[0]\n",
        "print(f\"Image: {image.shape}\")\n",
        "plt.imshow(image.permute(1,2,0))\n",
        "plt.title(class_names[label//2])\n",
        "# image"
      ]
    },
    {
      "cell_type": "markdown",
      "metadata": {
        "id": "lwp-DgD3_SQH"
      },
      "source": [
        "## train and test loop"
      ]
    },
    {
      "cell_type": "code",
      "execution_count": null,
      "metadata": {
        "id": "iQanzVsh_NQk"
      },
      "outputs": [],
      "source": [
        "# train\n",
        "def train_loop(model: torch.nn.Module, dataloader: torch.utils.data.DataLoader,\n",
        "               loss_fn: torch.nn.Module, optimizer: torch.optim.Optimizer,\n",
        "               accuracy_fn, device: torch.device = device):\n",
        "  \n",
        "  train_loss, train_acc = 0, 0\n",
        "\n",
        "  model.train()\n",
        "\n",
        "  for batch, (x_train, y_train) in enumerate(dataloader):\n",
        "\n",
        "    if device == 'cuda':\n",
        "      x_train, y_train = x_train.to(device), y_train.to(device)\n",
        "    \n",
        "\n",
        "    # 1. Forward step\n",
        "    # print(\"image: \",type(x_train))\n",
        "    pred = model(x_train)\n",
        "\n",
        "    # 2. Loss\n",
        "    loss = loss_fn(pred, y_train)\n",
        "\n",
        "    # 3. Grad zerostep\n",
        "    optimizer.zero_grad()\n",
        "\n",
        "    # 4. Backward\n",
        "    loss.backward()\n",
        "\n",
        "    # 5. Optimizer step\n",
        "    optimizer.step()\n",
        "\n",
        "    # print(torch.argmax(pred, dim=1))\n",
        "    \n",
        "    # print(y_train)\n",
        "\n",
        "    # print(torch.argmax(pred, dim=0))\n",
        "    acc = accuracy_fn(y_train, torch.argmax(pred, dim=1))\n",
        "    train_loss += loss\n",
        "    train_acc += acc\n",
        "\n",
        "  train_loss /= len(dataloader)\n",
        "  train_acc /= len(dataloader)\n",
        "\n",
        "  return train_loss, train_acc\n",
        "\n",
        "\n",
        "# test\n",
        "def test_loop(model: torch.nn.Module, dataloader: torch.utils.data.DataLoader,\n",
        "              loss_fn: torch.nn.Module, accuracy_fn, \n",
        "              device: torch.device = device):\n",
        "  \n",
        "  test_loss, test_acc = 0, 0\n",
        "  model.eval()\n",
        "  with torch.inference_mode():\n",
        "    for x_test, y_test in dataloader:\n",
        "      \n",
        "      if device == 'cuda':\n",
        "        x_test, y_test = x_test.to(device), y_test.to(device)\n",
        "\n",
        "      # 1. Forward\n",
        "      test_pred = model(x_test)\n",
        "      \n",
        "      # 2. Loss and accuray\n",
        "      test_loss += loss_fn(test_pred, y_test)\n",
        "      test_acc += accuracy_fn(y_test, torch.argmax(test_pred, dim=1))\n",
        "\n",
        "\n",
        "    test_loss /= len(dataloader)\n",
        "    test_acc /= len(dataloader)\n",
        "\n",
        "  return test_loss, test_acc"
      ]
    },
    {
      "cell_type": "markdown",
      "metadata": {
        "id": "aNMH7Bn__Vnj"
      },
      "source": [
        "## Loss and accuracy Function"
      ]
    },
    {
      "cell_type": "code",
      "execution_count": null,
      "metadata": {
        "id": "0b7aLAR9B1xz"
      },
      "outputs": [],
      "source": [
        "loss_fn = nn.CrossEntropyLoss()\n",
        "\n",
        "accuracy_fn = MulticlassAccuracy(num_classes = len(class_names)).to(device)"
      ]
    },
    {
      "cell_type": "markdown",
      "metadata": {
        "id": "w1zRFxSrB6f5"
      },
      "source": [
        "## Build model"
      ]
    },
    {
      "cell_type": "code",
      "execution_count": null,
      "metadata": {
        "id": "vCtWrs8GCCN7"
      },
      "outputs": [],
      "source": [
        "class CustomCNN(nn.Module):\n",
        "    \"\"\"CNN for the MNIST dataset of handwritten digits.\n",
        "    Attributes:\n",
        "        - convs (torch.nn.modules.container.ModuleList):   List with the convolutional layers\n",
        "        - conv2_drop (torch.nn.modules.dropout.Dropout2d): Dropout for conv layer 2\n",
        "        - out_feature (int):                               Size of flattened features\n",
        "        - fc1 (torch.nn.modules.linear.Linear):            Fully Connected layer 1\n",
        "        - fc2 (torch.nn.modules.linear.Linear):            Fully Connected layer 2\n",
        "        - p1 (float):                                      Dropout ratio for FC1\n",
        "    Methods:\n",
        "        - forward(x): Does forward propagation\n",
        "    \"\"\"\n",
        "    def __init__(self, trial, num_conv_layers, num_filters, num_neurons, drop_conv2, drop_fc1):\n",
        "        \"\"\"Parameters:\n",
        "            - trial (optuna.trial._trial.Trial): Optuna trial\n",
        "            - num_conv_layers (int):             Number of convolutional layers\n",
        "            - num_filters (list):                Number of filters of conv layers\n",
        "            - num_neurons (int):                 Number of neurons of FC layers\n",
        "            - drop_conv2 (float):                Dropout ratio for conv layer 2\n",
        "            - drop_fc1 (float):                  Dropout ratio for FC1\n",
        "        \"\"\"\n",
        "        super().__init__()                                                     # Initialize parent class\n",
        "        in_size = 32                                                                    # Input image size (28 pixels)\n",
        "        kernel_size = 3                                                                 # Convolution filter size\n",
        "\n",
        "        # # Define the convolutional layers\n",
        "        # self.convs = nn.ModuleList([nn.Conv2d(in_channels=1, out_channels=num_filters, kernel_size=(3, 3), padding = 1, stride = 1)])  # List with the Conv layers\n",
        "        # out_size = in_size - kernel_size + 1                                            # Size of the output kernel\n",
        "        # out_size = int(out_size / 2)                                                    # Size after pooling\n",
        "        # for i in range(1, num_conv_layers):\n",
        "        #     self.convs.append(nn.Conv2d(in_channels=num_filters, out_channels=num_filters, kernel_size=(3, 3), padding = 1, stride = 1))\n",
        "        #     out_size = out_size - kernel_size + 1                                       # Size of the output kernel\n",
        "        #     out_size = int(out_size/2)                                                  # Size after pooling\n",
        "\n",
        "        self.conv2_drop = nn.Dropout2d(p=drop_conv2)                                    # Dropout for conv2\n",
        "        self.out_feature = num_filters * 64 * 64 # out_size         # Size of flattened features\n",
        "        \n",
        "        layers = []\n",
        "\n",
        "        for i in range(num_conv_layers):\n",
        "          if i == 0:\n",
        "            layers.append(nn.Conv2d(in_channels=1, out_channels=num_filters, kernel_size=(3, 3), padding = 1, stride = 1))\n",
        "            layers.append(nn.ReLU()) \n",
        "\n",
        "          else:\n",
        "            if i%2 == 0:\n",
        "              layers.append(nn.Conv2d(in_channels=num_filters, out_channels=num_filters, kernel_size=(3, 3), padding = 1, stride = 1))\n",
        "              layers.append(nn.ReLU())\n",
        "              layers.append(nn.MaxPool2d(kernel_size = (3,3), stride = 1, padding = 1))\n",
        "\n",
        "            else:\n",
        "              layers.append(nn.Conv2d(in_channels=num_filters, out_channels=num_filters, kernel_size=(3, 3), padding = 1, stride = 1))\n",
        "              layers.append(nn.ReLU())\n",
        "\n",
        "        self.cnn_layer = nn.Sequential(*layers)\n",
        "        \n",
        "        # print(self.cnn_layer)\n",
        "        self.fc1 = nn.Sequential(\n",
        "                                  nn.Flatten(),\n",
        "                                  nn.Linear(self.out_feature, num_neurons),                            # Fully Connected layer 1\n",
        "                                  nn.ReLU(),\n",
        "                                  nn.Linear(num_neurons, 10)                                           # Fully Connected layer 2\n",
        "                                )# self.p1 = drop_fc1                                                  # Dropout ratio for FC1\n",
        "\n",
        "\n",
        "    def forward(self, x):\n",
        "        \"\"\"Forward propagation.\n",
        "        Parameters:\n",
        "            - x (torch.Tensor): Input tensor of size [N,1,28,28]\n",
        "        Returns:\n",
        "            - (torch.Tensor): The output tensor after forward propagation [N,10]\n",
        "        # \"\"\"\n",
        "        # for i, conv_i in enumerate(self.convs):  # For each convolutional layer\n",
        "            # # print(\"x: \", type(x))\n",
        "            # if i == 2:  # Add dropout if layer 2\n",
        "            #     x = F.relu(F.max_pool2d(self.conv2_drop(conv_i(x)), 2))  # Conv_i, dropout, max-pooling, RelU\n",
        "            # else:\n",
        "            #     x = F.relu(F.max_pool2d(conv_i(x), 2)) \n",
        "\n",
        "\n",
        "\n",
        "        x = self.cnn_layer(x)\n",
        "        # print(\"x: \", x.shape, x.shape[-1], )\n",
        "\n",
        "\n",
        "\n",
        "\n",
        "        # self.out_feature = x.shape[-1] * x.shape[-2] * x.shape[-3]\n",
        "\n",
        "\n",
        "\n",
        "        x = self.fc1(x) # x.view(-1, self.out_feature)                     # Flatten tensor\n",
        "\n",
        "\n",
        "\n",
        "\n",
        "        # x = F.relu(self.fc1(x))                              # FC1, RelU\n",
        "        # x = F.dropout(x, p=self.p1, training=self.training)  # Apply dropout after FC1 only when training\n",
        "        # x = self.fc2(x)                                      # FC2\n",
        "\n",
        "        return x # F.log_softmax(x, dim=1)                       # log(softmax(x))"
      ]
    },
    {
      "cell_type": "code",
      "execution_count": null,
      "metadata": {
        "id": "XcP_J3VuG1hl"
      },
      "outputs": [],
      "source": [
        "def objective(trial, n_trials=100):\n",
        "    \"\"\"Objective function to be optimized by Optuna.\n",
        "    Hyperparameters chosen to be optimized: optimizer, learning rate,\n",
        "    dropout values, number of convolutional layers, number of filters of\n",
        "    convolutional layers, number of neurons of fully connected layers.\n",
        "    Inputs:\n",
        "        - trial (optuna.trial._trial.Trial): Optuna trial\n",
        "    Returns:\n",
        "        - accuracy(torch.Tensor): The test accuracy. Parameter to be maximized.\n",
        "    \"\"\"\n",
        "\n",
        "    # Define range of values to be tested for the hyperparameters\n",
        "    num_conv_layers = trial.suggest_int(\"num_conv_layers\", 3, 6)  # Number of convolutional layers\n",
        " \n",
        "\n",
        "    # Generate the model\n",
        "    model = CustomCNN(trial, num_conv_layers, num_filters = 10, num_neurons = 512, drop_conv2 = 0.2,  drop_fc1 = 0.2).to(device)\n",
        "\n",
        "\n",
        "    lr = trial.suggest_float(\"lr\", 1e-4, 1e-1, log=True)                                 # Learning rates\n",
        "    n_epochs = trial.suggest_int('n_estimators', 10, 50)\n",
        "    optimizer = torch.optim.Adam(model.parameters(), lr = lr)# getattr(optim, optimizer_name)(model.parameters(), lr=lr)\n",
        "\n",
        "    # Training of the model\n",
        "    for epoch in range(n_epochs):\n",
        "        train_loss, train_acc = train_loop(model, train_dataloader, loss_fn, optimizer,\n",
        "                                            accuracy_fn, device = device)  # Train the model\n",
        "        test_loss, test_acc = test_loop(model, test_dataloader, loss_fn, accuracy_fn, device = device)   # Evaluate the model\n",
        "\n",
        "        # For pruning (stops trial early if not promising)\n",
        "        trial.report(test_acc, epoch)\n",
        "        # Handle pruning based on the intermediate value.\n",
        "        if trial.should_prune():\n",
        "            raise optuna.exceptions.TrialPruned()\n",
        "\n",
        "    return test_acc"
      ]
    },
    {
      "cell_type": "code",
      "execution_count": null,
      "metadata": {
        "colab": {
          "background_save": true,
          "base_uri": "https://localhost:8080/"
        },
        "id": "SBXibfOFyHOk",
        "outputId": "44ff675d-af6d-45ba-ea98-ee287fb3cf7f"
      },
      "outputs": [
        {
          "name": "stderr",
          "output_type": "stream",
          "text": [
            "\u001b[32m[I 2023-04-20 16:49:59,472]\u001b[0m A new study created in memory with name: no-name-eeeb51af-3136-4286-98f0-7ca257c6445e\u001b[0m\n",
            "\u001b[32m[I 2023-04-20 17:17:57,833]\u001b[0m Trial 0 finished with value: 0.888070285320282 and parameters: {'num_conv_layers': 3, 'lr': 0.00033546059758267447, 'n_estimators': 40}. Best is trial 0 with value: 0.888070285320282.\u001b[0m\n",
            "\u001b[32m[I 2023-04-20 17:49:56,911]\u001b[0m Trial 1 finished with value: 0.8627644777297974 and parameters: {'num_conv_layers': 3, 'lr': 0.0036135083776617353, 'n_estimators': 46}. Best is trial 0 with value: 0.888070285320282.\u001b[0m\n",
            "\u001b[32m[I 2023-04-20 18:20:31,217]\u001b[0m Trial 2 finished with value: 0.009994011372327805 and parameters: {'num_conv_layers': 4, 'lr': 0.008394378908078872, 'n_estimators': 41}. Best is trial 0 with value: 0.888070285320282.\u001b[0m\n",
            "\u001b[32m[I 2023-04-20 19:00:48,089]\u001b[0m Trial 3 finished with value: 0.8790345191955566 and parameters: {'num_conv_layers': 6, 'lr': 0.00023572177373420625, 'n_estimators': 48}. Best is trial 0 with value: 0.888070285320282.\u001b[0m\n"
          ]
        }
      ],
      "source": [
        "# Create an Optuna study to maximize test accuracy\n",
        "study = optuna.create_study(direction=\"maximize\")\n",
        "study.optimize(objective, n_trials=100)"
      ]
    },
    {
      "cell_type": "code",
      "execution_count": null,
      "metadata": {
        "id": "f2-ZjlkTJuZ_"
      },
      "outputs": [],
      "source": [
        "# Find number of pruned and completed trials\n",
        "pruned_trials = study.get_trials(deepcopy=False, states=[TrialState.PRUNED])\n",
        "complete_trials = study.get_trials(deepcopy=False, states=[TrialState.COMPLETE])\n",
        "\n",
        "# Display the study statistics\n",
        "print(\"\\nStudy statistics: \")\n",
        "print(\"  Number of finished trials: \", len(study.trials))\n",
        "print(\"  Number of pruned trials: \", len(pruned_trials))\n",
        "print(\"  Number of complete trials: \", len(complete_trials))\n",
        "\n",
        "trial = study.best_trial\n",
        "print(\"Best trial:\")\n",
        "print(\"  Value: \", trial.value)\n",
        "print(\"  Params: \")\n",
        "for key, value in trial.params.items():\n",
        "    print(\"    {}: {}\".format(key, value))"
      ]
    },
    {
      "cell_type": "code",
      "execution_count": null,
      "metadata": {
        "id": "QvHsmywdj52c"
      },
      "outputs": [],
      "source": []
    }
  ],
  "metadata": {
    "accelerator": "GPU",
    "colab": {
      "provenance": []
    },
    "gpuClass": "standard",
    "kernelspec": {
      "display_name": "Python 3",
      "name": "python3"
    },
    "language_info": {
      "name": "python"
    }
  },
  "nbformat": 4,
  "nbformat_minor": 0
}