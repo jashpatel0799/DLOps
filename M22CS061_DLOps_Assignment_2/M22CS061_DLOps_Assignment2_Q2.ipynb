{
  "nbformat": 4,
  "nbformat_minor": 0,
  "metadata": {
    "colab": {
      "provenance": []
    },
    "kernelspec": {
      "name": "python3",
      "display_name": "Python 3"
    },
    "language_info": {
      "name": "python"
    },
    "gpuClass": "standard",
    "widgets": {
      "application/vnd.jupyter.widget-state+json": {
        "0afe8a2d60f346d0b085275d643fc1fd": {
          "model_module": "@jupyter-widgets/controls",
          "model_name": "HBoxModel",
          "model_module_version": "1.5.0",
          "state": {
            "_dom_classes": [],
            "_model_module": "@jupyter-widgets/controls",
            "_model_module_version": "1.5.0",
            "_model_name": "HBoxModel",
            "_view_count": null,
            "_view_module": "@jupyter-widgets/controls",
            "_view_module_version": "1.5.0",
            "_view_name": "HBoxView",
            "box_style": "",
            "children": [
              "IPY_MODEL_ed36275a3c8843589ea5c6f1ce33138e",
              "IPY_MODEL_dcc1ddea0f614280829d76f868c2df76",
              "IPY_MODEL_2336fba2eab4476786976dd737f8afcf"
            ],
            "layout": "IPY_MODEL_82fc8882c635424abfb3acb56d26f12f"
          }
        },
        "ed36275a3c8843589ea5c6f1ce33138e": {
          "model_module": "@jupyter-widgets/controls",
          "model_name": "HTMLModel",
          "model_module_version": "1.5.0",
          "state": {
            "_dom_classes": [],
            "_model_module": "@jupyter-widgets/controls",
            "_model_module_version": "1.5.0",
            "_model_name": "HTMLModel",
            "_view_count": null,
            "_view_module": "@jupyter-widgets/controls",
            "_view_module_version": "1.5.0",
            "_view_name": "HTMLView",
            "description": "",
            "description_tooltip": null,
            "layout": "IPY_MODEL_fbd548cafd5b434e8fe2034bae0bda72",
            "placeholder": "​",
            "style": "IPY_MODEL_24aca7602e44457dbbede188f753c19b",
            "value": "100%"
          }
        },
        "dcc1ddea0f614280829d76f868c2df76": {
          "model_module": "@jupyter-widgets/controls",
          "model_name": "FloatProgressModel",
          "model_module_version": "1.5.0",
          "state": {
            "_dom_classes": [],
            "_model_module": "@jupyter-widgets/controls",
            "_model_module_version": "1.5.0",
            "_model_name": "FloatProgressModel",
            "_view_count": null,
            "_view_module": "@jupyter-widgets/controls",
            "_view_module_version": "1.5.0",
            "_view_name": "ProgressView",
            "bar_style": "success",
            "description": "",
            "description_tooltip": null,
            "layout": "IPY_MODEL_6d101ecb400a4df080342abb10ab73dd",
            "max": 11,
            "min": 0,
            "orientation": "horizontal",
            "style": "IPY_MODEL_2f227c87368d453e8af6c5d01f0c93e4",
            "value": 11
          }
        },
        "2336fba2eab4476786976dd737f8afcf": {
          "model_module": "@jupyter-widgets/controls",
          "model_name": "HTMLModel",
          "model_module_version": "1.5.0",
          "state": {
            "_dom_classes": [],
            "_model_module": "@jupyter-widgets/controls",
            "_model_module_version": "1.5.0",
            "_model_name": "HTMLModel",
            "_view_count": null,
            "_view_module": "@jupyter-widgets/controls",
            "_view_module_version": "1.5.0",
            "_view_name": "HTMLView",
            "description": "",
            "description_tooltip": null,
            "layout": "IPY_MODEL_cfe92e178ab64c6a8b13aa8991fc3136",
            "placeholder": "​",
            "style": "IPY_MODEL_2a1066245e684495a379489d99ba1f40",
            "value": " 11/11 [15:51&lt;00:00, 88.93s/it]"
          }
        },
        "82fc8882c635424abfb3acb56d26f12f": {
          "model_module": "@jupyter-widgets/base",
          "model_name": "LayoutModel",
          "model_module_version": "1.2.0",
          "state": {
            "_model_module": "@jupyter-widgets/base",
            "_model_module_version": "1.2.0",
            "_model_name": "LayoutModel",
            "_view_count": null,
            "_view_module": "@jupyter-widgets/base",
            "_view_module_version": "1.2.0",
            "_view_name": "LayoutView",
            "align_content": null,
            "align_items": null,
            "align_self": null,
            "border": null,
            "bottom": null,
            "display": null,
            "flex": null,
            "flex_flow": null,
            "grid_area": null,
            "grid_auto_columns": null,
            "grid_auto_flow": null,
            "grid_auto_rows": null,
            "grid_column": null,
            "grid_gap": null,
            "grid_row": null,
            "grid_template_areas": null,
            "grid_template_columns": null,
            "grid_template_rows": null,
            "height": null,
            "justify_content": null,
            "justify_items": null,
            "left": null,
            "margin": null,
            "max_height": null,
            "max_width": null,
            "min_height": null,
            "min_width": null,
            "object_fit": null,
            "object_position": null,
            "order": null,
            "overflow": null,
            "overflow_x": null,
            "overflow_y": null,
            "padding": null,
            "right": null,
            "top": null,
            "visibility": null,
            "width": null
          }
        },
        "fbd548cafd5b434e8fe2034bae0bda72": {
          "model_module": "@jupyter-widgets/base",
          "model_name": "LayoutModel",
          "model_module_version": "1.2.0",
          "state": {
            "_model_module": "@jupyter-widgets/base",
            "_model_module_version": "1.2.0",
            "_model_name": "LayoutModel",
            "_view_count": null,
            "_view_module": "@jupyter-widgets/base",
            "_view_module_version": "1.2.0",
            "_view_name": "LayoutView",
            "align_content": null,
            "align_items": null,
            "align_self": null,
            "border": null,
            "bottom": null,
            "display": null,
            "flex": null,
            "flex_flow": null,
            "grid_area": null,
            "grid_auto_columns": null,
            "grid_auto_flow": null,
            "grid_auto_rows": null,
            "grid_column": null,
            "grid_gap": null,
            "grid_row": null,
            "grid_template_areas": null,
            "grid_template_columns": null,
            "grid_template_rows": null,
            "height": null,
            "justify_content": null,
            "justify_items": null,
            "left": null,
            "margin": null,
            "max_height": null,
            "max_width": null,
            "min_height": null,
            "min_width": null,
            "object_fit": null,
            "object_position": null,
            "order": null,
            "overflow": null,
            "overflow_x": null,
            "overflow_y": null,
            "padding": null,
            "right": null,
            "top": null,
            "visibility": null,
            "width": null
          }
        },
        "24aca7602e44457dbbede188f753c19b": {
          "model_module": "@jupyter-widgets/controls",
          "model_name": "DescriptionStyleModel",
          "model_module_version": "1.5.0",
          "state": {
            "_model_module": "@jupyter-widgets/controls",
            "_model_module_version": "1.5.0",
            "_model_name": "DescriptionStyleModel",
            "_view_count": null,
            "_view_module": "@jupyter-widgets/base",
            "_view_module_version": "1.2.0",
            "_view_name": "StyleView",
            "description_width": ""
          }
        },
        "6d101ecb400a4df080342abb10ab73dd": {
          "model_module": "@jupyter-widgets/base",
          "model_name": "LayoutModel",
          "model_module_version": "1.2.0",
          "state": {
            "_model_module": "@jupyter-widgets/base",
            "_model_module_version": "1.2.0",
            "_model_name": "LayoutModel",
            "_view_count": null,
            "_view_module": "@jupyter-widgets/base",
            "_view_module_version": "1.2.0",
            "_view_name": "LayoutView",
            "align_content": null,
            "align_items": null,
            "align_self": null,
            "border": null,
            "bottom": null,
            "display": null,
            "flex": null,
            "flex_flow": null,
            "grid_area": null,
            "grid_auto_columns": null,
            "grid_auto_flow": null,
            "grid_auto_rows": null,
            "grid_column": null,
            "grid_gap": null,
            "grid_row": null,
            "grid_template_areas": null,
            "grid_template_columns": null,
            "grid_template_rows": null,
            "height": null,
            "justify_content": null,
            "justify_items": null,
            "left": null,
            "margin": null,
            "max_height": null,
            "max_width": null,
            "min_height": null,
            "min_width": null,
            "object_fit": null,
            "object_position": null,
            "order": null,
            "overflow": null,
            "overflow_x": null,
            "overflow_y": null,
            "padding": null,
            "right": null,
            "top": null,
            "visibility": null,
            "width": null
          }
        },
        "2f227c87368d453e8af6c5d01f0c93e4": {
          "model_module": "@jupyter-widgets/controls",
          "model_name": "ProgressStyleModel",
          "model_module_version": "1.5.0",
          "state": {
            "_model_module": "@jupyter-widgets/controls",
            "_model_module_version": "1.5.0",
            "_model_name": "ProgressStyleModel",
            "_view_count": null,
            "_view_module": "@jupyter-widgets/base",
            "_view_module_version": "1.2.0",
            "_view_name": "StyleView",
            "bar_color": null,
            "description_width": ""
          }
        },
        "cfe92e178ab64c6a8b13aa8991fc3136": {
          "model_module": "@jupyter-widgets/base",
          "model_name": "LayoutModel",
          "model_module_version": "1.2.0",
          "state": {
            "_model_module": "@jupyter-widgets/base",
            "_model_module_version": "1.2.0",
            "_model_name": "LayoutModel",
            "_view_count": null,
            "_view_module": "@jupyter-widgets/base",
            "_view_module_version": "1.2.0",
            "_view_name": "LayoutView",
            "align_content": null,
            "align_items": null,
            "align_self": null,
            "border": null,
            "bottom": null,
            "display": null,
            "flex": null,
            "flex_flow": null,
            "grid_area": null,
            "grid_auto_columns": null,
            "grid_auto_flow": null,
            "grid_auto_rows": null,
            "grid_column": null,
            "grid_gap": null,
            "grid_row": null,
            "grid_template_areas": null,
            "grid_template_columns": null,
            "grid_template_rows": null,
            "height": null,
            "justify_content": null,
            "justify_items": null,
            "left": null,
            "margin": null,
            "max_height": null,
            "max_width": null,
            "min_height": null,
            "min_width": null,
            "object_fit": null,
            "object_position": null,
            "order": null,
            "overflow": null,
            "overflow_x": null,
            "overflow_y": null,
            "padding": null,
            "right": null,
            "top": null,
            "visibility": null,
            "width": null
          }
        },
        "2a1066245e684495a379489d99ba1f40": {
          "model_module": "@jupyter-widgets/controls",
          "model_name": "DescriptionStyleModel",
          "model_module_version": "1.5.0",
          "state": {
            "_model_module": "@jupyter-widgets/controls",
            "_model_module_version": "1.5.0",
            "_model_name": "DescriptionStyleModel",
            "_view_count": null,
            "_view_module": "@jupyter-widgets/base",
            "_view_module_version": "1.2.0",
            "_view_name": "StyleView",
            "description_width": ""
          }
        },
        "17410b9165204d6081506dddfffd7d13": {
          "model_module": "@jupyter-widgets/controls",
          "model_name": "HBoxModel",
          "model_module_version": "1.5.0",
          "state": {
            "_dom_classes": [],
            "_model_module": "@jupyter-widgets/controls",
            "_model_module_version": "1.5.0",
            "_model_name": "HBoxModel",
            "_view_count": null,
            "_view_module": "@jupyter-widgets/controls",
            "_view_module_version": "1.5.0",
            "_view_name": "HBoxView",
            "box_style": "",
            "children": [
              "IPY_MODEL_178e2a2dcdd2456a92aeae8f828976a0",
              "IPY_MODEL_80148c0b6b1b491da330851c300afbed",
              "IPY_MODEL_97edf9ecb87d49358ceb75b3502e481d"
            ],
            "layout": "IPY_MODEL_0ef6a6ab7b7b431d85b9951f3f85b8f4"
          }
        },
        "178e2a2dcdd2456a92aeae8f828976a0": {
          "model_module": "@jupyter-widgets/controls",
          "model_name": "HTMLModel",
          "model_module_version": "1.5.0",
          "state": {
            "_dom_classes": [],
            "_model_module": "@jupyter-widgets/controls",
            "_model_module_version": "1.5.0",
            "_model_name": "HTMLModel",
            "_view_count": null,
            "_view_module": "@jupyter-widgets/controls",
            "_view_module_version": "1.5.0",
            "_view_name": "HTMLView",
            "description": "",
            "description_tooltip": null,
            "layout": "IPY_MODEL_1466357269244630b9f49f742dc7c87f",
            "placeholder": "​",
            "style": "IPY_MODEL_1ee37522b7b54074aa24907cfffb60d8",
            "value": "100%"
          }
        },
        "80148c0b6b1b491da330851c300afbed": {
          "model_module": "@jupyter-widgets/controls",
          "model_name": "FloatProgressModel",
          "model_module_version": "1.5.0",
          "state": {
            "_dom_classes": [],
            "_model_module": "@jupyter-widgets/controls",
            "_model_module_version": "1.5.0",
            "_model_name": "FloatProgressModel",
            "_view_count": null,
            "_view_module": "@jupyter-widgets/controls",
            "_view_module_version": "1.5.0",
            "_view_name": "ProgressView",
            "bar_style": "success",
            "description": "",
            "description_tooltip": null,
            "layout": "IPY_MODEL_3c99bfd341694d1096a1f278b04f285c",
            "max": 11,
            "min": 0,
            "orientation": "horizontal",
            "style": "IPY_MODEL_790bfdd8b1a04d7fa2b069dd2801362b",
            "value": 11
          }
        },
        "97edf9ecb87d49358ceb75b3502e481d": {
          "model_module": "@jupyter-widgets/controls",
          "model_name": "HTMLModel",
          "model_module_version": "1.5.0",
          "state": {
            "_dom_classes": [],
            "_model_module": "@jupyter-widgets/controls",
            "_model_module_version": "1.5.0",
            "_model_name": "HTMLModel",
            "_view_count": null,
            "_view_module": "@jupyter-widgets/controls",
            "_view_module_version": "1.5.0",
            "_view_name": "HTMLView",
            "description": "",
            "description_tooltip": null,
            "layout": "IPY_MODEL_03b1d2a176b146969ddb039d4c59ead5",
            "placeholder": "​",
            "style": "IPY_MODEL_645d7a0481cd4812aee99e2867b7ace8",
            "value": " 11/11 [13:00&lt;00:00, 70.52s/it]"
          }
        },
        "0ef6a6ab7b7b431d85b9951f3f85b8f4": {
          "model_module": "@jupyter-widgets/base",
          "model_name": "LayoutModel",
          "model_module_version": "1.2.0",
          "state": {
            "_model_module": "@jupyter-widgets/base",
            "_model_module_version": "1.2.0",
            "_model_name": "LayoutModel",
            "_view_count": null,
            "_view_module": "@jupyter-widgets/base",
            "_view_module_version": "1.2.0",
            "_view_name": "LayoutView",
            "align_content": null,
            "align_items": null,
            "align_self": null,
            "border": null,
            "bottom": null,
            "display": null,
            "flex": null,
            "flex_flow": null,
            "grid_area": null,
            "grid_auto_columns": null,
            "grid_auto_flow": null,
            "grid_auto_rows": null,
            "grid_column": null,
            "grid_gap": null,
            "grid_row": null,
            "grid_template_areas": null,
            "grid_template_columns": null,
            "grid_template_rows": null,
            "height": null,
            "justify_content": null,
            "justify_items": null,
            "left": null,
            "margin": null,
            "max_height": null,
            "max_width": null,
            "min_height": null,
            "min_width": null,
            "object_fit": null,
            "object_position": null,
            "order": null,
            "overflow": null,
            "overflow_x": null,
            "overflow_y": null,
            "padding": null,
            "right": null,
            "top": null,
            "visibility": null,
            "width": null
          }
        },
        "1466357269244630b9f49f742dc7c87f": {
          "model_module": "@jupyter-widgets/base",
          "model_name": "LayoutModel",
          "model_module_version": "1.2.0",
          "state": {
            "_model_module": "@jupyter-widgets/base",
            "_model_module_version": "1.2.0",
            "_model_name": "LayoutModel",
            "_view_count": null,
            "_view_module": "@jupyter-widgets/base",
            "_view_module_version": "1.2.0",
            "_view_name": "LayoutView",
            "align_content": null,
            "align_items": null,
            "align_self": null,
            "border": null,
            "bottom": null,
            "display": null,
            "flex": null,
            "flex_flow": null,
            "grid_area": null,
            "grid_auto_columns": null,
            "grid_auto_flow": null,
            "grid_auto_rows": null,
            "grid_column": null,
            "grid_gap": null,
            "grid_row": null,
            "grid_template_areas": null,
            "grid_template_columns": null,
            "grid_template_rows": null,
            "height": null,
            "justify_content": null,
            "justify_items": null,
            "left": null,
            "margin": null,
            "max_height": null,
            "max_width": null,
            "min_height": null,
            "min_width": null,
            "object_fit": null,
            "object_position": null,
            "order": null,
            "overflow": null,
            "overflow_x": null,
            "overflow_y": null,
            "padding": null,
            "right": null,
            "top": null,
            "visibility": null,
            "width": null
          }
        },
        "1ee37522b7b54074aa24907cfffb60d8": {
          "model_module": "@jupyter-widgets/controls",
          "model_name": "DescriptionStyleModel",
          "model_module_version": "1.5.0",
          "state": {
            "_model_module": "@jupyter-widgets/controls",
            "_model_module_version": "1.5.0",
            "_model_name": "DescriptionStyleModel",
            "_view_count": null,
            "_view_module": "@jupyter-widgets/base",
            "_view_module_version": "1.2.0",
            "_view_name": "StyleView",
            "description_width": ""
          }
        },
        "3c99bfd341694d1096a1f278b04f285c": {
          "model_module": "@jupyter-widgets/base",
          "model_name": "LayoutModel",
          "model_module_version": "1.2.0",
          "state": {
            "_model_module": "@jupyter-widgets/base",
            "_model_module_version": "1.2.0",
            "_model_name": "LayoutModel",
            "_view_count": null,
            "_view_module": "@jupyter-widgets/base",
            "_view_module_version": "1.2.0",
            "_view_name": "LayoutView",
            "align_content": null,
            "align_items": null,
            "align_self": null,
            "border": null,
            "bottom": null,
            "display": null,
            "flex": null,
            "flex_flow": null,
            "grid_area": null,
            "grid_auto_columns": null,
            "grid_auto_flow": null,
            "grid_auto_rows": null,
            "grid_column": null,
            "grid_gap": null,
            "grid_row": null,
            "grid_template_areas": null,
            "grid_template_columns": null,
            "grid_template_rows": null,
            "height": null,
            "justify_content": null,
            "justify_items": null,
            "left": null,
            "margin": null,
            "max_height": null,
            "max_width": null,
            "min_height": null,
            "min_width": null,
            "object_fit": null,
            "object_position": null,
            "order": null,
            "overflow": null,
            "overflow_x": null,
            "overflow_y": null,
            "padding": null,
            "right": null,
            "top": null,
            "visibility": null,
            "width": null
          }
        },
        "790bfdd8b1a04d7fa2b069dd2801362b": {
          "model_module": "@jupyter-widgets/controls",
          "model_name": "ProgressStyleModel",
          "model_module_version": "1.5.0",
          "state": {
            "_model_module": "@jupyter-widgets/controls",
            "_model_module_version": "1.5.0",
            "_model_name": "ProgressStyleModel",
            "_view_count": null,
            "_view_module": "@jupyter-widgets/base",
            "_view_module_version": "1.2.0",
            "_view_name": "StyleView",
            "bar_color": null,
            "description_width": ""
          }
        },
        "03b1d2a176b146969ddb039d4c59ead5": {
          "model_module": "@jupyter-widgets/base",
          "model_name": "LayoutModel",
          "model_module_version": "1.2.0",
          "state": {
            "_model_module": "@jupyter-widgets/base",
            "_model_module_version": "1.2.0",
            "_model_name": "LayoutModel",
            "_view_count": null,
            "_view_module": "@jupyter-widgets/base",
            "_view_module_version": "1.2.0",
            "_view_name": "LayoutView",
            "align_content": null,
            "align_items": null,
            "align_self": null,
            "border": null,
            "bottom": null,
            "display": null,
            "flex": null,
            "flex_flow": null,
            "grid_area": null,
            "grid_auto_columns": null,
            "grid_auto_flow": null,
            "grid_auto_rows": null,
            "grid_column": null,
            "grid_gap": null,
            "grid_row": null,
            "grid_template_areas": null,
            "grid_template_columns": null,
            "grid_template_rows": null,
            "height": null,
            "justify_content": null,
            "justify_items": null,
            "left": null,
            "margin": null,
            "max_height": null,
            "max_width": null,
            "min_height": null,
            "min_width": null,
            "object_fit": null,
            "object_position": null,
            "order": null,
            "overflow": null,
            "overflow_x": null,
            "overflow_y": null,
            "padding": null,
            "right": null,
            "top": null,
            "visibility": null,
            "width": null
          }
        },
        "645d7a0481cd4812aee99e2867b7ace8": {
          "model_module": "@jupyter-widgets/controls",
          "model_name": "DescriptionStyleModel",
          "model_module_version": "1.5.0",
          "state": {
            "_model_module": "@jupyter-widgets/controls",
            "_model_module_version": "1.5.0",
            "_model_name": "DescriptionStyleModel",
            "_view_count": null,
            "_view_module": "@jupyter-widgets/base",
            "_view_module_version": "1.2.0",
            "_view_name": "StyleView",
            "description_width": ""
          }
        }
      }
    }
  },
  "cells": [
    {
      "cell_type": "code",
      "execution_count": null,
      "metadata": {
        "id": "siURFz1hWxju"
      },
      "outputs": [],
      "source": [
        "import torch\n",
        "import torch.nn as nn\n",
        "import numpy as np\n",
        "import pandas as pd\n",
        "import matplotlib.pyplot as plt\n",
        "from torch.utils.data import TensorDataset, DataLoader, Dataset\n",
        "from tqdm.auto import tqdm\n",
        "import gc"
      ]
    },
    {
      "cell_type": "code",
      "source": [
        "from sklearn.preprocessing import StandardScaler\n",
        "from sklearn.model_selection import train_test_split"
      ],
      "metadata": {
        "id": "P_BWnYzxga9X"
      },
      "execution_count": null,
      "outputs": []
    },
    {
      "cell_type": "code",
      "source": [
        "from pathlib import Path\n",
        "from google.colab import drive\n",
        "drive.mount('/content/drive/')"
      ],
      "metadata": {
        "colab": {
          "base_uri": "https://localhost:8080/"
        },
        "id": "G5_vyQTcYMIs",
        "outputId": "6e9e2592-fa56-4a52-f28c-740dd4b0e4f4"
      },
      "execution_count": null,
      "outputs": [
        {
          "output_type": "stream",
          "name": "stdout",
          "text": [
            "Drive already mounted at /content/drive/; to attempt to forcibly remount, call drive.mount(\"/content/drive/\", force_remount=True).\n"
          ]
        }
      ]
    },
    {
      "cell_type": "markdown",
      "source": [
        "## Write device agnostic code"
      ],
      "metadata": {
        "id": "5JBVfn5MzMY3"
      }
    },
    {
      "cell_type": "code",
      "source": [
        "device = 'cuda' if torch.cuda.is_available() else 'cpu'\n",
        "device"
      ],
      "metadata": {
        "colab": {
          "base_uri": "https://localhost:8080/",
          "height": 35
        },
        "id": "TsTi6nJezPv8",
        "outputId": "c64b07b9-d805-4e0c-9df9-2daab705dd2e"
      },
      "execution_count": null,
      "outputs": [
        {
          "output_type": "execute_result",
          "data": {
            "text/plain": [
              "'cuda'"
            ],
            "application/vnd.google.colaboratory.intrinsic+json": {
              "type": "string"
            }
          },
          "metadata": {},
          "execution_count": 4
        }
      ]
    },
    {
      "cell_type": "code",
      "source": [
        "data = 'drive/MyDrive/Course/Sem2/DLOps/data/household_power_consumption.txt'\n",
        "info = df = pd.read_csv(data, sep=';', na_values=['?'],)\n",
        "info.head()"
      ],
      "metadata": {
        "colab": {
          "base_uri": "https://localhost:8080/",
          "height": 270
        },
        "id": "W_77DSgjYOHW",
        "outputId": "b9fa8453-e56e-4477-ec7d-2436a13c56b2"
      },
      "execution_count": null,
      "outputs": [
        {
          "output_type": "execute_result",
          "data": {
            "text/plain": [
              "         Date      Time  Global_active_power  Global_reactive_power  Voltage  \\\n",
              "0  16/12/2006  17:24:00                4.216                  0.418   234.84   \n",
              "1  16/12/2006  17:25:00                5.360                  0.436   233.63   \n",
              "2  16/12/2006  17:26:00                5.374                  0.498   233.29   \n",
              "3  16/12/2006  17:27:00                5.388                  0.502   233.74   \n",
              "4  16/12/2006  17:28:00                3.666                  0.528   235.68   \n",
              "\n",
              "   Global_intensity  Sub_metering_1  Sub_metering_2  Sub_metering_3  \n",
              "0              18.4             0.0             1.0            17.0  \n",
              "1              23.0             0.0             1.0            16.0  \n",
              "2              23.0             0.0             2.0            17.0  \n",
              "3              23.0             0.0             1.0            17.0  \n",
              "4              15.8             0.0             1.0            17.0  "
            ],
            "text/html": [
              "\n",
              "  <div id=\"df-558a0809-1224-4ec3-a4b8-ff4be654d11a\">\n",
              "    <div class=\"colab-df-container\">\n",
              "      <div>\n",
              "<style scoped>\n",
              "    .dataframe tbody tr th:only-of-type {\n",
              "        vertical-align: middle;\n",
              "    }\n",
              "\n",
              "    .dataframe tbody tr th {\n",
              "        vertical-align: top;\n",
              "    }\n",
              "\n",
              "    .dataframe thead th {\n",
              "        text-align: right;\n",
              "    }\n",
              "</style>\n",
              "<table border=\"1\" class=\"dataframe\">\n",
              "  <thead>\n",
              "    <tr style=\"text-align: right;\">\n",
              "      <th></th>\n",
              "      <th>Date</th>\n",
              "      <th>Time</th>\n",
              "      <th>Global_active_power</th>\n",
              "      <th>Global_reactive_power</th>\n",
              "      <th>Voltage</th>\n",
              "      <th>Global_intensity</th>\n",
              "      <th>Sub_metering_1</th>\n",
              "      <th>Sub_metering_2</th>\n",
              "      <th>Sub_metering_3</th>\n",
              "    </tr>\n",
              "  </thead>\n",
              "  <tbody>\n",
              "    <tr>\n",
              "      <th>0</th>\n",
              "      <td>16/12/2006</td>\n",
              "      <td>17:24:00</td>\n",
              "      <td>4.216</td>\n",
              "      <td>0.418</td>\n",
              "      <td>234.84</td>\n",
              "      <td>18.4</td>\n",
              "      <td>0.0</td>\n",
              "      <td>1.0</td>\n",
              "      <td>17.0</td>\n",
              "    </tr>\n",
              "    <tr>\n",
              "      <th>1</th>\n",
              "      <td>16/12/2006</td>\n",
              "      <td>17:25:00</td>\n",
              "      <td>5.360</td>\n",
              "      <td>0.436</td>\n",
              "      <td>233.63</td>\n",
              "      <td>23.0</td>\n",
              "      <td>0.0</td>\n",
              "      <td>1.0</td>\n",
              "      <td>16.0</td>\n",
              "    </tr>\n",
              "    <tr>\n",
              "      <th>2</th>\n",
              "      <td>16/12/2006</td>\n",
              "      <td>17:26:00</td>\n",
              "      <td>5.374</td>\n",
              "      <td>0.498</td>\n",
              "      <td>233.29</td>\n",
              "      <td>23.0</td>\n",
              "      <td>0.0</td>\n",
              "      <td>2.0</td>\n",
              "      <td>17.0</td>\n",
              "    </tr>\n",
              "    <tr>\n",
              "      <th>3</th>\n",
              "      <td>16/12/2006</td>\n",
              "      <td>17:27:00</td>\n",
              "      <td>5.388</td>\n",
              "      <td>0.502</td>\n",
              "      <td>233.74</td>\n",
              "      <td>23.0</td>\n",
              "      <td>0.0</td>\n",
              "      <td>1.0</td>\n",
              "      <td>17.0</td>\n",
              "    </tr>\n",
              "    <tr>\n",
              "      <th>4</th>\n",
              "      <td>16/12/2006</td>\n",
              "      <td>17:28:00</td>\n",
              "      <td>3.666</td>\n",
              "      <td>0.528</td>\n",
              "      <td>235.68</td>\n",
              "      <td>15.8</td>\n",
              "      <td>0.0</td>\n",
              "      <td>1.0</td>\n",
              "      <td>17.0</td>\n",
              "    </tr>\n",
              "  </tbody>\n",
              "</table>\n",
              "</div>\n",
              "      <button class=\"colab-df-convert\" onclick=\"convertToInteractive('df-558a0809-1224-4ec3-a4b8-ff4be654d11a')\"\n",
              "              title=\"Convert this dataframe to an interactive table.\"\n",
              "              style=\"display:none;\">\n",
              "        \n",
              "  <svg xmlns=\"http://www.w3.org/2000/svg\" height=\"24px\"viewBox=\"0 0 24 24\"\n",
              "       width=\"24px\">\n",
              "    <path d=\"M0 0h24v24H0V0z\" fill=\"none\"/>\n",
              "    <path d=\"M18.56 5.44l.94 2.06.94-2.06 2.06-.94-2.06-.94-.94-2.06-.94 2.06-2.06.94zm-11 1L8.5 8.5l.94-2.06 2.06-.94-2.06-.94L8.5 2.5l-.94 2.06-2.06.94zm10 10l.94 2.06.94-2.06 2.06-.94-2.06-.94-.94-2.06-.94 2.06-2.06.94z\"/><path d=\"M17.41 7.96l-1.37-1.37c-.4-.4-.92-.59-1.43-.59-.52 0-1.04.2-1.43.59L10.3 9.45l-7.72 7.72c-.78.78-.78 2.05 0 2.83L4 21.41c.39.39.9.59 1.41.59.51 0 1.02-.2 1.41-.59l7.78-7.78 2.81-2.81c.8-.78.8-2.07 0-2.86zM5.41 20L4 18.59l7.72-7.72 1.47 1.35L5.41 20z\"/>\n",
              "  </svg>\n",
              "      </button>\n",
              "      \n",
              "  <style>\n",
              "    .colab-df-container {\n",
              "      display:flex;\n",
              "      flex-wrap:wrap;\n",
              "      gap: 12px;\n",
              "    }\n",
              "\n",
              "    .colab-df-convert {\n",
              "      background-color: #E8F0FE;\n",
              "      border: none;\n",
              "      border-radius: 50%;\n",
              "      cursor: pointer;\n",
              "      display: none;\n",
              "      fill: #1967D2;\n",
              "      height: 32px;\n",
              "      padding: 0 0 0 0;\n",
              "      width: 32px;\n",
              "    }\n",
              "\n",
              "    .colab-df-convert:hover {\n",
              "      background-color: #E2EBFA;\n",
              "      box-shadow: 0px 1px 2px rgba(60, 64, 67, 0.3), 0px 1px 3px 1px rgba(60, 64, 67, 0.15);\n",
              "      fill: #174EA6;\n",
              "    }\n",
              "\n",
              "    [theme=dark] .colab-df-convert {\n",
              "      background-color: #3B4455;\n",
              "      fill: #D2E3FC;\n",
              "    }\n",
              "\n",
              "    [theme=dark] .colab-df-convert:hover {\n",
              "      background-color: #434B5C;\n",
              "      box-shadow: 0px 1px 3px 1px rgba(0, 0, 0, 0.15);\n",
              "      filter: drop-shadow(0px 1px 2px rgba(0, 0, 0, 0.3));\n",
              "      fill: #FFFFFF;\n",
              "    }\n",
              "  </style>\n",
              "\n",
              "      <script>\n",
              "        const buttonEl =\n",
              "          document.querySelector('#df-558a0809-1224-4ec3-a4b8-ff4be654d11a button.colab-df-convert');\n",
              "        buttonEl.style.display =\n",
              "          google.colab.kernel.accessAllowed ? 'block' : 'none';\n",
              "\n",
              "        async function convertToInteractive(key) {\n",
              "          const element = document.querySelector('#df-558a0809-1224-4ec3-a4b8-ff4be654d11a');\n",
              "          const dataTable =\n",
              "            await google.colab.kernel.invokeFunction('convertToInteractive',\n",
              "                                                     [key], {});\n",
              "          if (!dataTable) return;\n",
              "\n",
              "          const docLinkHtml = 'Like what you see? Visit the ' +\n",
              "            '<a target=\"_blank\" href=https://colab.research.google.com/notebooks/data_table.ipynb>data table notebook</a>'\n",
              "            + ' to learn more about interactive tables.';\n",
              "          element.innerHTML = '';\n",
              "          dataTable['output_type'] = 'display_data';\n",
              "          await google.colab.output.renderOutput(dataTable, element);\n",
              "          const docLink = document.createElement('div');\n",
              "          docLink.innerHTML = docLinkHtml;\n",
              "          element.appendChild(docLink);\n",
              "        }\n",
              "      </script>\n",
              "    </div>\n",
              "  </div>\n",
              "  "
            ]
          },
          "metadata": {},
          "execution_count": 5
        }
      ]
    },
    {
      "cell_type": "code",
      "source": [
        "len(info.index)"
      ],
      "metadata": {
        "colab": {
          "base_uri": "https://localhost:8080/"
        },
        "id": "R7H-SwNSYfK9",
        "outputId": "fcf5c837-28e5-4bdc-a3aa-ba7657c3711d"
      },
      "execution_count": null,
      "outputs": [
        {
          "output_type": "execute_result",
          "data": {
            "text/plain": [
              "2075259"
            ]
          },
          "metadata": {},
          "execution_count": 6
        }
      ]
    },
    {
      "cell_type": "markdown",
      "source": [
        "## PreProcess the data"
      ],
      "metadata": {
        "id": "2GavysEGcOw3"
      }
    },
    {
      "cell_type": "code",
      "source": [
        "info.drop(info.columns[[0,1]], axis=1, inplace=True)\n",
        "# info.drop(info.columns[[0]], axis=1, inplace=True)"
      ],
      "metadata": {
        "id": "eLii-q76cS9q"
      },
      "execution_count": null,
      "outputs": []
    },
    {
      "cell_type": "code",
      "source": [
        "info.head()"
      ],
      "metadata": {
        "colab": {
          "base_uri": "https://localhost:8080/",
          "height": 206
        },
        "id": "3fz32nYZcYOb",
        "outputId": "ada550a6-7b35-434d-b25b-178ecb949539"
      },
      "execution_count": null,
      "outputs": [
        {
          "output_type": "execute_result",
          "data": {
            "text/plain": [
              "   Global_active_power  Global_reactive_power  Voltage  Global_intensity  \\\n",
              "0                4.216                  0.418   234.84              18.4   \n",
              "1                5.360                  0.436   233.63              23.0   \n",
              "2                5.374                  0.498   233.29              23.0   \n",
              "3                5.388                  0.502   233.74              23.0   \n",
              "4                3.666                  0.528   235.68              15.8   \n",
              "\n",
              "   Sub_metering_1  Sub_metering_2  Sub_metering_3  \n",
              "0             0.0             1.0            17.0  \n",
              "1             0.0             1.0            16.0  \n",
              "2             0.0             2.0            17.0  \n",
              "3             0.0             1.0            17.0  \n",
              "4             0.0             1.0            17.0  "
            ],
            "text/html": [
              "\n",
              "  <div id=\"df-48041a5d-45dc-43f1-b2d4-c5e860227a48\">\n",
              "    <div class=\"colab-df-container\">\n",
              "      <div>\n",
              "<style scoped>\n",
              "    .dataframe tbody tr th:only-of-type {\n",
              "        vertical-align: middle;\n",
              "    }\n",
              "\n",
              "    .dataframe tbody tr th {\n",
              "        vertical-align: top;\n",
              "    }\n",
              "\n",
              "    .dataframe thead th {\n",
              "        text-align: right;\n",
              "    }\n",
              "</style>\n",
              "<table border=\"1\" class=\"dataframe\">\n",
              "  <thead>\n",
              "    <tr style=\"text-align: right;\">\n",
              "      <th></th>\n",
              "      <th>Global_active_power</th>\n",
              "      <th>Global_reactive_power</th>\n",
              "      <th>Voltage</th>\n",
              "      <th>Global_intensity</th>\n",
              "      <th>Sub_metering_1</th>\n",
              "      <th>Sub_metering_2</th>\n",
              "      <th>Sub_metering_3</th>\n",
              "    </tr>\n",
              "  </thead>\n",
              "  <tbody>\n",
              "    <tr>\n",
              "      <th>0</th>\n",
              "      <td>4.216</td>\n",
              "      <td>0.418</td>\n",
              "      <td>234.84</td>\n",
              "      <td>18.4</td>\n",
              "      <td>0.0</td>\n",
              "      <td>1.0</td>\n",
              "      <td>17.0</td>\n",
              "    </tr>\n",
              "    <tr>\n",
              "      <th>1</th>\n",
              "      <td>5.360</td>\n",
              "      <td>0.436</td>\n",
              "      <td>233.63</td>\n",
              "      <td>23.0</td>\n",
              "      <td>0.0</td>\n",
              "      <td>1.0</td>\n",
              "      <td>16.0</td>\n",
              "    </tr>\n",
              "    <tr>\n",
              "      <th>2</th>\n",
              "      <td>5.374</td>\n",
              "      <td>0.498</td>\n",
              "      <td>233.29</td>\n",
              "      <td>23.0</td>\n",
              "      <td>0.0</td>\n",
              "      <td>2.0</td>\n",
              "      <td>17.0</td>\n",
              "    </tr>\n",
              "    <tr>\n",
              "      <th>3</th>\n",
              "      <td>5.388</td>\n",
              "      <td>0.502</td>\n",
              "      <td>233.74</td>\n",
              "      <td>23.0</td>\n",
              "      <td>0.0</td>\n",
              "      <td>1.0</td>\n",
              "      <td>17.0</td>\n",
              "    </tr>\n",
              "    <tr>\n",
              "      <th>4</th>\n",
              "      <td>3.666</td>\n",
              "      <td>0.528</td>\n",
              "      <td>235.68</td>\n",
              "      <td>15.8</td>\n",
              "      <td>0.0</td>\n",
              "      <td>1.0</td>\n",
              "      <td>17.0</td>\n",
              "    </tr>\n",
              "  </tbody>\n",
              "</table>\n",
              "</div>\n",
              "      <button class=\"colab-df-convert\" onclick=\"convertToInteractive('df-48041a5d-45dc-43f1-b2d4-c5e860227a48')\"\n",
              "              title=\"Convert this dataframe to an interactive table.\"\n",
              "              style=\"display:none;\">\n",
              "        \n",
              "  <svg xmlns=\"http://www.w3.org/2000/svg\" height=\"24px\"viewBox=\"0 0 24 24\"\n",
              "       width=\"24px\">\n",
              "    <path d=\"M0 0h24v24H0V0z\" fill=\"none\"/>\n",
              "    <path d=\"M18.56 5.44l.94 2.06.94-2.06 2.06-.94-2.06-.94-.94-2.06-.94 2.06-2.06.94zm-11 1L8.5 8.5l.94-2.06 2.06-.94-2.06-.94L8.5 2.5l-.94 2.06-2.06.94zm10 10l.94 2.06.94-2.06 2.06-.94-2.06-.94-.94-2.06-.94 2.06-2.06.94z\"/><path d=\"M17.41 7.96l-1.37-1.37c-.4-.4-.92-.59-1.43-.59-.52 0-1.04.2-1.43.59L10.3 9.45l-7.72 7.72c-.78.78-.78 2.05 0 2.83L4 21.41c.39.39.9.59 1.41.59.51 0 1.02-.2 1.41-.59l7.78-7.78 2.81-2.81c.8-.78.8-2.07 0-2.86zM5.41 20L4 18.59l7.72-7.72 1.47 1.35L5.41 20z\"/>\n",
              "  </svg>\n",
              "      </button>\n",
              "      \n",
              "  <style>\n",
              "    .colab-df-container {\n",
              "      display:flex;\n",
              "      flex-wrap:wrap;\n",
              "      gap: 12px;\n",
              "    }\n",
              "\n",
              "    .colab-df-convert {\n",
              "      background-color: #E8F0FE;\n",
              "      border: none;\n",
              "      border-radius: 50%;\n",
              "      cursor: pointer;\n",
              "      display: none;\n",
              "      fill: #1967D2;\n",
              "      height: 32px;\n",
              "      padding: 0 0 0 0;\n",
              "      width: 32px;\n",
              "    }\n",
              "\n",
              "    .colab-df-convert:hover {\n",
              "      background-color: #E2EBFA;\n",
              "      box-shadow: 0px 1px 2px rgba(60, 64, 67, 0.3), 0px 1px 3px 1px rgba(60, 64, 67, 0.15);\n",
              "      fill: #174EA6;\n",
              "    }\n",
              "\n",
              "    [theme=dark] .colab-df-convert {\n",
              "      background-color: #3B4455;\n",
              "      fill: #D2E3FC;\n",
              "    }\n",
              "\n",
              "    [theme=dark] .colab-df-convert:hover {\n",
              "      background-color: #434B5C;\n",
              "      box-shadow: 0px 1px 3px 1px rgba(0, 0, 0, 0.15);\n",
              "      filter: drop-shadow(0px 1px 2px rgba(0, 0, 0, 0.3));\n",
              "      fill: #FFFFFF;\n",
              "    }\n",
              "  </style>\n",
              "\n",
              "      <script>\n",
              "        const buttonEl =\n",
              "          document.querySelector('#df-48041a5d-45dc-43f1-b2d4-c5e860227a48 button.colab-df-convert');\n",
              "        buttonEl.style.display =\n",
              "          google.colab.kernel.accessAllowed ? 'block' : 'none';\n",
              "\n",
              "        async function convertToInteractive(key) {\n",
              "          const element = document.querySelector('#df-48041a5d-45dc-43f1-b2d4-c5e860227a48');\n",
              "          const dataTable =\n",
              "            await google.colab.kernel.invokeFunction('convertToInteractive',\n",
              "                                                     [key], {});\n",
              "          if (!dataTable) return;\n",
              "\n",
              "          const docLinkHtml = 'Like what you see? Visit the ' +\n",
              "            '<a target=\"_blank\" href=https://colab.research.google.com/notebooks/data_table.ipynb>data table notebook</a>'\n",
              "            + ' to learn more about interactive tables.';\n",
              "          element.innerHTML = '';\n",
              "          dataTable['output_type'] = 'display_data';\n",
              "          await google.colab.output.renderOutput(dataTable, element);\n",
              "          const docLink = document.createElement('div');\n",
              "          docLink.innerHTML = docLinkHtml;\n",
              "          element.appendChild(docLink);\n",
              "        }\n",
              "      </script>\n",
              "    </div>\n",
              "  </div>\n",
              "  "
            ]
          },
          "metadata": {},
          "execution_count": 8
        }
      ]
    },
    {
      "cell_type": "code",
      "source": [
        "col_num = len(info.columns)\n",
        "def check_null(col_num, dataframe):\n",
        "  for c in range(col_num):\n",
        "    print(f\"Null value in {dataframe.columns[c]}: {dataframe.iloc[:,c].isnull().sum()}\")\n",
        "\n",
        "# def check_zeros(col_num, dataframe):\n",
        "#   for c in range(col_num):\n",
        "#     print(f\"Zero value in {dataframe.columns[c]}: {(dataframe.iloc[:,c] == 0).sum()}\")\n",
        "\n",
        "\n",
        "\n",
        "check_null(col_num, info)\n",
        "# print()\n",
        "# print(\"----------------------------------------------------------------------------\")\n",
        "# print()\n",
        "# check_zeros(col_num, info)"
      ],
      "metadata": {
        "colab": {
          "base_uri": "https://localhost:8080/"
        },
        "id": "o86UWNESYsTi",
        "outputId": "d394626c-5c09-45dc-e5bc-22eeb5dc63e1"
      },
      "execution_count": null,
      "outputs": [
        {
          "output_type": "stream",
          "name": "stdout",
          "text": [
            "Null value in Global_active_power: 25979\n",
            "Null value in Global_reactive_power: 25979\n",
            "Null value in Voltage: 25979\n",
            "Null value in Global_intensity: 25979\n",
            "Null value in Sub_metering_1: 25979\n",
            "Null value in Sub_metering_2: 25979\n",
            "Null value in Sub_metering_3: 25979\n"
          ]
        }
      ]
    },
    {
      "cell_type": "markdown",
      "source": [
        "### Fill Null value with Meadian"
      ],
      "metadata": {
        "id": "R5pzMf7eZrkB"
      }
    },
    {
      "cell_type": "code",
      "source": [
        "# df['Sub_metering_3'] = df['Sub_metering_3'].fillna(df['Sub_metering_3'].median())\n",
        "info = info.dropna()"
      ],
      "metadata": {
        "id": "Mczq8at3e-PR"
      },
      "execution_count": null,
      "outputs": []
    },
    {
      "cell_type": "code",
      "source": [
        "len(info.index)"
      ],
      "metadata": {
        "colab": {
          "base_uri": "https://localhost:8080/"
        },
        "id": "bHAyH8ZlodwN",
        "outputId": "ea43266e-73ab-42dd-d9ee-44d367b2b295"
      },
      "execution_count": null,
      "outputs": [
        {
          "output_type": "execute_result",
          "data": {
            "text/plain": [
              "2049280"
            ]
          },
          "metadata": {},
          "execution_count": 11
        }
      ]
    },
    {
      "cell_type": "markdown",
      "source": [
        "### Check for null values"
      ],
      "metadata": {
        "id": "4CvBOskGf3-A"
      }
    },
    {
      "cell_type": "code",
      "source": [
        "check_null(col_num, info)"
      ],
      "metadata": {
        "colab": {
          "base_uri": "https://localhost:8080/"
        },
        "id": "5O49Nmu6f6T7",
        "outputId": "60da68cc-a325-4d40-de51-4e896f8fe03c"
      },
      "execution_count": null,
      "outputs": [
        {
          "output_type": "stream",
          "name": "stdout",
          "text": [
            "Null value in Global_active_power: 0\n",
            "Null value in Global_reactive_power: 0\n",
            "Null value in Voltage: 0\n",
            "Null value in Global_intensity: 0\n",
            "Null value in Sub_metering_1: 0\n",
            "Null value in Sub_metering_2: 0\n",
            "Null value in Sub_metering_3: 0\n"
          ]
        }
      ]
    },
    {
      "cell_type": "markdown",
      "source": [
        "# Split data into train test 80:20"
      ],
      "metadata": {
        "id": "onHFCqkUsUra"
      }
    },
    {
      "cell_type": "code",
      "source": [
        "info = info.astype(float)"
      ],
      "metadata": {
        "id": "fcUWPegGtSTw"
      },
      "execution_count": null,
      "outputs": []
    },
    {
      "cell_type": "code",
      "source": [
        "info_numpy = info.to_numpy()\n",
        "x = info_numpy[:,1:]\n",
        "y = info_numpy[:,0:1]\n",
        "\n",
        "print(x)\n",
        "print()\n",
        "print(y)"
      ],
      "metadata": {
        "colab": {
          "base_uri": "https://localhost:8080/"
        },
        "id": "sBbk9Fh0sgnP",
        "outputId": "2952f9e2-187c-4c0b-9d42-0a4694b9333c"
      },
      "execution_count": null,
      "outputs": [
        {
          "output_type": "stream",
          "name": "stdout",
          "text": [
            "[[  0.418 234.84   18.4     0.      1.     17.   ]\n",
            " [  0.436 233.63   23.      0.      1.     16.   ]\n",
            " [  0.498 233.29   23.      0.      2.     17.   ]\n",
            " ...\n",
            " [  0.    239.82    3.8     0.      0.      0.   ]\n",
            " [  0.    239.7     3.8     0.      0.      0.   ]\n",
            " [  0.    239.55    3.8     0.      0.      0.   ]]\n",
            "\n",
            "[[4.216]\n",
            " [5.36 ]\n",
            " [5.374]\n",
            " ...\n",
            " [0.938]\n",
            " [0.934]\n",
            " [0.932]]\n"
          ]
        }
      ]
    },
    {
      "cell_type": "code",
      "source": [
        "x_train, x_test, y_train, y_test = train_test_split(x, y, test_size=0.20, random_state=64)"
      ],
      "metadata": {
        "id": "Tv-DpB4XsYnY"
      },
      "execution_count": null,
      "outputs": []
    },
    {
      "cell_type": "markdown",
      "source": [
        "### Now Apply standard scaller on train and test data"
      ],
      "metadata": {
        "id": "Zh32cfvTf8DY"
      }
    },
    {
      "cell_type": "code",
      "source": [],
      "metadata": {
        "id": "iTaoYbSnhh2E"
      },
      "execution_count": null,
      "outputs": []
    },
    {
      "cell_type": "code",
      "source": [
        "data_scaler = StandardScaler()\n",
        "x_train = data_scaler.fit_transform(x_train)\n",
        "x_test = data_scaler.transform(x_test)\n",
        "\n",
        "\n",
        "# info_scaler = pd.DataFrame(info_scaler, columns=['Global_active_power','Global_reactive_power','Voltage','Global_intensity', 'Sub_metering_1', 'Sub_metering_2', 'Sub_metering_3'])\n",
        "print(x_train)\n",
        "print()\n",
        "print(x_test)"
      ],
      "metadata": {
        "colab": {
          "base_uri": "https://localhost:8080/"
        },
        "id": "XRKlqA52gHOJ",
        "outputId": "3da2e7c0-828f-4e8a-fc68-cbd2eabed3f1"
      },
      "execution_count": null,
      "outputs": [
        {
          "output_type": "stream",
          "name": "stdout",
          "text": [
            "[[-0.13936727 -0.69797598  0.80436687 -0.18209772 -0.22307519  1.36776797]\n",
            " [-0.40547676  1.0118755  -0.7264092  -0.18209772 -0.22307519 -0.76557799]\n",
            " [-1.09736145  0.53348745 -0.7264092  -0.18209772 -0.22307519 -0.76557799]\n",
            " ...\n",
            " [-1.09736145 -0.01280084 -0.99654616 -0.18209772 -0.22307519 -0.64705877]\n",
            " [ 0.42833299  0.01189016  0.66929839 -0.18209772 -0.22307519  1.48628719]\n",
            " [ 1.72339921 -0.0776147  -0.23115812 -0.18209772 -0.05116065 -0.76557799]]\n",
            "\n",
            "[[ 2.14917441 -0.89241757  2.29012011 -0.18209772  0.12075388 -0.76557799]\n",
            " [ 0.87184882 -0.42637502  0.35413861 -0.18209772  0.12075388  1.36776797]\n",
            " [-0.3167736  -1.76277519 -0.7264092  -0.18209772 -0.22307519 -0.76557799]\n",
            " ...\n",
            " [-0.28129233 -0.65476674 -0.77143203 -0.18209772 -0.22307519 -0.64705877]\n",
            " [-0.58288309 -2.95102937  0.35413861 -0.18209772 -0.22307519  1.24924875]\n",
            " [-1.09736145  1.32051295 -0.81645485 -0.18209772 -0.22307519 -0.64705877]]\n"
          ]
        }
      ]
    },
    {
      "cell_type": "code",
      "source": [
        "pred_scaler = StandardScaler()\n",
        "pred_scaler.fit(y_train)\n",
        "y_train = pred_scaler.transform(y_train)\n",
        "y_test = pred_scaler.transform(y_test)\n",
        "\n",
        "\n",
        "print(y_train)\n",
        "print()\n",
        "print(y_test)"
      ],
      "metadata": {
        "colab": {
          "base_uri": "https://localhost:8080/"
        },
        "id": "Sw19mWLCgtlv",
        "outputId": "6199db82-b486-4298-aefe-63bfb289d1be"
      },
      "execution_count": null,
      "outputs": [
        {
          "output_type": "stream",
          "name": "stdout",
          "text": [
            "[[ 0.83706179]\n",
            " [-0.71861864]\n",
            " [-0.73943675]\n",
            " ...\n",
            " [-0.9570806 ]\n",
            " [ 0.7140457 ]\n",
            " [-0.27954582]]\n",
            "\n",
            "[[ 2.30757724]\n",
            " [ 0.35635275]\n",
            " [-0.73754419]\n",
            " ...\n",
            " [-0.76971763]\n",
            " [ 0.36013786]\n",
            " [-0.78107296]]\n"
          ]
        }
      ]
    },
    {
      "cell_type": "markdown",
      "source": [
        "## Make DataLoader"
      ],
      "metadata": {
        "id": "nBAubt-cg7xY"
      }
    },
    {
      "cell_type": "code",
      "source": [
        "class Makedataset(Dataset):\n",
        "    def __init__(self, x, y, sequence_length=5):\n",
        "        \n",
        "        self.sequence_length = sequence_length\n",
        "        self.X = x\n",
        "        self.y = y\n",
        "\n",
        "    def __len__(self):\n",
        "        \n",
        "        return self.X.shape[0]\n",
        "\n",
        "    def __getitem__(self, i): \n",
        "        \n",
        "        if i >= self.sequence_length - 1:\n",
        "            i_start = i - self.sequence_length + 1\n",
        "            x = self.X[i_start:(i + 1), :]\n",
        "        else:\n",
        "            padding = self.X[0].repeat(self.sequence_length - i - 1, 1)\n",
        "            x = self.X[0:(i + 1), :]\n",
        "            x = torch.cat((padding, x), 0)\n",
        "\n",
        "        return x, self.y[i].item()"
      ],
      "metadata": {
        "id": "O1CRXj-EERxb"
      },
      "execution_count": null,
      "outputs": []
    },
    {
      "cell_type": "code",
      "source": [
        "def numpy_to_dataLoader(x, y, batch_size, shuffle, sequence_num=5):\n",
        "  # transform to torch tensor\n",
        "  tensor_x = torch.Tensor(x) \n",
        "  tensor_y = torch.Tensor(y)\n",
        "\n",
        "  # create your datset\n",
        "  my_dataset = Makedataset(tensor_x,tensor_y) \n",
        "\n",
        "  # create your dataloader\n",
        "  my_dataloader = DataLoader(my_dataset, batch_size = batch_size, shuffle = shuffle) \n",
        "\n",
        "  return my_dataloader\n"
      ],
      "metadata": {
        "id": "GeseAS1GwgTP"
      },
      "execution_count": null,
      "outputs": []
    },
    {
      "cell_type": "code",
      "source": [
        "BATCH_SIZE = 64\n",
        "\n",
        "train_dataloader = numpy_to_dataLoader(x_train, y_train, batch_size = BATCH_SIZE, shuffle = True)\n",
        "test_dataloader = numpy_to_dataLoader(x_test, y_test, batch_size = BATCH_SIZE, shuffle = False)"
      ],
      "metadata": {
        "id": "F4hoX9RfxNF8"
      },
      "execution_count": null,
      "outputs": []
    },
    {
      "cell_type": "code",
      "source": [
        "for i, (x, y) in enumerate(train_dataloader):\n",
        "  print(len(x))\n",
        "  break"
      ],
      "metadata": {
        "colab": {
          "base_uri": "https://localhost:8080/"
        },
        "id": "JLb3ka-79hzp",
        "outputId": "3a90f345-1146-495c-811f-368f1069fab1"
      },
      "execution_count": null,
      "outputs": [
        {
          "output_type": "stream",
          "name": "stdout",
          "text": [
            "64\n"
          ]
        }
      ]
    },
    {
      "cell_type": "markdown",
      "source": [
        "## Train and Test Loop"
      ],
      "metadata": {
        "id": "wFB1OzsZxcVd"
      }
    },
    {
      "cell_type": "code",
      "source": [
        "def train_loop(model: torch.nn.Module, dataloader: torch.utils.data.DataLoader,\n",
        "               loss_fn: torch.nn.Module, optimizer: torch.optim.Optimizer,\n",
        "               device: torch.device = device):\n",
        "  train_loss = 0\n",
        "  model.train()\n",
        "  for batch, (x_train, y_train) in enumerate(dataloader):\n",
        "\n",
        "    if device == 'cuda':\n",
        "      x_train, y_train = x_train.to(device), y_train.to(device)\n",
        "\n",
        "    y_train = y_train.type(torch.float32)\n",
        "\n",
        "    # model.train()\n",
        "    optimizer.zero_grad()\n",
        "\n",
        "    pred = model(x_train)\n",
        "\n",
        "    loss = loss_fn(pred, y_train)\n",
        "\n",
        "\n",
        "    loss.backward()\n",
        "\n",
        "    optimizer.step()\n",
        "\n",
        "    train_loss += loss\n",
        "\n",
        "  train_loss /= len(dataloader)\n",
        "\n",
        "  return train_loss\n",
        "def test_loop(model: torch.nn.Module, dataloader: torch.utils.data.DataLoader,\n",
        "              loss_fn: torch.nn.Module, device: torch.device = device):\n",
        "  \n",
        "  test_loss = 0\n",
        "\n",
        "  model.eval()\n",
        "  with torch.inference_mode():\n",
        "    for x_test, y_test in dataloader:\n",
        "\n",
        "      if device == 'cuda':\n",
        "        x_test, y_test = x_test.to(device), y_test.to(device)\n",
        "\n",
        "      y_test = y_test.type(torch.float32)\n",
        "\n",
        "      test_pred = model(x_test)\n",
        "\n",
        "      test_loss += loss_fn(test_pred, y_test)\n",
        "\n",
        "    test_loss /= len(dataloader)\n",
        "\n",
        "  return test_loss"
      ],
      "metadata": {
        "id": "_gKvDF3L8gG5"
      },
      "execution_count": null,
      "outputs": []
    },
    {
      "cell_type": "code",
      "source": [
        "def eval_loop(model: torch.nn.Module, dataloader: torch.utils.data.DataLoader,\n",
        "              loss_fn: torch.nn.Module, device: torch.device = device):\n",
        "  \n",
        "  \n",
        "  test_val = []\n",
        "\n",
        "  model.eval()\n",
        "  with torch.inference_mode():\n",
        "    for x_test, y_test in dataloader:\n",
        "\n",
        "      if device == 'cuda':\n",
        "        x_test, y_test = x_test.to(device), y_test.to(device)\n",
        "\n",
        "      y_test = y_test.type(torch.float32)\n",
        "\n",
        "      # 1. Forward\n",
        "      test_pred = model(x_test)\n",
        "\n",
        "      for i in test_pred:\n",
        "        test_val.append(i.item())\n",
        "    # test_acc /= len(dataloader)\n",
        "\n",
        "\n",
        "  return test_val"
      ],
      "metadata": {
        "id": "YyvLuvLulpR5"
      },
      "execution_count": null,
      "outputs": []
    },
    {
      "cell_type": "markdown",
      "source": [
        "## Plot functon for Loss/Accuray vs Epoch"
      ],
      "metadata": {
        "id": "63nqjrrwzE5S"
      }
    },
    {
      "cell_type": "code",
      "source": [
        "def plot_graph(train_losses, test_losses):\n",
        "  plt.figure(figsize = (10, 8))\n",
        "  # plt.subplot(1, 2, 1)\n",
        "  plt.plot(range(len(train_losses)), train_losses, label = \"Train Loss\")\n",
        "  plt.plot(range(len(test_losses)), test_losses, label = \"Test Loss\")\n",
        "  plt.legend()\n",
        "  plt.xlabel(\"Epoches\")\n",
        "  plt.ylabel(\"Loss\")\n",
        "  # plt.show()\n",
        "\n",
        "  # plt.subplot(1, 2, 2)\n",
        "  # plt.plot(range(len(train_accs)), train_accs, label = \"Train Accuracy\")\n",
        "  # plt.plot(range(len(test_accs)), test_accs, label = \"Test Accuracy\")\n",
        "  # plt.legend()\n",
        "  # plt.xlabel(\"Epoches\")\n",
        "  # plt.ylabel(\"Accuracy\")\n",
        "  # plt.show()"
      ],
      "metadata": {
        "id": "bW1FbbkBzkWu"
      },
      "execution_count": null,
      "outputs": []
    },
    {
      "cell_type": "markdown",
      "source": [
        "## Loss function"
      ],
      "metadata": {
        "id": "_bLvAQ3N2oBv"
      }
    },
    {
      "cell_type": "code",
      "source": [
        "loss_fn = nn.MSELoss()"
      ],
      "metadata": {
        "id": "J-zWVgMpzk0n"
      },
      "execution_count": null,
      "outputs": []
    },
    {
      "cell_type": "markdown",
      "source": [
        "## Build Model"
      ],
      "metadata": {
        "id": "xufTPCRu39xm"
      }
    },
    {
      "cell_type": "code",
      "source": [
        "class LSTM(nn.Module):\n",
        "    def __init__(self, num_sensors, hidden_units):\n",
        "        super().__init__()\n",
        "        self.num_sensors = num_sensors  # this is the number of features\n",
        "        self.hidden_units = hidden_units\n",
        "        self.num_layers = 1\n",
        "\n",
        "        self.lstm = nn.LSTM(input_size=num_sensors, hidden_size=hidden_units,\n",
        "                            batch_first=True, num_layers=self.num_layers)\n",
        "\n",
        "        self.linear = nn.Linear(in_features=self.hidden_units, out_features=1)\n",
        "\n",
        "    def forward(self, x):\n",
        "        batch_size = x.shape[0]\n",
        "        # h0 = torch.zeros(self.num_layers, batch_size, self.hidden_units).squeeze().requires_grad_()\n",
        "        # c0 = torch.zeros(self.num_layers, batch_size, self.hidden_units).squeeze().requires_grad_()\n",
        "\n",
        "        h0 = torch.zeros(self.num_layers, batch_size, self.hidden_units).requires_grad_().to(device)\n",
        "        c0 = torch.zeros(self.num_layers, batch_size, self.hidden_units).requires_grad_().to(device)\n",
        "\n",
        "        # print(f'h0: {h0.shape}')\n",
        "        \n",
        "        _, (hn, cn) = self.lstm(x, (h0, c0))\n",
        "        # print(f'hn: {hn.shape}')\n",
        "        # print(f'cn: {cn.shape}')\n",
        "        out = self.linear(hn[0]).flatten()  # First dim of Hn is num_layers, which is set to 1 above.\n",
        "\n",
        "        return out"
      ],
      "metadata": {
        "id": "Kz5u5szq4J7V"
      },
      "execution_count": null,
      "outputs": []
    },
    {
      "cell_type": "markdown",
      "source": [
        "## Train model for Some Epoches"
      ],
      "metadata": {
        "id": "_HVKOOYy7Inr"
      }
    },
    {
      "cell_type": "code",
      "source": [
        "# init. epochs\n",
        "epoches = 11\n",
        "\n",
        "house_lstm = LSTM(num_sensors = 6, hidden_units = 32).to(device)\n",
        "\n",
        "\n",
        "optimizer = torch.optim.Adam(params = house_lstm.parameters(), lr = 1e-3)\n",
        "house_lstm_train_loss, house_lstm_test_loss = [], []\n",
        "\n",
        "\n",
        "torch.manual_seed(64)\n",
        "torch.cuda.manual_seed(64)\n",
        "for epoch in tqdm(range(epoches)):\n",
        "\n",
        "  train_loss = train_loop(model = house_lstm, dataloader = train_dataloader,\n",
        "                                    loss_fn = loss_fn, optimizer = optimizer, device = device)\n",
        "  \n",
        "  test_loss = test_loop(model = house_lstm, dataloader = test_dataloader,\n",
        "                                  loss_fn = loss_fn, device = device)\n",
        "  \n",
        "  house_lstm_train_loss.append(train_loss.item())\n",
        "  house_lstm_test_loss.append(test_loss.item())\n",
        "\n",
        "\n",
        "\n",
        "  print(f\"Epoch: {epoch+1}  Train Loss: {train_loss:.4f} | Test Loss: {test_loss:.4f}\")\n",
        "\n",
        "plot_graph(house_lstm_train_loss, house_lstm_test_loss)"
      ],
      "metadata": {
        "colab": {
          "base_uri": "https://localhost:8080/",
          "height": 919,
          "referenced_widgets": [
            "0afe8a2d60f346d0b085275d643fc1fd",
            "ed36275a3c8843589ea5c6f1ce33138e",
            "dcc1ddea0f614280829d76f868c2df76",
            "2336fba2eab4476786976dd737f8afcf",
            "82fc8882c635424abfb3acb56d26f12f",
            "fbd548cafd5b434e8fe2034bae0bda72",
            "24aca7602e44457dbbede188f753c19b",
            "6d101ecb400a4df080342abb10ab73dd",
            "2f227c87368d453e8af6c5d01f0c93e4",
            "cfe92e178ab64c6a8b13aa8991fc3136",
            "2a1066245e684495a379489d99ba1f40"
          ]
        },
        "id": "N-ZKd2vZ7PJr",
        "outputId": "e9a6e245-f96b-408a-9d1e-8d2e0818a9b0"
      },
      "execution_count": null,
      "outputs": [
        {
          "output_type": "display_data",
          "data": {
            "text/plain": [
              "  0%|          | 0/11 [00:00<?, ?it/s]"
            ],
            "application/vnd.jupyter.widget-view+json": {
              "version_major": 2,
              "version_minor": 0,
              "model_id": "0afe8a2d60f346d0b085275d643fc1fd"
            }
          },
          "metadata": {}
        },
        {
          "output_type": "stream",
          "name": "stdout",
          "text": [
            "Epoch: 1  Train Loss: 0.0045 | Test Loss: 0.0012\n",
            "Epoch: 2  Train Loss: 0.0011 | Test Loss: 0.0010\n",
            "Epoch: 3  Train Loss: 0.0011 | Test Loss: 0.0011\n",
            "Epoch: 4  Train Loss: 0.0010 | Test Loss: 0.0010\n",
            "Epoch: 5  Train Loss: 0.0010 | Test Loss: 0.0010\n",
            "Epoch: 6  Train Loss: 0.0010 | Test Loss: 0.0010\n",
            "Epoch: 7  Train Loss: 0.0010 | Test Loss: 0.0010\n",
            "Epoch: 8  Train Loss: 0.0010 | Test Loss: 0.0010\n",
            "Epoch: 9  Train Loss: 0.0010 | Test Loss: 0.0009\n",
            "Epoch: 10  Train Loss: 0.0010 | Test Loss: 0.0009\n",
            "Epoch: 11  Train Loss: 0.0010 | Test Loss: 0.0009\n"
          ]
        },
        {
          "output_type": "display_data",
          "data": {
            "text/plain": [
              "<Figure size 1000x800 with 1 Axes>"
            ],
            "image/png": "[encoded data removed]"
          },
          "metadata": {}
        }
      ]
    },
    {
      "cell_type": "code",
      "source": [
        "gc.collect()\n",
        "torch.cuda.empty_cache()"
      ],
      "metadata": {
        "id": "pw25-GGemK3-"
      },
      "execution_count": null,
      "outputs": []
    },
    {
      "cell_type": "markdown",
      "source": [
        "## real global active power and predicted global active power"
      ],
      "metadata": {
        "id": "-8a8iriglxv8"
      }
    },
    {
      "cell_type": "code",
      "source": [
        "model_val = eval_loop(model = house_lstm, dataloader = test_dataloader,\n",
        "                                  loss_fn = loss_fn, device = device)"
      ],
      "metadata": {
        "id": "vfxDj-4Nl-xd"
      },
      "execution_count": null,
      "outputs": []
    },
    {
      "cell_type": "code",
      "source": [
        "model_val = np.c_[model_val]\n",
        "model_val.shape"
      ],
      "metadata": {
        "colab": {
          "base_uri": "https://localhost:8080/"
        },
        "id": "o71_dRmfmIzI",
        "outputId": "9e2215c2-12f9-4824-d9fe-b207991f612c"
      },
      "execution_count": null,
      "outputs": [
        {
          "output_type": "execute_result",
          "data": {
            "text/plain": [
              "(409856, 1)"
            ]
          },
          "metadata": {},
          "execution_count": 32
        }
      ]
    },
    {
      "cell_type": "code",
      "source": [
        "plt.figure(figsize = (20, 12))\n",
        "# plt.subplot(1, 2, 1)\n",
        "plt.plot(range(len(y_test)), y_test, label = \"Actual\")\n",
        "plt.plot(range(len(model_val)), model_val, label = \"Predict\")\n",
        "plt.legend()\n",
        "plt.title(\"Real global active power VS Predicted global active power\")\n",
        "plt.xlabel(\"number of values\")\n",
        "plt.ylabel(\"values\")"
      ],
      "metadata": {
        "colab": {
          "base_uri": "https://localhost:8080/",
          "height": 696
        },
        "id": "lHHSfU69mOEV",
        "outputId": "86f104ad-0dbc-49f1-a4a1-327aa3d142eb"
      },
      "execution_count": null,
      "outputs": [
        {
          "output_type": "execute_result",
          "data": {
            "text/plain": [
              "Text(0, 0.5, 'values')"
            ]
          },
          "metadata": {},
          "execution_count": 33
        },
        {
          "output_type": "display_data",
          "data": {
            "text/plain": [
              "<Figure size 2000x1200 with 1 Axes>"
            ],
            "image/png": "[encoded data removed]"
          },
          "metadata": {}
        }
      ]
    },
    {
      "cell_type": "code",
      "source": [
        "gc.collect()\n",
        "torch.cuda.empty_cache()"
      ],
      "metadata": {
        "id": "_fxLPPH_dKx2"
      },
      "execution_count": null,
      "outputs": []
    },
    {
      "cell_type": "markdown",
      "source": [
        "# Splite dataset into 70:30"
      ],
      "metadata": {
        "id": "XJdZwYigKsNr"
      }
    },
    {
      "cell_type": "code",
      "source": [
        "info = info.astype(float)"
      ],
      "metadata": {
        "id": "DotuAswQLS03"
      },
      "execution_count": null,
      "outputs": []
    },
    {
      "cell_type": "code",
      "source": [
        "info_numpy = info.to_numpy()\n",
        "x = info_numpy[:,1:]\n",
        "y = info_numpy[:,0:1]\n",
        "\n",
        "print(x)\n",
        "print()\n",
        "print(y)"
      ],
      "metadata": {
        "colab": {
          "base_uri": "https://localhost:8080/"
        },
        "outputId": "35dce1b4-1b66-4011-f432-1223461508e6",
        "id": "kBDqrgIqLS03"
      },
      "execution_count": null,
      "outputs": [
        {
          "output_type": "stream",
          "name": "stdout",
          "text": [
            "[[  0.418 234.84   18.4     0.      1.     17.   ]\n",
            " [  0.436 233.63   23.      0.      1.     16.   ]\n",
            " [  0.498 233.29   23.      0.      2.     17.   ]\n",
            " ...\n",
            " [  0.    239.82    3.8     0.      0.      0.   ]\n",
            " [  0.    239.7     3.8     0.      0.      0.   ]\n",
            " [  0.    239.55    3.8     0.      0.      0.   ]]\n",
            "\n",
            "[[4.216]\n",
            " [5.36 ]\n",
            " [5.374]\n",
            " ...\n",
            " [0.938]\n",
            " [0.934]\n",
            " [0.932]]\n"
          ]
        }
      ]
    },
    {
      "cell_type": "code",
      "source": [
        "x_train, x_test, y_train, y_test = train_test_split(x, y, test_size=0.30, random_state=64)"
      ],
      "metadata": {
        "id": "pujReF-rLS04"
      },
      "execution_count": null,
      "outputs": []
    },
    {
      "cell_type": "markdown",
      "source": [
        "### Now Apply standard scaller on train and test data"
      ],
      "metadata": {
        "id": "RdbDk-G1LS04"
      }
    },
    {
      "cell_type": "code",
      "source": [
        "data_scaler = StandardScaler()\n",
        "x_train = data_scaler.fit_transform(x_train)\n",
        "x_test = data_scaler.transform(x_test)\n",
        "\n",
        "\n",
        "# info_scaler = pd.DataFrame(info_scaler, columns=['Global_active_power','Global_reactive_power','Voltage','Global_intensity', 'Sub_metering_1', 'Sub_metering_2', 'Sub_metering_3'])\n",
        "print(x_train)\n",
        "print()\n",
        "print(x_test)"
      ],
      "metadata": {
        "colab": {
          "base_uri": "https://localhost:8080/"
        },
        "outputId": "43f4e588-e550-4299-b2a8-ca1fe263a94f",
        "id": "0_Jam83rLS04"
      },
      "execution_count": null,
      "outputs": [
        {
          "output_type": "stream",
          "name": "stdout",
          "text": [
            "[[-1.09712332 -1.70455845 -0.90635566 -0.18173745 -0.222824   -0.76565432]\n",
            " [-1.09712332  0.83558435 -0.77122229 -0.18173745 -0.222824   -0.76565432]\n",
            " [-1.09712332  0.25533302 -0.81626675 -0.18173745 -0.222824   -0.76565432]\n",
            " ...\n",
            " [-1.09712332 -0.01318754 -0.99644457 -0.18173745 -0.222824   -0.64712314]\n",
            " [ 0.42858012  0.011504    0.67020028 -0.18173745 -0.222824    1.48643812]\n",
            " [ 1.72365397 -0.07800285 -0.23068883 -0.18173745 -0.05102314 -0.76565432]]\n",
            "\n",
            "[[ 2.14943167e+00 -8.92823874e-01  2.29180068e+00 -1.81737448e-01\n",
            "   1.20777719e-01 -7.65654320e-01]\n",
            " [ 8.72098559e-01 -4.26770942e-01  3.54889094e-01 -1.81737448e-01\n",
            "   1.20777719e-01  1.36790694e+00]\n",
            " [-3.16530864e-01 -1.76320087e+00 -7.26177839e-01 -1.81737448e-01\n",
            "  -2.22824002e-01 -7.65654320e-01]\n",
            " ...\n",
            " [-1.09712332e+00  2.90658778e+00 -8.16266750e-01 -1.81737448e-01\n",
            "  -2.22824002e-01 -7.65654320e-01]\n",
            " [-2.27827176e-01  1.32632883e+00 -4.55911105e-01 -1.81737448e-01\n",
            "  -2.22824002e-01 -7.65654320e-01]\n",
            " [ 2.80241364e-03 -2.35411460e-01 -8.16266750e-01 -1.81737448e-01\n",
            "  -2.22824002e-01 -7.65654320e-01]]\n"
          ]
        }
      ]
    },
    {
      "cell_type": "code",
      "source": [
        "pred_scaler = StandardScaler()\n",
        "pred_scaler.fit(y_train)\n",
        "y_train = pred_scaler.fit_transform(y_train)\n",
        "y_test = pred_scaler.transform(y_test)\n",
        "\n",
        "\n",
        "print(y_train)\n",
        "print()\n",
        "print(y_test)"
      ],
      "metadata": {
        "colab": {
          "base_uri": "https://localhost:8080/"
        },
        "outputId": "839eb1cb-724b-4506-d4e0-6fde4f3c3e66",
        "id": "HbwC4eYDLS04"
      },
      "execution_count": null,
      "outputs": [
        {
          "output_type": "stream",
          "name": "stdout",
          "text": [
            "[[-0.91908343]\n",
            " [-0.79411737]\n",
            " [-0.80926478]\n",
            " ...\n",
            " [-0.95695193]\n",
            " [ 0.71494242]\n",
            " [-0.27910575]]\n",
            "\n",
            "[[ 2.30920634]\n",
            " [ 0.35708508]\n",
            " [-0.73731462]\n",
            " ...\n",
            " [-0.79033052]\n",
            " [-0.40596523]\n",
            " [-0.8263056 ]]\n"
          ]
        }
      ]
    },
    {
      "cell_type": "markdown",
      "source": [
        "## Make DataLoader"
      ],
      "metadata": {
        "id": "k1PKGVIjLS04"
      }
    },
    {
      "cell_type": "code",
      "source": [
        "BATCH_SIZE = 64\n",
        "\n",
        "train_dataloader = numpy_to_dataLoader(x_train, y_train, batch_size = BATCH_SIZE, shuffle = True)\n",
        "test_dataloader = numpy_to_dataLoader(x_test, y_test, batch_size = BATCH_SIZE, shuffle = False)"
      ],
      "metadata": {
        "id": "wd-l5XHVLS05"
      },
      "execution_count": null,
      "outputs": []
    },
    {
      "cell_type": "markdown",
      "source": [
        "## Train Model"
      ],
      "metadata": {
        "id": "3K5V7xhgqNoh"
      }
    },
    {
      "cell_type": "code",
      "source": [
        "# init. epochs\n",
        "epoches = 11\n",
        "\n",
        "house_lstm = LSTM(num_sensors = 6, hidden_units = 32).to(device)\n",
        "\n",
        "\n",
        "optimizer = torch.optim.Adam(params = house_lstm.parameters(), lr = 1e-3)\n",
        "house_lstm_train_loss, house_lstm_test_loss = [], []\n",
        "house_lstm_train_accs, house_lstm_test_accs = [], []\n",
        "\n",
        "\n",
        "torch.manual_seed(64)\n",
        "torch.cuda.manual_seed(64)\n",
        "for epoch in tqdm(range(epoches)):\n",
        "\n",
        "  train_loss = train_loop(model = house_lstm, dataloader = train_dataloader,\n",
        "                                    loss_fn = loss_fn, optimizer = optimizer, device = device)\n",
        "  \n",
        "  test_loss = test_loop(model = house_lstm, dataloader = test_dataloader,\n",
        "                                  loss_fn = loss_fn, device = device)\n",
        "  \n",
        "  house_lstm_train_loss.append(train_loss.item())\n",
        "  house_lstm_test_loss.append(test_loss.item())\n",
        "\n",
        "\n",
        "  print(f\"Epoch: {epoch+1}  Train Loss: {train_loss:.4f} | Test Loss: {test_loss:.4f}\")\n",
        "\n",
        "plot_graph(house_lstm_train_loss, house_lstm_test_loss)"
      ],
      "metadata": {
        "colab": {
          "base_uri": "https://localhost:8080/",
          "height": 919,
          "referenced_widgets": [
            "17410b9165204d6081506dddfffd7d13",
            "178e2a2dcdd2456a92aeae8f828976a0",
            "80148c0b6b1b491da330851c300afbed",
            "97edf9ecb87d49358ceb75b3502e481d",
            "0ef6a6ab7b7b431d85b9951f3f85b8f4",
            "1466357269244630b9f49f742dc7c87f",
            "1ee37522b7b54074aa24907cfffb60d8",
            "3c99bfd341694d1096a1f278b04f285c",
            "790bfdd8b1a04d7fa2b069dd2801362b",
            "03b1d2a176b146969ddb039d4c59ead5",
            "645d7a0481cd4812aee99e2867b7ace8"
          ]
        },
        "id": "VgWyuW78LbFG",
        "outputId": "92a378e3-d071-4d6e-c381-276d9d496143"
      },
      "execution_count": null,
      "outputs": [
        {
          "data": {
            "application/vnd.jupyter.widget-view+json": {
              "model_id": "17410b9165204d6081506dddfffd7d13",
              "version_major": 2,
              "version_minor": 0
            },
            "text/plain": [
              "  0%|          | 0/11 [00:00<?, ?it/s]"
            ]
          },
          "metadata": {},
          "output_type": "display_data"
        },
        {
          "output_type": "stream",
          "name": "stdout",
          "text": [
            "Epoch: 1  Train Loss: 0.0051 | Test Loss: 0.0013\n",
            "Epoch: 2  Train Loss: 0.0011 | Test Loss: 0.0011\n",
            "Epoch: 3  Train Loss: 0.0011 | Test Loss: 0.0011\n",
            "Epoch: 4  Train Loss: 0.0010 | Test Loss: 0.0012\n",
            "Epoch: 5  Train Loss: 0.0010 | Test Loss: 0.0010\n",
            "Epoch: 6  Train Loss: 0.0010 | Test Loss: 0.0010\n",
            "Epoch: 7  Train Loss: 0.0010 | Test Loss: 0.0010\n",
            "Epoch: 8  Train Loss: 0.0010 | Test Loss: 0.0010\n",
            "Epoch: 9  Train Loss: 0.0010 | Test Loss: 0.0009\n",
            "Epoch: 10  Train Loss: 0.0010 | Test Loss: 0.0010\n",
            "Epoch: 11  Train Loss: 0.0010 | Test Loss: 0.0010\n"
          ]
        },
        {
          "output_type": "display_data",
          "data": {
            "text/plain": [
              "<Figure size 1000x800 with 1 Axes>"
            ],
            "image/png": "[encoded data removed]"
          },
          "metadata": {}
        }
      ]
    },
    {
      "cell_type": "code",
      "source": [
        "gc.collect()\n",
        "torch.cuda.empty_cache()"
      ],
      "metadata": {
        "id": "42lIepgPdMHq"
      },
      "execution_count": null,
      "outputs": []
    },
    {
      "cell_type": "markdown",
      "source": [
        "## real global active power and predicted global active power"
      ],
      "metadata": {
        "id": "x9i55W5drN0K"
      }
    },
    {
      "cell_type": "code",
      "source": [
        "model_val = eval_loop(model = house_lstm, dataloader = test_dataloader,\n",
        "                                  loss_fn = loss_fn, device = device)"
      ],
      "metadata": {
        "id": "HAZHeSNvrN0L"
      },
      "execution_count": null,
      "outputs": []
    },
    {
      "cell_type": "code",
      "source": [
        "model_val = np.c_[model_val]\n",
        "model_val.shape"
      ],
      "metadata": {
        "colab": {
          "base_uri": "https://localhost:8080/"
        },
        "id": "iO49fkYzu6a_",
        "outputId": "9779c253-eca3-4e50-ff7c-80280d78f619"
      },
      "execution_count": null,
      "outputs": [
        {
          "output_type": "execute_result",
          "data": {
            "text/plain": [
              "(614784, 1)"
            ]
          },
          "metadata": {},
          "execution_count": 39
        }
      ]
    },
    {
      "cell_type": "code",
      "source": [
        "plt.figure(figsize = (20, 12))\n",
        "# plt.subplot(1, 2, 1)\n",
        "plt.plot(range(len(y_test)), y_test, label = \"Actual\")\n",
        "plt.plot(range(len(model_val)), model_val, label = \"Predict\")\n",
        "plt.legend()\n",
        "plt.title(\"Real global active power VS Predicted global active power\")\n",
        "plt.xlabel(\"number of values\")\n",
        "plt.ylabel(\"values\")"
      ],
      "metadata": {
        "colab": {
          "base_uri": "https://localhost:8080/",
          "height": 696
        },
        "id": "RtfI88gAu5wu",
        "outputId": "45999216-80e1-43f1-b0e6-df2a24046230"
      },
      "execution_count": null,
      "outputs": [
        {
          "output_type": "execute_result",
          "data": {
            "text/plain": [
              "Text(0, 0.5, 'values')"
            ]
          },
          "metadata": {},
          "execution_count": 40
        },
        {
          "output_type": "display_data",
          "data": {
            "text/plain": [
              "<Figure size 2000x1200 with 1 Axes>"
            ],
            "image/png": "[encoded data removed]"
          },
          "metadata": {}
        }
      ]
    },
    {
      "cell_type": "code",
      "source": [
        "gc.collect()\n",
        "torch.cuda.empty_cache()"
      ],
      "metadata": {
        "id": "IoEcE5bhrN0N"
      },
      "execution_count": null,
      "outputs": []
    }
  ]
}