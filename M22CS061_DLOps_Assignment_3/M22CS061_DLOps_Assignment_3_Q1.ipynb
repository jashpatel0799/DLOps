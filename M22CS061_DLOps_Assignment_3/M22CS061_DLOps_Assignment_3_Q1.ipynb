{
  "nbformat": 4,
  "nbformat_minor": 0,
  "metadata": {
    "colab": {
      "provenance": [],
      "toc_visible": true
    },
    "kernelspec": {
      "name": "python3",
      "display_name": "Python 3"
    },
    "language_info": {
      "name": "python"
    },
    "gpuClass": "standard",
    "accelerator": "GPU",
    "widgets": {
      "application/vnd.jupyter.widget-state+json": {
        "af1343ed369d465caba8d8716a56251c": {
          "model_module": "@jupyter-widgets/controls",
          "model_name": "HBoxModel",
          "model_module_version": "1.5.0",
          "state": {
            "_dom_classes": [],
            "_model_module": "@jupyter-widgets/controls",
            "_model_module_version": "1.5.0",
            "_model_name": "HBoxModel",
            "_view_count": null,
            "_view_module": "@jupyter-widgets/controls",
            "_view_module_version": "1.5.0",
            "_view_name": "HBoxView",
            "box_style": "",
            "children": [
              "IPY_MODEL_274c98fe9bf5488080be88902a9bcb30",
              "IPY_MODEL_9566de66ba084ada8ae20b400aac407d",
              "IPY_MODEL_608e8a93649243b8a8e12012b565d9c6"
            ],
            "layout": "IPY_MODEL_f4cf30d0ecbd46ddbea9918ca50834f2"
          }
        },
        "274c98fe9bf5488080be88902a9bcb30": {
          "model_module": "@jupyter-widgets/controls",
          "model_name": "HTMLModel",
          "model_module_version": "1.5.0",
          "state": {
            "_dom_classes": [],
            "_model_module": "@jupyter-widgets/controls",
            "_model_module_version": "1.5.0",
            "_model_name": "HTMLModel",
            "_view_count": null,
            "_view_module": "@jupyter-widgets/controls",
            "_view_module_version": "1.5.0",
            "_view_name": "HTMLView",
            "description": "",
            "description_tooltip": null,
            "layout": "IPY_MODEL_cd0b32841eda4c45aba423405bdf1b15",
            "placeholder": "​",
            "style": "IPY_MODEL_515b9113883344e7896d0e89f31e8e76",
            "value": "100%"
          }
        },
        "9566de66ba084ada8ae20b400aac407d": {
          "model_module": "@jupyter-widgets/controls",
          "model_name": "FloatProgressModel",
          "model_module_version": "1.5.0",
          "state": {
            "_dom_classes": [],
            "_model_module": "@jupyter-widgets/controls",
            "_model_module_version": "1.5.0",
            "_model_name": "FloatProgressModel",
            "_view_count": null,
            "_view_module": "@jupyter-widgets/controls",
            "_view_module_version": "1.5.0",
            "_view_name": "ProgressView",
            "bar_style": "success",
            "description": "",
            "description_tooltip": null,
            "layout": "IPY_MODEL_f8281d91c9134ab4b7413f2b149b4377",
            "max": 11,
            "min": 0,
            "orientation": "horizontal",
            "style": "IPY_MODEL_e4a1a95c1b024e1580f87a13ced08253",
            "value": 11
          }
        },
        "608e8a93649243b8a8e12012b565d9c6": {
          "model_module": "@jupyter-widgets/controls",
          "model_name": "HTMLModel",
          "model_module_version": "1.5.0",
          "state": {
            "_dom_classes": [],
            "_model_module": "@jupyter-widgets/controls",
            "_model_module_version": "1.5.0",
            "_model_name": "HTMLModel",
            "_view_count": null,
            "_view_module": "@jupyter-widgets/controls",
            "_view_module_version": "1.5.0",
            "_view_name": "HTMLView",
            "description": "",
            "description_tooltip": null,
            "layout": "IPY_MODEL_1c4b6fe4a2a749afa7287a6a4ed7b6ed",
            "placeholder": "​",
            "style": "IPY_MODEL_2b633053c0d5488783eaf5d3918f2eef",
            "value": " 11/11 [10:37&lt;00:00, 55.84s/it]"
          }
        },
        "f4cf30d0ecbd46ddbea9918ca50834f2": {
          "model_module": "@jupyter-widgets/base",
          "model_name": "LayoutModel",
          "model_module_version": "1.2.0",
          "state": {
            "_model_module": "@jupyter-widgets/base",
            "_model_module_version": "1.2.0",
            "_model_name": "LayoutModel",
            "_view_count": null,
            "_view_module": "@jupyter-widgets/base",
            "_view_module_version": "1.2.0",
            "_view_name": "LayoutView",
            "align_content": null,
            "align_items": null,
            "align_self": null,
            "border": null,
            "bottom": null,
            "display": null,
            "flex": null,
            "flex_flow": null,
            "grid_area": null,
            "grid_auto_columns": null,
            "grid_auto_flow": null,
            "grid_auto_rows": null,
            "grid_column": null,
            "grid_gap": null,
            "grid_row": null,
            "grid_template_areas": null,
            "grid_template_columns": null,
            "grid_template_rows": null,
            "height": null,
            "justify_content": null,
            "justify_items": null,
            "left": null,
            "margin": null,
            "max_height": null,
            "max_width": null,
            "min_height": null,
            "min_width": null,
            "object_fit": null,
            "object_position": null,
            "order": null,
            "overflow": null,
            "overflow_x": null,
            "overflow_y": null,
            "padding": null,
            "right": null,
            "top": null,
            "visibility": null,
            "width": null
          }
        },
        "cd0b32841eda4c45aba423405bdf1b15": {
          "model_module": "@jupyter-widgets/base",
          "model_name": "LayoutModel",
          "model_module_version": "1.2.0",
          "state": {
            "_model_module": "@jupyter-widgets/base",
            "_model_module_version": "1.2.0",
            "_model_name": "LayoutModel",
            "_view_count": null,
            "_view_module": "@jupyter-widgets/base",
            "_view_module_version": "1.2.0",
            "_view_name": "LayoutView",
            "align_content": null,
            "align_items": null,
            "align_self": null,
            "border": null,
            "bottom": null,
            "display": null,
            "flex": null,
            "flex_flow": null,
            "grid_area": null,
            "grid_auto_columns": null,
            "grid_auto_flow": null,
            "grid_auto_rows": null,
            "grid_column": null,
            "grid_gap": null,
            "grid_row": null,
            "grid_template_areas": null,
            "grid_template_columns": null,
            "grid_template_rows": null,
            "height": null,
            "justify_content": null,
            "justify_items": null,
            "left": null,
            "margin": null,
            "max_height": null,
            "max_width": null,
            "min_height": null,
            "min_width": null,
            "object_fit": null,
            "object_position": null,
            "order": null,
            "overflow": null,
            "overflow_x": null,
            "overflow_y": null,
            "padding": null,
            "right": null,
            "top": null,
            "visibility": null,
            "width": null
          }
        },
        "515b9113883344e7896d0e89f31e8e76": {
          "model_module": "@jupyter-widgets/controls",
          "model_name": "DescriptionStyleModel",
          "model_module_version": "1.5.0",
          "state": {
            "_model_module": "@jupyter-widgets/controls",
            "_model_module_version": "1.5.0",
            "_model_name": "DescriptionStyleModel",
            "_view_count": null,
            "_view_module": "@jupyter-widgets/base",
            "_view_module_version": "1.2.0",
            "_view_name": "StyleView",
            "description_width": ""
          }
        },
        "f8281d91c9134ab4b7413f2b149b4377": {
          "model_module": "@jupyter-widgets/base",
          "model_name": "LayoutModel",
          "model_module_version": "1.2.0",
          "state": {
            "_model_module": "@jupyter-widgets/base",
            "_model_module_version": "1.2.0",
            "_model_name": "LayoutModel",
            "_view_count": null,
            "_view_module": "@jupyter-widgets/base",
            "_view_module_version": "1.2.0",
            "_view_name": "LayoutView",
            "align_content": null,
            "align_items": null,
            "align_self": null,
            "border": null,
            "bottom": null,
            "display": null,
            "flex": null,
            "flex_flow": null,
            "grid_area": null,
            "grid_auto_columns": null,
            "grid_auto_flow": null,
            "grid_auto_rows": null,
            "grid_column": null,
            "grid_gap": null,
            "grid_row": null,
            "grid_template_areas": null,
            "grid_template_columns": null,
            "grid_template_rows": null,
            "height": null,
            "justify_content": null,
            "justify_items": null,
            "left": null,
            "margin": null,
            "max_height": null,
            "max_width": null,
            "min_height": null,
            "min_width": null,
            "object_fit": null,
            "object_position": null,
            "order": null,
            "overflow": null,
            "overflow_x": null,
            "overflow_y": null,
            "padding": null,
            "right": null,
            "top": null,
            "visibility": null,
            "width": null
          }
        },
        "e4a1a95c1b024e1580f87a13ced08253": {
          "model_module": "@jupyter-widgets/controls",
          "model_name": "ProgressStyleModel",
          "model_module_version": "1.5.0",
          "state": {
            "_model_module": "@jupyter-widgets/controls",
            "_model_module_version": "1.5.0",
            "_model_name": "ProgressStyleModel",
            "_view_count": null,
            "_view_module": "@jupyter-widgets/base",
            "_view_module_version": "1.2.0",
            "_view_name": "StyleView",
            "bar_color": null,
            "description_width": ""
          }
        },
        "1c4b6fe4a2a749afa7287a6a4ed7b6ed": {
          "model_module": "@jupyter-widgets/base",
          "model_name": "LayoutModel",
          "model_module_version": "1.2.0",
          "state": {
            "_model_module": "@jupyter-widgets/base",
            "_model_module_version": "1.2.0",
            "_model_name": "LayoutModel",
            "_view_count": null,
            "_view_module": "@jupyter-widgets/base",
            "_view_module_version": "1.2.0",
            "_view_name": "LayoutView",
            "align_content": null,
            "align_items": null,
            "align_self": null,
            "border": null,
            "bottom": null,
            "display": null,
            "flex": null,
            "flex_flow": null,
            "grid_area": null,
            "grid_auto_columns": null,
            "grid_auto_flow": null,
            "grid_auto_rows": null,
            "grid_column": null,
            "grid_gap": null,
            "grid_row": null,
            "grid_template_areas": null,
            "grid_template_columns": null,
            "grid_template_rows": null,
            "height": null,
            "justify_content": null,
            "justify_items": null,
            "left": null,
            "margin": null,
            "max_height": null,
            "max_width": null,
            "min_height": null,
            "min_width": null,
            "object_fit": null,
            "object_position": null,
            "order": null,
            "overflow": null,
            "overflow_x": null,
            "overflow_y": null,
            "padding": null,
            "right": null,
            "top": null,
            "visibility": null,
            "width": null
          }
        },
        "2b633053c0d5488783eaf5d3918f2eef": {
          "model_module": "@jupyter-widgets/controls",
          "model_name": "DescriptionStyleModel",
          "model_module_version": "1.5.0",
          "state": {
            "_model_module": "@jupyter-widgets/controls",
            "_model_module_version": "1.5.0",
            "_model_name": "DescriptionStyleModel",
            "_view_count": null,
            "_view_module": "@jupyter-widgets/base",
            "_view_module_version": "1.2.0",
            "_view_name": "StyleView",
            "description_width": ""
          }
        },
        "96f398d3854e4ab09204f73d3cc4a357": {
          "model_module": "@jupyter-widgets/controls",
          "model_name": "HBoxModel",
          "model_module_version": "1.5.0",
          "state": {
            "_dom_classes": [],
            "_model_module": "@jupyter-widgets/controls",
            "_model_module_version": "1.5.0",
            "_model_name": "HBoxModel",
            "_view_count": null,
            "_view_module": "@jupyter-widgets/controls",
            "_view_module_version": "1.5.0",
            "_view_name": "HBoxView",
            "box_style": "",
            "children": [
              "IPY_MODEL_579159f9aafb4100950212368574247a",
              "IPY_MODEL_8f81e95397624875a5c9df188f2461c5",
              "IPY_MODEL_979e1e01d7de4e42a9d8521f716028a4"
            ],
            "layout": "IPY_MODEL_b9e6582918c249d18a73289e6bbf6dc9"
          }
        },
        "579159f9aafb4100950212368574247a": {
          "model_module": "@jupyter-widgets/controls",
          "model_name": "HTMLModel",
          "model_module_version": "1.5.0",
          "state": {
            "_dom_classes": [],
            "_model_module": "@jupyter-widgets/controls",
            "_model_module_version": "1.5.0",
            "_model_name": "HTMLModel",
            "_view_count": null,
            "_view_module": "@jupyter-widgets/controls",
            "_view_module_version": "1.5.0",
            "_view_name": "HTMLView",
            "description": "",
            "description_tooltip": null,
            "layout": "IPY_MODEL_215ed0da3acf47289c0e00d01acdb08f",
            "placeholder": "​",
            "style": "IPY_MODEL_3710637876b44825b8a621b155f35048",
            "value": "100%"
          }
        },
        "8f81e95397624875a5c9df188f2461c5": {
          "model_module": "@jupyter-widgets/controls",
          "model_name": "FloatProgressModel",
          "model_module_version": "1.5.0",
          "state": {
            "_dom_classes": [],
            "_model_module": "@jupyter-widgets/controls",
            "_model_module_version": "1.5.0",
            "_model_name": "FloatProgressModel",
            "_view_count": null,
            "_view_module": "@jupyter-widgets/controls",
            "_view_module_version": "1.5.0",
            "_view_name": "ProgressView",
            "bar_style": "success",
            "description": "",
            "description_tooltip": null,
            "layout": "IPY_MODEL_4b26930fc6954d5aa92562435f090f72",
            "max": 11,
            "min": 0,
            "orientation": "horizontal",
            "style": "IPY_MODEL_306c6943933b4cb9b0f245e171243aed",
            "value": 11
          }
        },
        "979e1e01d7de4e42a9d8521f716028a4": {
          "model_module": "@jupyter-widgets/controls",
          "model_name": "HTMLModel",
          "model_module_version": "1.5.0",
          "state": {
            "_dom_classes": [],
            "_model_module": "@jupyter-widgets/controls",
            "_model_module_version": "1.5.0",
            "_model_name": "HTMLModel",
            "_view_count": null,
            "_view_module": "@jupyter-widgets/controls",
            "_view_module_version": "1.5.0",
            "_view_name": "HTMLView",
            "description": "",
            "description_tooltip": null,
            "layout": "IPY_MODEL_85cc99b4f3b0450ba2119b71585b7492",
            "placeholder": "​",
            "style": "IPY_MODEL_300c1040ec8e48c9a21615b57f9a5512",
            "value": " 11/11 [09:47&lt;00:00, 53.21s/it]"
          }
        },
        "b9e6582918c249d18a73289e6bbf6dc9": {
          "model_module": "@jupyter-widgets/base",
          "model_name": "LayoutModel",
          "model_module_version": "1.2.0",
          "state": {
            "_model_module": "@jupyter-widgets/base",
            "_model_module_version": "1.2.0",
            "_model_name": "LayoutModel",
            "_view_count": null,
            "_view_module": "@jupyter-widgets/base",
            "_view_module_version": "1.2.0",
            "_view_name": "LayoutView",
            "align_content": null,
            "align_items": null,
            "align_self": null,
            "border": null,
            "bottom": null,
            "display": null,
            "flex": null,
            "flex_flow": null,
            "grid_area": null,
            "grid_auto_columns": null,
            "grid_auto_flow": null,
            "grid_auto_rows": null,
            "grid_column": null,
            "grid_gap": null,
            "grid_row": null,
            "grid_template_areas": null,
            "grid_template_columns": null,
            "grid_template_rows": null,
            "height": null,
            "justify_content": null,
            "justify_items": null,
            "left": null,
            "margin": null,
            "max_height": null,
            "max_width": null,
            "min_height": null,
            "min_width": null,
            "object_fit": null,
            "object_position": null,
            "order": null,
            "overflow": null,
            "overflow_x": null,
            "overflow_y": null,
            "padding": null,
            "right": null,
            "top": null,
            "visibility": null,
            "width": null
          }
        },
        "215ed0da3acf47289c0e00d01acdb08f": {
          "model_module": "@jupyter-widgets/base",
          "model_name": "LayoutModel",
          "model_module_version": "1.2.0",
          "state": {
            "_model_module": "@jupyter-widgets/base",
            "_model_module_version": "1.2.0",
            "_model_name": "LayoutModel",
            "_view_count": null,
            "_view_module": "@jupyter-widgets/base",
            "_view_module_version": "1.2.0",
            "_view_name": "LayoutView",
            "align_content": null,
            "align_items": null,
            "align_self": null,
            "border": null,
            "bottom": null,
            "display": null,
            "flex": null,
            "flex_flow": null,
            "grid_area": null,
            "grid_auto_columns": null,
            "grid_auto_flow": null,
            "grid_auto_rows": null,
            "grid_column": null,
            "grid_gap": null,
            "grid_row": null,
            "grid_template_areas": null,
            "grid_template_columns": null,
            "grid_template_rows": null,
            "height": null,
            "justify_content": null,
            "justify_items": null,
            "left": null,
            "margin": null,
            "max_height": null,
            "max_width": null,
            "min_height": null,
            "min_width": null,
            "object_fit": null,
            "object_position": null,
            "order": null,
            "overflow": null,
            "overflow_x": null,
            "overflow_y": null,
            "padding": null,
            "right": null,
            "top": null,
            "visibility": null,
            "width": null
          }
        },
        "3710637876b44825b8a621b155f35048": {
          "model_module": "@jupyter-widgets/controls",
          "model_name": "DescriptionStyleModel",
          "model_module_version": "1.5.0",
          "state": {
            "_model_module": "@jupyter-widgets/controls",
            "_model_module_version": "1.5.0",
            "_model_name": "DescriptionStyleModel",
            "_view_count": null,
            "_view_module": "@jupyter-widgets/base",
            "_view_module_version": "1.2.0",
            "_view_name": "StyleView",
            "description_width": ""
          }
        },
        "4b26930fc6954d5aa92562435f090f72": {
          "model_module": "@jupyter-widgets/base",
          "model_name": "LayoutModel",
          "model_module_version": "1.2.0",
          "state": {
            "_model_module": "@jupyter-widgets/base",
            "_model_module_version": "1.2.0",
            "_model_name": "LayoutModel",
            "_view_count": null,
            "_view_module": "@jupyter-widgets/base",
            "_view_module_version": "1.2.0",
            "_view_name": "LayoutView",
            "align_content": null,
            "align_items": null,
            "align_self": null,
            "border": null,
            "bottom": null,
            "display": null,
            "flex": null,
            "flex_flow": null,
            "grid_area": null,
            "grid_auto_columns": null,
            "grid_auto_flow": null,
            "grid_auto_rows": null,
            "grid_column": null,
            "grid_gap": null,
            "grid_row": null,
            "grid_template_areas": null,
            "grid_template_columns": null,
            "grid_template_rows": null,
            "height": null,
            "justify_content": null,
            "justify_items": null,
            "left": null,
            "margin": null,
            "max_height": null,
            "max_width": null,
            "min_height": null,
            "min_width": null,
            "object_fit": null,
            "object_position": null,
            "order": null,
            "overflow": null,
            "overflow_x": null,
            "overflow_y": null,
            "padding": null,
            "right": null,
            "top": null,
            "visibility": null,
            "width": null
          }
        },
        "306c6943933b4cb9b0f245e171243aed": {
          "model_module": "@jupyter-widgets/controls",
          "model_name": "ProgressStyleModel",
          "model_module_version": "1.5.0",
          "state": {
            "_model_module": "@jupyter-widgets/controls",
            "_model_module_version": "1.5.0",
            "_model_name": "ProgressStyleModel",
            "_view_count": null,
            "_view_module": "@jupyter-widgets/base",
            "_view_module_version": "1.2.0",
            "_view_name": "StyleView",
            "bar_color": null,
            "description_width": ""
          }
        },
        "85cc99b4f3b0450ba2119b71585b7492": {
          "model_module": "@jupyter-widgets/base",
          "model_name": "LayoutModel",
          "model_module_version": "1.2.0",
          "state": {
            "_model_module": "@jupyter-widgets/base",
            "_model_module_version": "1.2.0",
            "_model_name": "LayoutModel",
            "_view_count": null,
            "_view_module": "@jupyter-widgets/base",
            "_view_module_version": "1.2.0",
            "_view_name": "LayoutView",
            "align_content": null,
            "align_items": null,
            "align_self": null,
            "border": null,
            "bottom": null,
            "display": null,
            "flex": null,
            "flex_flow": null,
            "grid_area": null,
            "grid_auto_columns": null,
            "grid_auto_flow": null,
            "grid_auto_rows": null,
            "grid_column": null,
            "grid_gap": null,
            "grid_row": null,
            "grid_template_areas": null,
            "grid_template_columns": null,
            "grid_template_rows": null,
            "height": null,
            "justify_content": null,
            "justify_items": null,
            "left": null,
            "margin": null,
            "max_height": null,
            "max_width": null,
            "min_height": null,
            "min_width": null,
            "object_fit": null,
            "object_position": null,
            "order": null,
            "overflow": null,
            "overflow_x": null,
            "overflow_y": null,
            "padding": null,
            "right": null,
            "top": null,
            "visibility": null,
            "width": null
          }
        },
        "300c1040ec8e48c9a21615b57f9a5512": {
          "model_module": "@jupyter-widgets/controls",
          "model_name": "DescriptionStyleModel",
          "model_module_version": "1.5.0",
          "state": {
            "_model_module": "@jupyter-widgets/controls",
            "_model_module_version": "1.5.0",
            "_model_name": "DescriptionStyleModel",
            "_view_count": null,
            "_view_module": "@jupyter-widgets/base",
            "_view_module_version": "1.2.0",
            "_view_name": "StyleView",
            "description_width": ""
          }
        },
        "b65058b6c4c448e7b646bc8ae3c42057": {
          "model_module": "@jupyter-widgets/controls",
          "model_name": "HBoxModel",
          "model_module_version": "1.5.0",
          "state": {
            "_dom_classes": [],
            "_model_module": "@jupyter-widgets/controls",
            "_model_module_version": "1.5.0",
            "_model_name": "HBoxModel",
            "_view_count": null,
            "_view_module": "@jupyter-widgets/controls",
            "_view_module_version": "1.5.0",
            "_view_name": "HBoxView",
            "box_style": "",
            "children": [
              "IPY_MODEL_ac18b4e8841f40b883dbcbc2405f5b38",
              "IPY_MODEL_439c6d0b437841208fd53a3bf242a5e9",
              "IPY_MODEL_85687ddd8e474f2fbe9834ee3a7c8e0a"
            ],
            "layout": "IPY_MODEL_7ac8f89c698f4a9cbbd186603f87f883"
          }
        },
        "ac18b4e8841f40b883dbcbc2405f5b38": {
          "model_module": "@jupyter-widgets/controls",
          "model_name": "HTMLModel",
          "model_module_version": "1.5.0",
          "state": {
            "_dom_classes": [],
            "_model_module": "@jupyter-widgets/controls",
            "_model_module_version": "1.5.0",
            "_model_name": "HTMLModel",
            "_view_count": null,
            "_view_module": "@jupyter-widgets/controls",
            "_view_module_version": "1.5.0",
            "_view_name": "HTMLView",
            "description": "",
            "description_tooltip": null,
            "layout": "IPY_MODEL_5aa0abedbb8640fb87841b31530f96c1",
            "placeholder": "​",
            "style": "IPY_MODEL_2cc28c4aed884a8e93db048ac6ef9f80",
            "value": "100%"
          }
        },
        "439c6d0b437841208fd53a3bf242a5e9": {
          "model_module": "@jupyter-widgets/controls",
          "model_name": "FloatProgressModel",
          "model_module_version": "1.5.0",
          "state": {
            "_dom_classes": [],
            "_model_module": "@jupyter-widgets/controls",
            "_model_module_version": "1.5.0",
            "_model_name": "FloatProgressModel",
            "_view_count": null,
            "_view_module": "@jupyter-widgets/controls",
            "_view_module_version": "1.5.0",
            "_view_name": "ProgressView",
            "bar_style": "success",
            "description": "",
            "description_tooltip": null,
            "layout": "IPY_MODEL_92c594536f1345068cba810b3befb3b1",
            "max": 11,
            "min": 0,
            "orientation": "horizontal",
            "style": "IPY_MODEL_65e25e0ce8114619b3c1e51ef8606b4c",
            "value": 11
          }
        },
        "85687ddd8e474f2fbe9834ee3a7c8e0a": {
          "model_module": "@jupyter-widgets/controls",
          "model_name": "HTMLModel",
          "model_module_version": "1.5.0",
          "state": {
            "_dom_classes": [],
            "_model_module": "@jupyter-widgets/controls",
            "_model_module_version": "1.5.0",
            "_model_name": "HTMLModel",
            "_view_count": null,
            "_view_module": "@jupyter-widgets/controls",
            "_view_module_version": "1.5.0",
            "_view_name": "HTMLView",
            "description": "",
            "description_tooltip": null,
            "layout": "IPY_MODEL_3a51e83126fd4ccebb0f04f268df88c8",
            "placeholder": "​",
            "style": "IPY_MODEL_7f63d69f915c4d5c82268fdd82a79943",
            "value": " 11/11 [09:42&lt;00:00, 52.91s/it]"
          }
        },
        "7ac8f89c698f4a9cbbd186603f87f883": {
          "model_module": "@jupyter-widgets/base",
          "model_name": "LayoutModel",
          "model_module_version": "1.2.0",
          "state": {
            "_model_module": "@jupyter-widgets/base",
            "_model_module_version": "1.2.0",
            "_model_name": "LayoutModel",
            "_view_count": null,
            "_view_module": "@jupyter-widgets/base",
            "_view_module_version": "1.2.0",
            "_view_name": "LayoutView",
            "align_content": null,
            "align_items": null,
            "align_self": null,
            "border": null,
            "bottom": null,
            "display": null,
            "flex": null,
            "flex_flow": null,
            "grid_area": null,
            "grid_auto_columns": null,
            "grid_auto_flow": null,
            "grid_auto_rows": null,
            "grid_column": null,
            "grid_gap": null,
            "grid_row": null,
            "grid_template_areas": null,
            "grid_template_columns": null,
            "grid_template_rows": null,
            "height": null,
            "justify_content": null,
            "justify_items": null,
            "left": null,
            "margin": null,
            "max_height": null,
            "max_width": null,
            "min_height": null,
            "min_width": null,
            "object_fit": null,
            "object_position": null,
            "order": null,
            "overflow": null,
            "overflow_x": null,
            "overflow_y": null,
            "padding": null,
            "right": null,
            "top": null,
            "visibility": null,
            "width": null
          }
        },
        "5aa0abedbb8640fb87841b31530f96c1": {
          "model_module": "@jupyter-widgets/base",
          "model_name": "LayoutModel",
          "model_module_version": "1.2.0",
          "state": {
            "_model_module": "@jupyter-widgets/base",
            "_model_module_version": "1.2.0",
            "_model_name": "LayoutModel",
            "_view_count": null,
            "_view_module": "@jupyter-widgets/base",
            "_view_module_version": "1.2.0",
            "_view_name": "LayoutView",
            "align_content": null,
            "align_items": null,
            "align_self": null,
            "border": null,
            "bottom": null,
            "display": null,
            "flex": null,
            "flex_flow": null,
            "grid_area": null,
            "grid_auto_columns": null,
            "grid_auto_flow": null,
            "grid_auto_rows": null,
            "grid_column": null,
            "grid_gap": null,
            "grid_row": null,
            "grid_template_areas": null,
            "grid_template_columns": null,
            "grid_template_rows": null,
            "height": null,
            "justify_content": null,
            "justify_items": null,
            "left": null,
            "margin": null,
            "max_height": null,
            "max_width": null,
            "min_height": null,
            "min_width": null,
            "object_fit": null,
            "object_position": null,
            "order": null,
            "overflow": null,
            "overflow_x": null,
            "overflow_y": null,
            "padding": null,
            "right": null,
            "top": null,
            "visibility": null,
            "width": null
          }
        },
        "2cc28c4aed884a8e93db048ac6ef9f80": {
          "model_module": "@jupyter-widgets/controls",
          "model_name": "DescriptionStyleModel",
          "model_module_version": "1.5.0",
          "state": {
            "_model_module": "@jupyter-widgets/controls",
            "_model_module_version": "1.5.0",
            "_model_name": "DescriptionStyleModel",
            "_view_count": null,
            "_view_module": "@jupyter-widgets/base",
            "_view_module_version": "1.2.0",
            "_view_name": "StyleView",
            "description_width": ""
          }
        },
        "92c594536f1345068cba810b3befb3b1": {
          "model_module": "@jupyter-widgets/base",
          "model_name": "LayoutModel",
          "model_module_version": "1.2.0",
          "state": {
            "_model_module": "@jupyter-widgets/base",
            "_model_module_version": "1.2.0",
            "_model_name": "LayoutModel",
            "_view_count": null,
            "_view_module": "@jupyter-widgets/base",
            "_view_module_version": "1.2.0",
            "_view_name": "LayoutView",
            "align_content": null,
            "align_items": null,
            "align_self": null,
            "border": null,
            "bottom": null,
            "display": null,
            "flex": null,
            "flex_flow": null,
            "grid_area": null,
            "grid_auto_columns": null,
            "grid_auto_flow": null,
            "grid_auto_rows": null,
            "grid_column": null,
            "grid_gap": null,
            "grid_row": null,
            "grid_template_areas": null,
            "grid_template_columns": null,
            "grid_template_rows": null,
            "height": null,
            "justify_content": null,
            "justify_items": null,
            "left": null,
            "margin": null,
            "max_height": null,
            "max_width": null,
            "min_height": null,
            "min_width": null,
            "object_fit": null,
            "object_position": null,
            "order": null,
            "overflow": null,
            "overflow_x": null,
            "overflow_y": null,
            "padding": null,
            "right": null,
            "top": null,
            "visibility": null,
            "width": null
          }
        },
        "65e25e0ce8114619b3c1e51ef8606b4c": {
          "model_module": "@jupyter-widgets/controls",
          "model_name": "ProgressStyleModel",
          "model_module_version": "1.5.0",
          "state": {
            "_model_module": "@jupyter-widgets/controls",
            "_model_module_version": "1.5.0",
            "_model_name": "ProgressStyleModel",
            "_view_count": null,
            "_view_module": "@jupyter-widgets/base",
            "_view_module_version": "1.2.0",
            "_view_name": "StyleView",
            "bar_color": null,
            "description_width": ""
          }
        },
        "3a51e83126fd4ccebb0f04f268df88c8": {
          "model_module": "@jupyter-widgets/base",
          "model_name": "LayoutModel",
          "model_module_version": "1.2.0",
          "state": {
            "_model_module": "@jupyter-widgets/base",
            "_model_module_version": "1.2.0",
            "_model_name": "LayoutModel",
            "_view_count": null,
            "_view_module": "@jupyter-widgets/base",
            "_view_module_version": "1.2.0",
            "_view_name": "LayoutView",
            "align_content": null,
            "align_items": null,
            "align_self": null,
            "border": null,
            "bottom": null,
            "display": null,
            "flex": null,
            "flex_flow": null,
            "grid_area": null,
            "grid_auto_columns": null,
            "grid_auto_flow": null,
            "grid_auto_rows": null,
            "grid_column": null,
            "grid_gap": null,
            "grid_row": null,
            "grid_template_areas": null,
            "grid_template_columns": null,
            "grid_template_rows": null,
            "height": null,
            "justify_content": null,
            "justify_items": null,
            "left": null,
            "margin": null,
            "max_height": null,
            "max_width": null,
            "min_height": null,
            "min_width": null,
            "object_fit": null,
            "object_position": null,
            "order": null,
            "overflow": null,
            "overflow_x": null,
            "overflow_y": null,
            "padding": null,
            "right": null,
            "top": null,
            "visibility": null,
            "width": null
          }
        },
        "7f63d69f915c4d5c82268fdd82a79943": {
          "model_module": "@jupyter-widgets/controls",
          "model_name": "DescriptionStyleModel",
          "model_module_version": "1.5.0",
          "state": {
            "_model_module": "@jupyter-widgets/controls",
            "_model_module_version": "1.5.0",
            "_model_name": "DescriptionStyleModel",
            "_view_count": null,
            "_view_module": "@jupyter-widgets/base",
            "_view_module_version": "1.2.0",
            "_view_name": "StyleView",
            "description_width": ""
          }
        },
        "6327301e865c44d588ff98db4d24fcba": {
          "model_module": "@jupyter-widgets/controls",
          "model_name": "HBoxModel",
          "model_module_version": "1.5.0",
          "state": {
            "_dom_classes": [],
            "_model_module": "@jupyter-widgets/controls",
            "_model_module_version": "1.5.0",
            "_model_name": "HBoxModel",
            "_view_count": null,
            "_view_module": "@jupyter-widgets/controls",
            "_view_module_version": "1.5.0",
            "_view_name": "HBoxView",
            "box_style": "",
            "children": [
              "IPY_MODEL_b315249496c14c1b889fd0669c1e3372",
              "IPY_MODEL_f9986ee85d7e4705b5e3fd600a27e5c5",
              "IPY_MODEL_c999a01600d04f3c8f3106dc66bb5cd6"
            ],
            "layout": "IPY_MODEL_9243384ff2984124b5cb31659b5f7271"
          }
        },
        "b315249496c14c1b889fd0669c1e3372": {
          "model_module": "@jupyter-widgets/controls",
          "model_name": "HTMLModel",
          "model_module_version": "1.5.0",
          "state": {
            "_dom_classes": [],
            "_model_module": "@jupyter-widgets/controls",
            "_model_module_version": "1.5.0",
            "_model_name": "HTMLModel",
            "_view_count": null,
            "_view_module": "@jupyter-widgets/controls",
            "_view_module_version": "1.5.0",
            "_view_name": "HTMLView",
            "description": "",
            "description_tooltip": null,
            "layout": "IPY_MODEL_e8587bbb7e2c4dfabe588b451e0fdde6",
            "placeholder": "​",
            "style": "IPY_MODEL_6c7dca399b674468b500e1c362d48b7b",
            "value": "100%"
          }
        },
        "f9986ee85d7e4705b5e3fd600a27e5c5": {
          "model_module": "@jupyter-widgets/controls",
          "model_name": "FloatProgressModel",
          "model_module_version": "1.5.0",
          "state": {
            "_dom_classes": [],
            "_model_module": "@jupyter-widgets/controls",
            "_model_module_version": "1.5.0",
            "_model_name": "FloatProgressModel",
            "_view_count": null,
            "_view_module": "@jupyter-widgets/controls",
            "_view_module_version": "1.5.0",
            "_view_name": "ProgressView",
            "bar_style": "success",
            "description": "",
            "description_tooltip": null,
            "layout": "IPY_MODEL_08e19f0688e74852b1a5b7d9a2362e9b",
            "max": 11,
            "min": 0,
            "orientation": "horizontal",
            "style": "IPY_MODEL_ec62d581a6de42ac9982ae56efe470ac",
            "value": 11
          }
        },
        "c999a01600d04f3c8f3106dc66bb5cd6": {
          "model_module": "@jupyter-widgets/controls",
          "model_name": "HTMLModel",
          "model_module_version": "1.5.0",
          "state": {
            "_dom_classes": [],
            "_model_module": "@jupyter-widgets/controls",
            "_model_module_version": "1.5.0",
            "_model_name": "HTMLModel",
            "_view_count": null,
            "_view_module": "@jupyter-widgets/controls",
            "_view_module_version": "1.5.0",
            "_view_name": "HTMLView",
            "description": "",
            "description_tooltip": null,
            "layout": "IPY_MODEL_cb03814247614d9e929e88240a6ae246",
            "placeholder": "​",
            "style": "IPY_MODEL_82e37b41254b420084b38136cd76feab",
            "value": " 11/11 [09:41&lt;00:00, 52.82s/it]"
          }
        },
        "9243384ff2984124b5cb31659b5f7271": {
          "model_module": "@jupyter-widgets/base",
          "model_name": "LayoutModel",
          "model_module_version": "1.2.0",
          "state": {
            "_model_module": "@jupyter-widgets/base",
            "_model_module_version": "1.2.0",
            "_model_name": "LayoutModel",
            "_view_count": null,
            "_view_module": "@jupyter-widgets/base",
            "_view_module_version": "1.2.0",
            "_view_name": "LayoutView",
            "align_content": null,
            "align_items": null,
            "align_self": null,
            "border": null,
            "bottom": null,
            "display": null,
            "flex": null,
            "flex_flow": null,
            "grid_area": null,
            "grid_auto_columns": null,
            "grid_auto_flow": null,
            "grid_auto_rows": null,
            "grid_column": null,
            "grid_gap": null,
            "grid_row": null,
            "grid_template_areas": null,
            "grid_template_columns": null,
            "grid_template_rows": null,
            "height": null,
            "justify_content": null,
            "justify_items": null,
            "left": null,
            "margin": null,
            "max_height": null,
            "max_width": null,
            "min_height": null,
            "min_width": null,
            "object_fit": null,
            "object_position": null,
            "order": null,
            "overflow": null,
            "overflow_x": null,
            "overflow_y": null,
            "padding": null,
            "right": null,
            "top": null,
            "visibility": null,
            "width": null
          }
        },
        "e8587bbb7e2c4dfabe588b451e0fdde6": {
          "model_module": "@jupyter-widgets/base",
          "model_name": "LayoutModel",
          "model_module_version": "1.2.0",
          "state": {
            "_model_module": "@jupyter-widgets/base",
            "_model_module_version": "1.2.0",
            "_model_name": "LayoutModel",
            "_view_count": null,
            "_view_module": "@jupyter-widgets/base",
            "_view_module_version": "1.2.0",
            "_view_name": "LayoutView",
            "align_content": null,
            "align_items": null,
            "align_self": null,
            "border": null,
            "bottom": null,
            "display": null,
            "flex": null,
            "flex_flow": null,
            "grid_area": null,
            "grid_auto_columns": null,
            "grid_auto_flow": null,
            "grid_auto_rows": null,
            "grid_column": null,
            "grid_gap": null,
            "grid_row": null,
            "grid_template_areas": null,
            "grid_template_columns": null,
            "grid_template_rows": null,
            "height": null,
            "justify_content": null,
            "justify_items": null,
            "left": null,
            "margin": null,
            "max_height": null,
            "max_width": null,
            "min_height": null,
            "min_width": null,
            "object_fit": null,
            "object_position": null,
            "order": null,
            "overflow": null,
            "overflow_x": null,
            "overflow_y": null,
            "padding": null,
            "right": null,
            "top": null,
            "visibility": null,
            "width": null
          }
        },
        "6c7dca399b674468b500e1c362d48b7b": {
          "model_module": "@jupyter-widgets/controls",
          "model_name": "DescriptionStyleModel",
          "model_module_version": "1.5.0",
          "state": {
            "_model_module": "@jupyter-widgets/controls",
            "_model_module_version": "1.5.0",
            "_model_name": "DescriptionStyleModel",
            "_view_count": null,
            "_view_module": "@jupyter-widgets/base",
            "_view_module_version": "1.2.0",
            "_view_name": "StyleView",
            "description_width": ""
          }
        },
        "08e19f0688e74852b1a5b7d9a2362e9b": {
          "model_module": "@jupyter-widgets/base",
          "model_name": "LayoutModel",
          "model_module_version": "1.2.0",
          "state": {
            "_model_module": "@jupyter-widgets/base",
            "_model_module_version": "1.2.0",
            "_model_name": "LayoutModel",
            "_view_count": null,
            "_view_module": "@jupyter-widgets/base",
            "_view_module_version": "1.2.0",
            "_view_name": "LayoutView",
            "align_content": null,
            "align_items": null,
            "align_self": null,
            "border": null,
            "bottom": null,
            "display": null,
            "flex": null,
            "flex_flow": null,
            "grid_area": null,
            "grid_auto_columns": null,
            "grid_auto_flow": null,
            "grid_auto_rows": null,
            "grid_column": null,
            "grid_gap": null,
            "grid_row": null,
            "grid_template_areas": null,
            "grid_template_columns": null,
            "grid_template_rows": null,
            "height": null,
            "justify_content": null,
            "justify_items": null,
            "left": null,
            "margin": null,
            "max_height": null,
            "max_width": null,
            "min_height": null,
            "min_width": null,
            "object_fit": null,
            "object_position": null,
            "order": null,
            "overflow": null,
            "overflow_x": null,
            "overflow_y": null,
            "padding": null,
            "right": null,
            "top": null,
            "visibility": null,
            "width": null
          }
        },
        "ec62d581a6de42ac9982ae56efe470ac": {
          "model_module": "@jupyter-widgets/controls",
          "model_name": "ProgressStyleModel",
          "model_module_version": "1.5.0",
          "state": {
            "_model_module": "@jupyter-widgets/controls",
            "_model_module_version": "1.5.0",
            "_model_name": "ProgressStyleModel",
            "_view_count": null,
            "_view_module": "@jupyter-widgets/base",
            "_view_module_version": "1.2.0",
            "_view_name": "StyleView",
            "bar_color": null,
            "description_width": ""
          }
        },
        "cb03814247614d9e929e88240a6ae246": {
          "model_module": "@jupyter-widgets/base",
          "model_name": "LayoutModel",
          "model_module_version": "1.2.0",
          "state": {
            "_model_module": "@jupyter-widgets/base",
            "_model_module_version": "1.2.0",
            "_model_name": "LayoutModel",
            "_view_count": null,
            "_view_module": "@jupyter-widgets/base",
            "_view_module_version": "1.2.0",
            "_view_name": "LayoutView",
            "align_content": null,
            "align_items": null,
            "align_self": null,
            "border": null,
            "bottom": null,
            "display": null,
            "flex": null,
            "flex_flow": null,
            "grid_area": null,
            "grid_auto_columns": null,
            "grid_auto_flow": null,
            "grid_auto_rows": null,
            "grid_column": null,
            "grid_gap": null,
            "grid_row": null,
            "grid_template_areas": null,
            "grid_template_columns": null,
            "grid_template_rows": null,
            "height": null,
            "justify_content": null,
            "justify_items": null,
            "left": null,
            "margin": null,
            "max_height": null,
            "max_width": null,
            "min_height": null,
            "min_width": null,
            "object_fit": null,
            "object_position": null,
            "order": null,
            "overflow": null,
            "overflow_x": null,
            "overflow_y": null,
            "padding": null,
            "right": null,
            "top": null,
            "visibility": null,
            "width": null
          }
        },
        "82e37b41254b420084b38136cd76feab": {
          "model_module": "@jupyter-widgets/controls",
          "model_name": "DescriptionStyleModel",
          "model_module_version": "1.5.0",
          "state": {
            "_model_module": "@jupyter-widgets/controls",
            "_model_module_version": "1.5.0",
            "_model_name": "DescriptionStyleModel",
            "_view_count": null,
            "_view_module": "@jupyter-widgets/base",
            "_view_module_version": "1.2.0",
            "_view_name": "StyleView",
            "description_width": ""
          }
        }
      }
    }
  },
  "cells": [
    {
      "cell_type": "markdown",
      "source": [
        "## Import required libraries"
      ],
      "metadata": {
        "id": "fZ-szf2FJtyJ"
      }
    },
    {
      "cell_type": "code",
      "execution_count": 41,
      "metadata": {
        "id": "UKy2llD3IJxt"
      },
      "outputs": [],
      "source": [
        "import torch\n",
        "from torch import nn\n",
        "import torchvision\n",
        "from torch.utils.data import DataLoader, Dataset\n",
        "from torchvision import transforms\n",
        "from torchvision.datasets import CIFAR10\n",
        "\n",
        "\n",
        "import numpy as np\n",
        "import pandas as pd\n",
        "import matplotlib.pyplot as plt\n",
        "from tqdm.auto import tqdm\n",
        "from timeit import default_timer as timer"
      ]
    },
    {
      "cell_type": "code",
      "source": [
        "!pip install -q torchmetrics\n",
        "from torchmetrics.classification import MulticlassAccuracy"
      ],
      "metadata": {
        "colab": {
          "base_uri": "https://localhost:8080/"
        },
        "id": "gySZJXXIOPIl",
        "outputId": "91c1b3e5-c5c4-4d35-851c-ff4751d7786b"
      },
      "execution_count": 2,
      "outputs": [
        {
          "output_type": "stream",
          "name": "stdout",
          "text": [
            "\u001b[?25l     \u001b[90m━━━━━━━━━━━━━━━━━━━━━━━━━━━━━━━━━━━━━━━━\u001b[0m \u001b[32m0.0/519.2 kB\u001b[0m \u001b[31m?\u001b[0m eta \u001b[36m-:--:--\u001b[0m\r\u001b[2K     \u001b[90m━━━━━━━━━━━━━━━━━━━━━━━━━━━━━━━━━━━━━━\u001b[0m \u001b[32m519.2/519.2 kB\u001b[0m \u001b[31m20.2 MB/s\u001b[0m eta \u001b[36m0:00:00\u001b[0m\n",
            "\u001b[?25h"
          ]
        }
      ]
    },
    {
      "cell_type": "markdown",
      "source": [
        "## Device agnostic code"
      ],
      "metadata": {
        "id": "p2NFo4_PJs2-"
      }
    },
    {
      "cell_type": "code",
      "source": [
        "device = 'cuda' if torch.cuda.is_available() else 'cpu'\n",
        "device"
      ],
      "metadata": {
        "colab": {
          "base_uri": "https://localhost:8080/",
          "height": 35
        },
        "id": "R0c3x5B6J1QD",
        "outputId": "0cf0cc19-9eb3-4e56-d8ac-e0848b30c292"
      },
      "execution_count": 3,
      "outputs": [
        {
          "output_type": "execute_result",
          "data": {
            "text/plain": [
              "'cuda'"
            ],
            "application/vnd.google.colaboratory.intrinsic+json": {
              "type": "string"
            }
          },
          "metadata": {},
          "execution_count": 3
        }
      ]
    },
    {
      "cell_type": "markdown",
      "source": [
        "## Load dataset"
      ],
      "metadata": {
        "id": "zniE1lScKSZH"
      }
    },
    {
      "cell_type": "code",
      "source": [
        "transform = transforms.Compose([\n",
        "                                  transforms.Resize((32, 32)),\n",
        "                                  transforms.ToTensor()\n",
        "                              ])\n",
        "\n",
        "train_transform_trivial_augment = transforms.Compose([\n",
        "    # transforms.Grayscale(),\n",
        "    transforms.RandomRotation(10),\n",
        "    transforms.GaussianBlur(kernel_size = 3, sigma = 0.01),\n",
        "    transforms.ToTensor()\n",
        "])"
      ],
      "metadata": {
        "id": "QDCzXuIYLEhk"
      },
      "execution_count": 11,
      "outputs": []
    },
    {
      "cell_type": "code",
      "source": [
        "train_data = CIFAR10(root = '/data', train = True, transform = transform, download = True)\n",
        "train_data_aug = CIFAR10(root = 'data', train = True, transform = train_transform_trivial_augment, download = True)\n",
        "test_data = CIFAR10(root = '/data', train = False, transform = transform, download = True)"
      ],
      "metadata": {
        "colab": {
          "base_uri": "https://localhost:8080/"
        },
        "id": "yDXrOVvkKoSB",
        "outputId": "f40990c3-cbdd-4b61-f1da-44d30a6f3c87"
      },
      "execution_count": 12,
      "outputs": [
        {
          "output_type": "stream",
          "name": "stdout",
          "text": [
            "Files already downloaded and verified\n",
            "Files already downloaded and verified\n",
            "Files already downloaded and verified\n"
          ]
        }
      ]
    },
    {
      "cell_type": "code",
      "source": [
        "len(train_data), len(test_data)"
      ],
      "metadata": {
        "colab": {
          "base_uri": "https://localhost:8080/"
        },
        "id": "2ZHKyTmcMQSY",
        "outputId": "8f75e2f7-b296-452e-90a2-e8a8ea939ed0"
      },
      "execution_count": 13,
      "outputs": [
        {
          "output_type": "execute_result",
          "data": {
            "text/plain": [
              "(50000, 10000)"
            ]
          },
          "metadata": {},
          "execution_count": 13
        }
      ]
    },
    {
      "cell_type": "markdown",
      "source": [
        "## get only even class"
      ],
      "metadata": {
        "id": "z-x2QgDCu-Ct"
      }
    },
    {
      "cell_type": "code",
      "source": [
        "train_list = []\n",
        "train_aug_list = []\n",
        "test_list = []\n",
        "\n",
        "\n",
        "for i, (x,y) in enumerate(train_data):\n",
        "  if y % 2 == 0:\n",
        "    train_list.append(train_data[i])\n",
        "  # print(train_data[i])\n",
        "  # break\n",
        "for i, (x,y) in enumerate(train_data_aug):\n",
        "  if y % 2 == 0:\n",
        "    train_aug_list.append(train_data_aug[i])\n",
        "\n",
        "for x,y in test_data:\n",
        "  if y % 2 == 0:\n",
        "    test_list.append((x, y))\n",
        "\n",
        "len(train_list), len(train_aug_list), len(test_list)"
      ],
      "metadata": {
        "colab": {
          "base_uri": "https://localhost:8080/"
        },
        "id": "iehxtW1ou9_2",
        "outputId": "27829671-9d65-424a-fd23-28389425b060"
      },
      "execution_count": 14,
      "outputs": [
        {
          "output_type": "execute_result",
          "data": {
            "text/plain": [
              "(25000, 25000, 5000)"
            ]
          },
          "metadata": {},
          "execution_count": 14
        }
      ]
    },
    {
      "cell_type": "code",
      "source": [
        "# concate datasets\n",
        "new_train_data = torch.utils.data.ConcatDataset((train_list, train_aug_list))\n",
        "new_test_data = torch.utils.data.ConcatDataset([test_list])"
      ],
      "metadata": {
        "id": "guM9KMAGu97G"
      },
      "execution_count": 15,
      "outputs": []
    },
    {
      "cell_type": "code",
      "source": [
        "len(new_train_data), len(new_test_data)"
      ],
      "metadata": {
        "colab": {
          "base_uri": "https://localhost:8080/"
        },
        "id": "7nFAGhjdvG6j",
        "outputId": "2aa63ad4-23bb-49b6-92f6-a938c12d915c"
      },
      "execution_count": 16,
      "outputs": [
        {
          "output_type": "execute_result",
          "data": {
            "text/plain": [
              "(50000, 5000)"
            ]
          },
          "metadata": {},
          "execution_count": 16
        }
      ]
    },
    {
      "cell_type": "markdown",
      "source": [
        "## Make dataloader"
      ],
      "metadata": {
        "id": "-nqpkrX9LhDE"
      }
    },
    {
      "cell_type": "code",
      "source": [
        "BATCH_SIZE = 32\n",
        "\n",
        "# train dataloader\n",
        "train_dataloader = DataLoader(dataset = new_train_data, batch_size = BATCH_SIZE, shuffle = True)\n",
        "\n",
        "# test dataloader\n",
        "test_dataloader = DataLoader(dataset = new_test_data, batch_size = BATCH_SIZE, shuffle = False)"
      ],
      "metadata": {
        "id": "Vq5uxsEbLlNU"
      },
      "execution_count": 17,
      "outputs": []
    },
    {
      "cell_type": "code",
      "source": [
        "print(f'Total {len(train_dataloader)} of train each of {BATCH_SIZE} batches.')\n",
        "print(f'Total {len(test_dataloader)} of test each of {BATCH_SIZE} batches.')"
      ],
      "metadata": {
        "colab": {
          "base_uri": "https://localhost:8080/"
        },
        "id": "g496XUq9MMru",
        "outputId": "7e4bf6c3-1b32-483d-84e1-09e9c9080511"
      },
      "execution_count": 18,
      "outputs": [
        {
          "output_type": "stream",
          "name": "stdout",
          "text": [
            "Total 1563 of train each of 32 batches.\n",
            "Total 157 of test each of 32 batches.\n"
          ]
        }
      ]
    },
    {
      "cell_type": "code",
      "source": [
        "# class name\n",
        "class_names = [train_data.classes[i] for i in range(len(train_data.classes)) if i % 2 == 0] \n",
        "class_names"
      ],
      "metadata": {
        "id": "rC6_Aqx0NpUj",
        "colab": {
          "base_uri": "https://localhost:8080/"
        },
        "outputId": "d8a40219-549e-4e0f-e1f3-f92680e61f0c"
      },
      "execution_count": 19,
      "outputs": [
        {
          "output_type": "execute_result",
          "data": {
            "text/plain": [
              "['airplane', 'bird', 'deer', 'frog', 'ship']"
            ]
          },
          "metadata": {},
          "execution_count": 19
        }
      ]
    },
    {
      "cell_type": "code",
      "source": [
        "image, label = new_test_data[0]\n",
        "print(f\"image_shape: {image.shape}\")\n",
        "plt.imshow(image.permute(1,2,0).squeeze())\n",
        "plt.title(class_names[label//2])"
      ],
      "metadata": {
        "colab": {
          "base_uri": "https://localhost:8080/",
          "height": 487
        },
        "id": "WZuGNc-nNdZq",
        "outputId": "c258918a-c435-4665-e14b-549b87c86020"
      },
      "execution_count": 21,
      "outputs": [
        {
          "output_type": "stream",
          "name": "stdout",
          "text": [
            "image_shape: torch.Size([3, 32, 32])\n"
          ]
        },
        {
          "output_type": "execute_result",
          "data": {
            "text/plain": [
              "Text(0.5, 1.0, 'ship')"
            ]
          },
          "metadata": {},
          "execution_count": 21
        },
        {
          "output_type": "display_data",
          "data": {
            "text/plain": [
              "<Figure size 640x480 with 1 Axes>"
            ],
            "image/png": "[encoded data removed]"
          },
          "metadata": {}
        }
      ]
    },
    {
      "cell_type": "markdown",
      "source": [
        "## Train and Test Loop"
      ],
      "metadata": {
        "id": "d9eGKkYoNjzD"
      }
    },
    {
      "cell_type": "code",
      "source": [
        "# train\n",
        "def train_loop(model: torch.nn.Module, dataloader: torch.utils.data.DataLoader,\n",
        "               loss_fn: torch.nn.Module, optimizer: torch.optim.Optimizer,\n",
        "               accuracy_fn, device: torch.device = device):\n",
        "  \n",
        "  model.train()\n",
        "\n",
        "  train_loss, train_acc = 0, 0\n",
        "  for batch, (x_train, y_train) in enumerate(dataloader):\n",
        "    \n",
        "    if device == 'cuda':\n",
        "      x_train, y_train = x_train.to(device), y_train.to(device)\n",
        "\n",
        "    \n",
        "    y_train = y_train // 2\n",
        "    # 1. Forward step\n",
        "    pred = model(x_train)\n",
        "\n",
        "    # 2. Loss\n",
        "    loss = loss_fn(pred, y_train)\n",
        "    \n",
        "\n",
        "    # 3. Grad zerostep\n",
        "    optimizer.zero_grad()\n",
        "\n",
        "    # 4. Backward\n",
        "    loss.backward()\n",
        "\n",
        "    # 5. Optimizer step\n",
        "    optimizer.step()\n",
        "\n",
        "    acc = accuracy_fn(y_train, torch.argmax(pred, dim=1))\n",
        "    train_loss += loss\n",
        "    train_acc += acc\n",
        "\n",
        "  train_loss /= len(dataloader)\n",
        "  train_acc /= len(dataloader)\n",
        "\n",
        "  return train_loss, train_acc\n",
        "\n",
        "\n",
        "# test\n",
        "def test_loop(model: torch.nn.Module, dataloader: torch.utils.data.DataLoader,\n",
        "              loss_fn: torch.nn.Module, accuracy_fn, \n",
        "              device: torch.device = device):\n",
        "  \n",
        "  test_loss, test_acc = 0, 0\n",
        "  model.eval()\n",
        "  with torch.inference_mode():\n",
        "    for x_test, y_test in dataloader:\n",
        "\n",
        "      if device == 'cuda':\n",
        "        x_test, y_test = x_test.to(device), y_test.to(device)\n",
        "\n",
        "      y_test = y_test // 2\n",
        "      # 1. Forward\n",
        "      test_pred = model(x_test)\n",
        "      \n",
        "      # 2. Loss and accuray\n",
        "      test_loss += loss_fn(test_pred, y_test)\n",
        "      test_acc += accuracy_fn(y_test, torch.argmax(test_pred, dim=1))\n",
        "\n",
        "    test_loss /= len(dataloader)\n",
        "    test_acc /= len(dataloader)\n",
        "\n",
        "  return test_loss, test_acc"
      ],
      "metadata": {
        "id": "blCjS4thOBTM"
      },
      "execution_count": 22,
      "outputs": []
    },
    {
      "cell_type": "markdown",
      "source": [
        "## Plot function for Loss / Accuracy VS Epoch"
      ],
      "metadata": {
        "id": "FEdv4sdqOTiC"
      }
    },
    {
      "cell_type": "code",
      "source": [
        "def plot_graph(train_losses, test_losses, train_accs, test_accs):\n",
        "  plt.figure(figsize = (20, 8))\n",
        "  plt.subplot(1, 2, 1)\n",
        "  plt.plot(range(len(train_losses)), train_losses, label = \"Train Loss\")\n",
        "  plt.plot(range(len(test_losses)), test_losses, label = \"Test Loss\")\n",
        "  plt.legend()\n",
        "  plt.xlabel(\"Epoches\")\n",
        "  plt.ylabel(\"Loss\")\n",
        "  # plt.show()\n",
        "\n",
        "  plt.subplot(1, 2, 2)\n",
        "  plt.plot(range(len(train_accs)), train_accs, label = \"Train Accuracy\")\n",
        "  plt.plot(range(len(test_accs)), test_accs, label = \"Test Accuracy\")\n",
        "  plt.legend()\n",
        "  plt.xlabel(\"Epoches\")\n",
        "  plt.ylabel(\"Accuracy\")\n",
        "  plt.show()"
      ],
      "metadata": {
        "id": "Z45ir4wvOTeL"
      },
      "execution_count": 23,
      "outputs": []
    },
    {
      "cell_type": "markdown",
      "source": [
        "## Loss and Accuracy Function"
      ],
      "metadata": {
        "id": "tCr279v6OB1n"
      }
    },
    {
      "cell_type": "code",
      "source": [
        "# loss\n",
        "loss_fn = nn.CrossEntropyLoss()\n",
        "\n",
        "# accuray\n",
        "accuracy_fn = MulticlassAccuracy(num_classes = 10).to(device)"
      ],
      "metadata": {
        "id": "e8l_XN-POEEx"
      },
      "execution_count": 24,
      "outputs": []
    },
    {
      "cell_type": "markdown",
      "source": [
        "# Build model"
      ],
      "metadata": {
        "id": "rHbPkVSrOTCt"
      }
    },
    {
      "cell_type": "markdown",
      "source": [
        "## using cosine positional embedding"
      ],
      "metadata": {
        "id": "Q0eYIOahOhlT"
      }
    },
    {
      "cell_type": "code",
      "source": [
        "# patch class\n",
        "class PatchEmbeddings(nn.Module):\n",
        "    def __init__(self, img_size, patch_size, in_chans=3, embed_dim=768):\n",
        "        super().__init__()\n",
        "        self.img_size = img_size\n",
        "        self.patch_size = patch_size\n",
        "        self.n_patches = (img_size // patch_size) ** 2\n",
        "\n",
        "        self.flatten = nn.Flatten()\n",
        "        self.patcher = nn.Conv2d(in_chans, embed_dim, kernel_size=patch_size, stride=patch_size)\n",
        "\n",
        "    def forward(self, x):\n",
        "        #x = image (batchsize, channels, row, cols)                 \n",
        "        x = self.patcher(x)  # (batchsize, embed_dim, n_patches ** 0.5, n_patches ** 0.5)\n",
        "\n",
        "        # print(x.shape)\n",
        "        x = x.flatten(2)  # (batchsize, embed_dim, n_patches)\n",
        "        # print(x.shape)\n",
        "        x = x.transpose(1, 2)  # (batchsize, n_patches, embed_dim)\n",
        "\n",
        "        return x"
      ],
      "metadata": {
        "id": "8r61WTdNOyY_"
      },
      "execution_count": 33,
      "outputs": []
    },
    {
      "cell_type": "code",
      "source": [
        "# cosin pos encoding\n",
        "class CosinePositionalEncoding(nn.Module):\n",
        "    def __init__(self, max_seq_length, hidden_size):\n",
        "        super(CosinePositionalEncoding, self).__init__()\n",
        "        self.max_seq_length = max_seq_length\n",
        "        self.hidden_size = hidden_size\n",
        "        self.pos_enc = self._get_positional_encoding()\n",
        "\n",
        "    def _get_positional_encoding(self):\n",
        "        pos_enc = torch.zeros(self.max_seq_length, self.hidden_size)\n",
        "        position = torch.arange(0, self.max_seq_length, dtype=torch.float).unsqueeze(1)\n",
        "        div_term = torch.exp(torch.arange(0, self.hidden_size, 2).float() * (-np.log(10000.0) / self.hidden_size))\n",
        "        pos_enc[:, 0::2] = torch.sin(position * div_term)\n",
        "        pos_enc[:, 1::2] = torch.cos(position * div_term)\n",
        "        pos_enc = pos_enc.unsqueeze(0)\n",
        "        return pos_enc.to(device)\n",
        "\n",
        "    def forward(self, x):\n",
        "        batch_size, seq_length, hidden_size = x.shape\n",
        "        x = x + self.pos_enc[:, :seq_length, :]\n",
        "        return x"
      ],
      "metadata": {
        "id": "GBgBaTiiyH01"
      },
      "execution_count": 34,
      "outputs": []
    },
    {
      "cell_type": "code",
      "source": [
        "# learnabel pos encoding\n",
        "class LearnablePositionalEncoding(nn.Module):\n",
        "    def __init__(self, seq_length, embed_size):\n",
        "        super(LearnablePositionalEncoding, self).__init__()\n",
        "\n",
        "        self.pos_enc = nn.Parameter(torch.randn(seq_length, embed_size))\n",
        "\n",
        "    def forward(self, x):\n",
        "        pos = torch.arange(x.size(1), device=x.device).unsqueeze(0)\n",
        "        x = x + self.pos_enc[pos, :]\n",
        "        return x"
      ],
      "metadata": {
        "id": "fH5nZFp_0M4V"
      },
      "execution_count": 35,
      "outputs": []
    },
    {
      "cell_type": "code",
      "source": [
        "# MLP\n",
        "class MLP(nn.Module):\n",
        "  def __init__(self, in_features, hidden_features, out_features, p=0.2):\n",
        "    super(MLP, self).__init__()\n",
        "    self.fc1 = nn.Linear(in_features, hidden_features)\n",
        "    \n",
        "    self.act = nn.GELU()\n",
        "    \n",
        "    self.fc2 = nn.Linear(hidden_features, out_features)\n",
        "    self.drop = nn.Dropout(p)\n",
        "\n",
        "  def forward(self, x):\n",
        "    x = self.fc1(x) # (batchsize, n_patches + 1, hidden_features)\n",
        "    x = self.act(x)\n",
        "    x = self.drop(x) \n",
        "    x = self.fc2(x)  # (batchsize, n_patches + 1, out_features)\n",
        "    x = self.drop(x) \n",
        "\n",
        "    return x"
      ],
      "metadata": {
        "id": "PuVZ3GdvyMN5"
      },
      "execution_count": 36,
      "outputs": []
    },
    {
      "cell_type": "code",
      "source": [
        "# self attention\n",
        "class Attention(nn.Module):\n",
        "\n",
        "    def __init__(self, dim, n_heads=12, qkv_bias=True, attn_p=0.1, proj_p=0.1):\n",
        "        super().__init__()\n",
        "        self.n_heads = n_heads\n",
        "        self.dim = dim\n",
        "        self.head_dim = dim // n_heads\n",
        "        self.scale = self.head_dim ** -0.5\n",
        "\n",
        "        self.qkv = nn.Linear(dim, dim * 3, bias=qkv_bias)\n",
        "        self.attn_drop = nn.Dropout(attn_p)\n",
        "        self.proj = nn.Linear(dim, dim)\n",
        "        self.proj_drop = nn.Dropout(proj_p)\n",
        "\n",
        "    def forward(self, x):\n",
        "        \n",
        "        n_samples, n_tokens, dim = x.shape #n_samples -> batch_size\n",
        "\n",
        "        if dim != self.dim:\n",
        "            raise ValueError\n",
        "\n",
        "        qkv = self.qkv(x)  # (n_samples, n_patches + 1, 3 * dim)\n",
        "        qkv = qkv.reshape( n_samples, n_tokens, 3, self.n_heads, self.head_dim)  # (n_smaples, n_patches + 1, 3, n_heads, head_dim)\n",
        "        qkv = qkv.permute(2, 0, 3, 1, 4)  # (3, n_samples, n_heads, n_patches + 1, head_dim)\n",
        "\n",
        "        q, k, v = qkv[0], qkv[1], qkv[2]\n",
        "        k_t = k.transpose(-2, -1)  # (n_samples, n_heads, head_dim, n_patches + 1)\n",
        "        dp = (q @ k_t) * self.scale # (n_samples, n_heads, n_patches + 1, n_patches + 1)\n",
        "        attn = dp.softmax(dim= 1)  # (n_samples, n_heads, n_patches + 1, n_patches + 1)\n",
        "        attn = self.attn_drop(attn)\n",
        "\n",
        "        weighted_avg = attn @ v  # (n_samples, n_heads, n_patches +1, head_dim)\n",
        "        weighted_avg = weighted_avg.transpose(\n",
        "                1, 2\n",
        "        )  # (n_samples, n_patches + 1, n_heads, head_dim)\n",
        "        weighted_avg = weighted_avg.flatten(2)  # (n_samples, n_patches + 1, dim)\n",
        "\n",
        "        x = self.proj(weighted_avg)  # (n_samples, n_patches + 1, dim)\n",
        "        x = self.proj_drop(x)  # (n_samples, n_patches + 1, dim)\n",
        "\n",
        "        return x"
      ],
      "metadata": {
        "id": "UWFbMz5cyPgH"
      },
      "execution_count": 38,
      "outputs": []
    },
    {
      "cell_type": "code",
      "source": [
        "# Transformer block\n",
        "class TransformerBlock(nn.Module):\n",
        "  def __init__(self, dim, num_heads, mlp_ratio = 4, attention_p = 0.3, bias = True, add_bias_kv = True):\n",
        "    super().__init__()\n",
        "    self.layernorm1 = nn.LayerNorm(dim, eps=1e-6)\n",
        "\n",
        "    self.qkv = nn.Linear(dim, dim * 3, bias = add_bias_kv)\n",
        "    #self.attention = nn.MultiheadAttention(dim, num_heads, dropout = attention_p, bias = True, add_bias_kv = True)\n",
        "    self.attention = Attention(dim, num_heads)\n",
        "    self.layernorm2 = nn.LayerNorm(dim, eps=1e-6)\n",
        "    hidden_features = int(dim * mlp_ratio)\n",
        "    self.mlp = MLP(in_features=dim, hidden_features = hidden_features, out_features=dim)\n",
        "\n",
        "  def forward(self, x):\n",
        "    #batchsize, n_tokens, dim = x.shape\n",
        "    #self.qkv\n",
        "    x = x + self.attention(self.layernorm1(x))\n",
        "    x = x + self.mlp(self.layernorm2(x))\n",
        "\n",
        "    return x"
      ],
      "metadata": {
        "id": "UpBdRBb9yS8H"
      },
      "execution_count": 39,
      "outputs": []
    },
    {
      "cell_type": "code",
      "source": [
        "# vision tran\n",
        "class VisionTransformer(nn.Module):\n",
        "  def __init__(self, image_size = 32, patch_size = 16, in_channels = 3, classes = 10, embd_dim = 768, depth = 12,\n",
        "               num_heads = 6, mlp_ratio = 4, p = 0.2, attention_p = 0.2, \n",
        "               activation = 'relu', learn_pos_encode = False, num_blocks = 4):\n",
        "    super().__init__()\n",
        "\n",
        "    self.patching = PatchEmbeddings(image_size, patch_size, in_channels, embd_dim)\n",
        "\n",
        "    self.n_patches = self.patching.n_patches\n",
        "\n",
        "    if learn_pos_encode:\n",
        "      self.pos_embedding = LearnablePositionalEncoding(self.n_patches, embd_dim)\n",
        "    else:\n",
        "      self.pos_embedding = CosinePositionalEncoding(self.n_patches, embd_dim).to(device)\n",
        "\n",
        "\n",
        "    self.blocks = nn.ModuleList([\n",
        "            TransformerBlock(embd_dim, num_heads, mlp_ratio, bias = True, add_bias_kv = True)\n",
        "            for _ in range(num_blocks)\n",
        "        ])\n",
        "\n",
        "    self.decoder1 = TransformerBlock(embd_dim, num_heads, mlp_ratio, bias = True, add_bias_kv = True)\n",
        "\n",
        "    self.layernorm = nn.LayerNorm(embd_dim, eps=1e-6)\n",
        "    self.fc = nn.Linear(embd_dim, classes)\n",
        "\n",
        "    if activation == 'relu':\n",
        "      self.act = nn.ReLU()\n",
        "    else:\n",
        "      self.act = nn.Tanh()\n",
        "\n",
        "    self.softmax = nn.Softmax(dim = 1)\n",
        "  \n",
        "  def forward(self, x):\n",
        "\n",
        "    x = self.patching(x)\n",
        "    x = self.pos_embedding(x)\n",
        "\n",
        "    for block in self.blocks:\n",
        "      x = self.act(block(x))\n",
        "\n",
        "    \n",
        "    x = self.layernorm(x)\n",
        "    #print(x.shape)\n",
        "    cls_token_final = x[:, 0]\n",
        "    x = self.fc(cls_token_final)\n",
        "    return x\n"
      ],
      "metadata": {
        "id": "-_az9vqtyeGA"
      },
      "execution_count": 43,
      "outputs": []
    },
    {
      "cell_type": "markdown",
      "source": [
        "# train model"
      ],
      "metadata": {
        "id": "NPIC24YkyvPr"
      }
    },
    {
      "cell_type": "markdown",
      "source": [
        "## cosin pos with relu"
      ],
      "metadata": {
        "id": "gU7VR30Q1Ojx"
      }
    },
    {
      "cell_type": "code",
      "source": [
        "# init. epochs\n",
        "epoches = 11\n",
        "\n",
        "cos_pos_relu = VisionTransformer(learn_pos_encode = False, num_heads = 8, num_blocks = 6, activation = 'relu').to(device)\n",
        "\n",
        "# optimizer\n",
        "optimizer = torch.optim.Adam(params = cos_pos_relu.parameters(), lr = 1e-3)\n",
        "cos_pos_relu_train_loss, cos_pos_relu_test_loss = [], []\n",
        "cos_pos_relu_train_accs, cos_pos_relu_test_accs = [], []\n",
        "\n",
        "\n",
        "torch.manual_seed(64)\n",
        "torch.cuda.manual_seed(64)\n",
        "start_time = timer()\n",
        "for epoch in tqdm(range(epoches)):\n",
        "\n",
        "  train_loss, train_acc = train_loop(model = cos_pos_relu, dataloader = train_dataloader,\n",
        "                                    loss_fn = loss_fn, optimizer = optimizer,\n",
        "                                    accuracy_fn = accuracy_fn, device = device)\n",
        "  \n",
        "  test_loss, test_acc = test_loop(model = cos_pos_relu, dataloader = test_dataloader,\n",
        "                                  loss_fn = loss_fn, accuracy_fn = accuracy_fn,\n",
        "                                  device = device)\n",
        "  \n",
        "  cos_pos_relu_train_loss.append(train_loss.item())\n",
        "  cos_pos_relu_test_loss.append(test_loss.item())\n",
        "  cos_pos_relu_train_accs.append(train_acc.item())\n",
        "  cos_pos_relu_test_accs.append(test_acc.item())\n",
        "\n",
        "  print(f\"Epoch: {epoch+1}  Train Loss: {train_loss:.4f} | Test Loss: {test_loss:.4f} | Train Accuray: {train_acc:.4f} | Test Accuracy: {test_acc:.4f}\")\n",
        "\n",
        "end_time = timer()\n",
        "plot_graph(cos_pos_relu_train_loss, cos_pos_relu_test_loss, cos_pos_relu_train_accs, cos_pos_relu_test_accs)\n",
        "print(f\"train ing time: {end_time - start_time}\")\n",
        "\n",
        "# save_model('cifair10_cos_pos_relu.pth', cos_pos_relu)\n",
        "# print(\"Model saved\")"
      ],
      "metadata": {
        "colab": {
          "base_uri": "https://localhost:8080/",
          "height": 850,
          "referenced_widgets": [
            "af1343ed369d465caba8d8716a56251c",
            "274c98fe9bf5488080be88902a9bcb30",
            "9566de66ba084ada8ae20b400aac407d",
            "608e8a93649243b8a8e12012b565d9c6",
            "f4cf30d0ecbd46ddbea9918ca50834f2",
            "cd0b32841eda4c45aba423405bdf1b15",
            "515b9113883344e7896d0e89f31e8e76",
            "f8281d91c9134ab4b7413f2b149b4377",
            "e4a1a95c1b024e1580f87a13ced08253",
            "1c4b6fe4a2a749afa7287a6a4ed7b6ed",
            "2b633053c0d5488783eaf5d3918f2eef"
          ]
        },
        "id": "ruY0rPEE1RGM",
        "outputId": "5dc6d014-4eec-4968-b5ac-05ac507976e5"
      },
      "execution_count": 44,
      "outputs": [
        {
          "output_type": "display_data",
          "data": {
            "text/plain": [
              "  0%|          | 0/11 [00:00<?, ?it/s]"
            ],
            "application/vnd.jupyter.widget-view+json": {
              "version_major": 2,
              "version_minor": 0,
              "model_id": "af1343ed369d465caba8d8716a56251c"
            }
          },
          "metadata": {}
        },
        {
          "output_type": "stream",
          "name": "stdout",
          "text": [
            "Epoch: 1  Train Loss: 1.3966 | Test Loss: 1.3084 | Train Accuray: 0.1132 | Test Accuracy: 0.1375\n",
            "Epoch: 2  Train Loss: 1.3203 | Test Loss: 1.2955 | Train Accuray: 0.1604 | Test Accuracy: 0.2037\n",
            "Epoch: 3  Train Loss: 1.2851 | Test Loss: 1.2333 | Train Accuray: 0.2041 | Test Accuracy: 0.2180\n",
            "Epoch: 4  Train Loss: 1.2574 | Test Loss: 1.2347 | Train Accuray: 0.2126 | Test Accuracy: 0.1777\n",
            "Epoch: 5  Train Loss: 1.2712 | Test Loss: 1.2681 | Train Accuray: 0.2076 | Test Accuracy: 0.2195\n",
            "Epoch: 6  Train Loss: 1.2548 | Test Loss: 1.2273 | Train Accuray: 0.2146 | Test Accuracy: 0.2278\n",
            "Epoch: 7  Train Loss: 1.2320 | Test Loss: 1.2169 | Train Accuray: 0.2270 | Test Accuracy: 0.2273\n",
            "Epoch: 8  Train Loss: 1.2216 | Test Loss: 1.1714 | Train Accuray: 0.2332 | Test Accuracy: 0.2483\n",
            "Epoch: 9  Train Loss: 1.1852 | Test Loss: 1.1559 | Train Accuray: 0.2436 | Test Accuracy: 0.2569\n",
            "Epoch: 10  Train Loss: 1.1748 | Test Loss: 1.1906 | Train Accuray: 0.2480 | Test Accuracy: 0.2487\n",
            "Epoch: 11  Train Loss: 1.1799 | Test Loss: 1.1207 | Train Accuray: 0.2479 | Test Accuracy: 0.2616\n"
          ]
        },
        {
          "output_type": "display_data",
          "data": {
            "text/plain": [
              "<Figure size 2000x800 with 2 Axes>"
            ],
            "image/png": "[encoded data removed]"
          },
          "metadata": {}
        },
        {
          "output_type": "stream",
          "name": "stdout",
          "text": [
            "train ing time: 637.9368668800003\n"
          ]
        }
      ]
    },
    {
      "cell_type": "markdown",
      "source": [
        "## learn pos with relu"
      ],
      "metadata": {
        "id": "t4qr3vOwCqI0"
      }
    },
    {
      "cell_type": "code",
      "source": [
        "# init. epochs\n",
        "epoches = 11\n",
        "\n",
        "learn_pos_relu = VisionTransformer(learn_pos_encode = True, num_heads = 8, num_blocks = 6, activation = 'relu').to(device)\n",
        "\n",
        "# optimizer\n",
        "optimizer = torch.optim.Adam(params = learn_pos_relu.parameters(), lr = 1e-3)\n",
        "learn_pos_relu_train_loss, learn_pos_relu_test_loss = [], []\n",
        "learn_pos_relu_train_accs, learn_pos_relu_test_accs = [], []\n",
        "\n",
        "\n",
        "torch.manual_seed(64)\n",
        "torch.cuda.manual_seed(64)\n",
        "start_time = timer()\n",
        "for epoch in tqdm(range(epoches)):\n",
        "\n",
        "  train_loss, train_acc = train_loop(model = learn_pos_relu, dataloader = train_dataloader,\n",
        "                                    loss_fn = loss_fn, optimizer = optimizer,\n",
        "                                    accuracy_fn = accuracy_fn, device = device)\n",
        "  \n",
        "  test_loss, test_acc = test_loop(model = learn_pos_relu, dataloader = test_dataloader,\n",
        "                                  loss_fn = loss_fn, accuracy_fn = accuracy_fn,\n",
        "                                  device = device)\n",
        "  \n",
        "  learn_pos_relu_train_loss.append(train_loss.item())\n",
        "  learn_pos_relu_test_loss.append(test_loss.item())\n",
        "  learn_pos_relu_train_accs.append(train_acc.item())\n",
        "  learn_pos_relu_test_accs.append(test_acc.item())\n",
        "\n",
        "  print(f\"Epoch: {epoch+1}  Train Loss: {train_loss:.4f} | Test Loss: {test_loss:.4f} | Train Accuray: {train_acc:.4f} | Test Accuracy: {test_acc:.4f}\")\n",
        "\n",
        "end_time = timer()\n",
        "plot_graph(learn_pos_relu_train_loss, learn_pos_relu_test_loss, learn_pos_relu_train_accs, learn_pos_relu_test_accs)\n",
        "print(f\"train ing time: {end_time - start_time}\")\n",
        "\n",
        "# save_model('cifair10_learn_pos_relu.pth', learn_pos_relu)\n",
        "# print(\"Model saved\")"
      ],
      "metadata": {
        "colab": {
          "base_uri": "https://localhost:8080/",
          "height": 853,
          "referenced_widgets": [
            "96f398d3854e4ab09204f73d3cc4a357",
            "579159f9aafb4100950212368574247a",
            "8f81e95397624875a5c9df188f2461c5",
            "979e1e01d7de4e42a9d8521f716028a4",
            "b9e6582918c249d18a73289e6bbf6dc9",
            "215ed0da3acf47289c0e00d01acdb08f",
            "3710637876b44825b8a621b155f35048",
            "4b26930fc6954d5aa92562435f090f72",
            "306c6943933b4cb9b0f245e171243aed",
            "85cc99b4f3b0450ba2119b71585b7492",
            "300c1040ec8e48c9a21615b57f9a5512"
          ]
        },
        "id": "iOswskl122rE",
        "outputId": "21c881cd-979f-4193-df3a-be233b5d1265"
      },
      "execution_count": 45,
      "outputs": [
        {
          "output_type": "display_data",
          "data": {
            "text/plain": [
              "  0%|          | 0/11 [00:00<?, ?it/s]"
            ],
            "application/vnd.jupyter.widget-view+json": {
              "version_major": 2,
              "version_minor": 0,
              "model_id": "96f398d3854e4ab09204f73d3cc4a357"
            }
          },
          "metadata": {}
        },
        {
          "output_type": "stream",
          "name": "stdout",
          "text": [
            "Epoch: 1  Train Loss: 1.3877 | Test Loss: 1.3020 | Train Accuray: 0.1174 | Test Accuracy: 0.1300\n",
            "Epoch: 2  Train Loss: 1.3020 | Test Loss: 1.2931 | Train Accuray: 0.1870 | Test Accuracy: 0.1931\n",
            "Epoch: 3  Train Loss: 1.2666 | Test Loss: 1.2100 | Train Accuray: 0.2110 | Test Accuracy: 0.2345\n",
            "Epoch: 4  Train Loss: 1.2544 | Test Loss: 1.2233 | Train Accuray: 0.2147 | Test Accuracy: 0.2179\n",
            "Epoch: 5  Train Loss: 1.2722 | Test Loss: 1.2809 | Train Accuray: 0.2055 | Test Accuracy: 0.1848\n",
            "Epoch: 6  Train Loss: 1.2397 | Test Loss: 1.1959 | Train Accuray: 0.2255 | Test Accuracy: 0.2409\n",
            "Epoch: 7  Train Loss: 1.2312 | Test Loss: 1.2059 | Train Accuray: 0.2242 | Test Accuracy: 0.2319\n",
            "Epoch: 8  Train Loss: 1.2090 | Test Loss: 1.1571 | Train Accuray: 0.2355 | Test Accuracy: 0.2418\n",
            "Epoch: 9  Train Loss: 1.1876 | Test Loss: 1.1285 | Train Accuray: 0.2424 | Test Accuracy: 0.2549\n",
            "Epoch: 10  Train Loss: 1.1640 | Test Loss: 1.1152 | Train Accuray: 0.2538 | Test Accuracy: 0.2625\n",
            "Epoch: 11  Train Loss: 1.1410 | Test Loss: 1.1176 | Train Accuray: 0.2584 | Test Accuracy: 0.2642\n"
          ]
        },
        {
          "output_type": "display_data",
          "data": {
            "text/plain": [
              "<Figure size 2000x800 with 2 Axes>"
            ],
            "image/png": "[encoded data removed]"
          },
          "metadata": {}
        },
        {
          "output_type": "stream",
          "name": "stdout",
          "text": [
            "train ing time: 587.6857188160002\n"
          ]
        }
      ]
    },
    {
      "cell_type": "markdown",
      "source": [
        "## cos pos with tanh"
      ],
      "metadata": {
        "id": "Hd9EM5gE3zel"
      }
    },
    {
      "cell_type": "code",
      "source": [
        "# init. epochs\n",
        "epoches = 11\n",
        "\n",
        "cos_pos_tanh = VisionTransformer(learn_pos_encode = False, num_heads = 8, num_blocks = 6, activation = 'tanh').to(device)\n",
        "\n",
        "# optimizer\n",
        "optimizer = torch.optim.Adam(params = cos_pos_tanh.parameters(), lr = 1e-3)\n",
        "cos_pos_tanh_train_loss, cos_pos_tanh_test_loss = [], []\n",
        "cos_pos_tanh_train_accs, cos_pos_tanh_test_accs = [], []\n",
        "\n",
        "\n",
        "torch.manual_seed(64)\n",
        "torch.cuda.manual_seed(64)\n",
        "start_time = timer()\n",
        "for epoch in tqdm(range(epoches)):\n",
        "\n",
        "  train_loss, train_acc = train_loop(model = cos_pos_tanh, dataloader = train_dataloader,\n",
        "                                    loss_fn = loss_fn, optimizer = optimizer,\n",
        "                                    accuracy_fn = accuracy_fn, device = device)\n",
        "  \n",
        "  test_loss, test_acc = test_loop(model = cos_pos_tanh, dataloader = test_dataloader,\n",
        "                                  loss_fn = loss_fn, accuracy_fn = accuracy_fn,\n",
        "                                  device = device)\n",
        "  \n",
        "  cos_pos_tanh_train_loss.append(train_loss.item())\n",
        "  cos_pos_tanh_test_loss.append(test_loss.item())\n",
        "  cos_pos_tanh_train_accs.append(train_acc.item())\n",
        "  cos_pos_tanh_test_accs.append(test_acc.item())\n",
        "\n",
        "  print(f\"Epoch: {epoch+1}  Train Loss: {train_loss:.4f} | Test Loss: {test_loss:.4f} | Train Accuray: {train_acc:.4f} | Test Accuracy: {test_acc:.4f}\")\n",
        "\n",
        "end_time = timer()\n",
        "plot_graph(cos_pos_tanh_train_loss, cos_pos_tanh_test_loss, cos_pos_tanh_train_accs, cos_pos_tanh_test_accs)\n",
        "print(f\"train ing time: {end_time - start_time}\")\n",
        "\n",
        "# save_model('cifair10_cos_pos_tanh.pth', cos_pos_tanh)\n",
        "# print(\"Model saved\")"
      ],
      "metadata": {
        "colab": {
          "base_uri": "https://localhost:8080/",
          "height": 850,
          "referenced_widgets": [
            "b65058b6c4c448e7b646bc8ae3c42057",
            "ac18b4e8841f40b883dbcbc2405f5b38",
            "439c6d0b437841208fd53a3bf242a5e9",
            "85687ddd8e474f2fbe9834ee3a7c8e0a",
            "7ac8f89c698f4a9cbbd186603f87f883",
            "5aa0abedbb8640fb87841b31530f96c1",
            "2cc28c4aed884a8e93db048ac6ef9f80",
            "92c594536f1345068cba810b3befb3b1",
            "65e25e0ce8114619b3c1e51ef8606b4c",
            "3a51e83126fd4ccebb0f04f268df88c8",
            "7f63d69f915c4d5c82268fdd82a79943"
          ]
        },
        "id": "VPwVABIl353J",
        "outputId": "5d16f5d8-1311-481c-eb2c-d10f5879b877"
      },
      "execution_count": 46,
      "outputs": [
        {
          "output_type": "display_data",
          "data": {
            "text/plain": [
              "  0%|          | 0/11 [00:00<?, ?it/s]"
            ],
            "application/vnd.jupyter.widget-view+json": {
              "version_major": 2,
              "version_minor": 0,
              "model_id": "b65058b6c4c448e7b646bc8ae3c42057"
            }
          },
          "metadata": {}
        },
        {
          "output_type": "stream",
          "name": "stdout",
          "text": [
            "Epoch: 1  Train Loss: 1.6861 | Test Loss: 1.7410 | Train Accuray: 0.0491 | Test Accuracy: 0.0199\n",
            "Epoch: 2  Train Loss: 1.6522 | Test Loss: 1.7050 | Train Accuray: 0.0486 | Test Accuracy: 0.0199\n",
            "Epoch: 3  Train Loss: 1.6477 | Test Loss: 1.6264 | Train Accuray: 0.0466 | Test Accuracy: 0.0200\n",
            "Epoch: 4  Train Loss: 1.6408 | Test Loss: 1.6351 | Train Accuray: 0.0524 | Test Accuracy: 0.0201\n",
            "Epoch: 5  Train Loss: 1.6371 | Test Loss: 1.6521 | Train Accuray: 0.0475 | Test Accuracy: 0.0200\n",
            "Epoch: 6  Train Loss: 1.6463 | Test Loss: 1.6135 | Train Accuray: 0.0584 | Test Accuracy: 0.0201\n",
            "Epoch: 7  Train Loss: 1.6312 | Test Loss: 1.6219 | Train Accuray: 0.0771 | Test Accuracy: 0.0201\n",
            "Epoch: 8  Train Loss: 1.6249 | Test Loss: 1.6118 | Train Accuray: 0.0816 | Test Accuracy: 0.0201\n",
            "Epoch: 9  Train Loss: 1.6228 | Test Loss: 1.6123 | Train Accuray: 0.0862 | Test Accuracy: 0.0201\n",
            "Epoch: 10  Train Loss: 1.6204 | Test Loss: 1.6160 | Train Accuray: 0.0897 | Test Accuracy: 0.0201\n",
            "Epoch: 11  Train Loss: 1.6191 | Test Loss: 1.6109 | Train Accuray: 0.0913 | Test Accuracy: 0.0201\n"
          ]
        },
        {
          "output_type": "display_data",
          "data": {
            "text/plain": [
              "<Figure size 2000x800 with 2 Axes>"
            ],
            "image/png": "[encoded data removed]"
          },
          "metadata": {}
        },
        {
          "output_type": "stream",
          "name": "stdout",
          "text": [
            "train ing time: 582.4674055289997\n"
          ]
        }
      ]
    },
    {
      "cell_type": "markdown",
      "source": [
        "## learn pos with tanh"
      ],
      "metadata": {
        "id": "AGwJbHQu4MmA"
      }
    },
    {
      "cell_type": "code",
      "source": [
        "## learn pos with relu\n",
        "# init. epochs\n",
        "epoches = 11\n",
        "\n",
        "learn_pos_tanh = VisionTransformer(learn_pos_encode = True, num_heads = 8, num_blocks = 6, activation = 'tanh').to(device)\n",
        "\n",
        "# optimizer\n",
        "optimizer = torch.optim.Adam(params = learn_pos_tanh.parameters(), lr = 1e-3)\n",
        "learn_pos_tanh_train_loss, learn_pos_tanh_test_loss = [], []\n",
        "learn_pos_tanh_train_accs, learn_pos_tanh_test_accs = [], []\n",
        "\n",
        "\n",
        "torch.manual_seed(64)\n",
        "torch.cuda.manual_seed(64)\n",
        "start_time = timer()\n",
        "for epoch in tqdm(range(epoches)):\n",
        "\n",
        "  train_loss, train_acc = train_loop(model = learn_pos_tanh, dataloader = train_dataloader,\n",
        "                                    loss_fn = loss_fn, optimizer = optimizer,\n",
        "                                    accuracy_fn = accuracy_fn, device = device)\n",
        "  \n",
        "  test_loss, test_acc = test_loop(model = learn_pos_tanh, dataloader = test_dataloader,\n",
        "                                  loss_fn = loss_fn, accuracy_fn = accuracy_fn,\n",
        "                                  device = device)\n",
        "  \n",
        "  learn_pos_tanh_train_loss.append(train_loss.item())\n",
        "  learn_pos_tanh_test_loss.append(test_loss.item())\n",
        "  learn_pos_tanh_train_accs.append(train_acc.item())\n",
        "  learn_pos_tanh_test_accs.append(test_acc.item())\n",
        "\n",
        "  print(f\"Epoch: {epoch+1}  Train Loss: {train_loss:.4f} | Test Loss: {test_loss:.4f} | Train Accuray: {train_acc:.4f} | Test Accuracy: {test_acc:.4f}\")\n",
        "\n",
        "end_time = timer()\n",
        "plot_graph(learn_pos_tanh_train_loss, learn_pos_tanh_test_loss, learn_pos_tanh_train_accs, learn_pos_tanh_test_accs)\n",
        "print(f\"train ing time: {end_time - start_time}\")\n",
        "\n",
        "# save_model('cifair10_learn_pos_tanh.pth', learn_pos_tanh)\n",
        "# print(\"Model saved\")"
      ],
      "metadata": {
        "colab": {
          "base_uri": "https://localhost:8080/",
          "height": 850,
          "referenced_widgets": [
            "6327301e865c44d588ff98db4d24fcba",
            "b315249496c14c1b889fd0669c1e3372",
            "f9986ee85d7e4705b5e3fd600a27e5c5",
            "c999a01600d04f3c8f3106dc66bb5cd6",
            "9243384ff2984124b5cb31659b5f7271",
            "e8587bbb7e2c4dfabe588b451e0fdde6",
            "6c7dca399b674468b500e1c362d48b7b",
            "08e19f0688e74852b1a5b7d9a2362e9b",
            "ec62d581a6de42ac9982ae56efe470ac",
            "cb03814247614d9e929e88240a6ae246",
            "82e37b41254b420084b38136cd76feab"
          ]
        },
        "id": "q3GS51ui4WLe",
        "outputId": "cb62a746-6f01-4b95-eb27-dd2a84c8ba46"
      },
      "execution_count": 47,
      "outputs": [
        {
          "output_type": "display_data",
          "data": {
            "text/plain": [
              "  0%|          | 0/11 [00:00<?, ?it/s]"
            ],
            "application/vnd.jupyter.widget-view+json": {
              "version_major": 2,
              "version_minor": 0,
              "model_id": "6327301e865c44d588ff98db4d24fcba"
            }
          },
          "metadata": {}
        },
        {
          "output_type": "stream",
          "name": "stdout",
          "text": [
            "Epoch: 1  Train Loss: 1.6740 | Test Loss: 1.7703 | Train Accuray: 0.0423 | Test Accuracy: 0.0199\n",
            "Epoch: 2  Train Loss: 1.6712 | Test Loss: 1.6821 | Train Accuray: 0.0537 | Test Accuracy: 0.0199\n",
            "Epoch: 3  Train Loss: 1.6547 | Test Loss: 1.6346 | Train Accuray: 0.0703 | Test Accuracy: 0.0200\n",
            "Epoch: 4  Train Loss: 1.6456 | Test Loss: 1.6461 | Train Accuray: 0.0734 | Test Accuracy: 0.0201\n",
            "Epoch: 5  Train Loss: 1.6388 | Test Loss: 1.6148 | Train Accuray: 0.0757 | Test Accuracy: 0.0200\n",
            "Epoch: 6  Train Loss: 1.6323 | Test Loss: 1.6215 | Train Accuray: 0.0827 | Test Accuracy: 0.0200\n",
            "Epoch: 7  Train Loss: 1.6286 | Test Loss: 1.6165 | Train Accuray: 0.0890 | Test Accuracy: 0.0201\n",
            "Epoch: 8  Train Loss: 1.6236 | Test Loss: 1.6118 | Train Accuray: 0.0896 | Test Accuracy: 0.0201\n",
            "Epoch: 9  Train Loss: 1.6386 | Test Loss: 1.6225 | Train Accuray: 0.0761 | Test Accuracy: 0.0200\n",
            "Epoch: 10  Train Loss: 1.6248 | Test Loss: 1.6321 | Train Accuray: 0.0687 | Test Accuracy: 0.0201\n",
            "Epoch: 11  Train Loss: 1.6200 | Test Loss: 1.6140 | Train Accuray: 0.0738 | Test Accuracy: 0.0201\n"
          ]
        },
        {
          "output_type": "display_data",
          "data": {
            "text/plain": [
              "<Figure size 2000x800 with 2 Axes>"
            ],
            "image/png": "[encoded data removed]"
          },
          "metadata": {}
        },
        {
          "output_type": "stream",
          "name": "stdout",
          "text": [
            "train ing time: 581.4097971070005\n"
          ]
        }
      ]
    }
  ]
}